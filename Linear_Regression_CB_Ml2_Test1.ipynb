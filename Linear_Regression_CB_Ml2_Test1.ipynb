{
 "cells": [
  {
   "cell_type": "markdown",
   "id": "f123fc8a",
   "metadata": {},
   "source": [
    "<h2 style=\"color:green\" align=\"center\">Machine Learnigng with Python: Linear Regression with One Variable </h2>"
   ]
  },
  {
   "cell_type": "markdown",
   "id": "a1547fa8",
   "metadata": {},
   "source": [
    "<h3 style=\"color:purple\" align=\"center\"> Canada Per Capita Income Prediction </h3>"
   ]
  },
  {
   "cell_type": "code",
   "execution_count": 1,
   "id": "34eecc4a",
   "metadata": {},
   "outputs": [],
   "source": [
    "import pandas as pd\n",
    "import numpy as np\n",
    "import matplotlib.pyplot as plt\n",
    "from sklearn import linear_model   # sklearn is a python module, from which linear model imported\n",
    "import warnings as wr\n",
    "wr.filterwarnings ('ignore')"
   ]
  },
  {
   "cell_type": "code",
   "execution_count": 5,
   "id": "200fa5ce",
   "metadata": {},
   "outputs": [
    {
     "data": {
      "text/html": [
       "<div>\n",
       "<style scoped>\n",
       "    .dataframe tbody tr th:only-of-type {\n",
       "        vertical-align: middle;\n",
       "    }\n",
       "\n",
       "    .dataframe tbody tr th {\n",
       "        vertical-align: top;\n",
       "    }\n",
       "\n",
       "    .dataframe thead th {\n",
       "        text-align: right;\n",
       "    }\n",
       "</style>\n",
       "<table border=\"1\" class=\"dataframe\">\n",
       "  <thead>\n",
       "    <tr style=\"text-align: right;\">\n",
       "      <th></th>\n",
       "      <th>year</th>\n",
       "      <th>per capita income (US$)</th>\n",
       "    </tr>\n",
       "  </thead>\n",
       "  <tbody>\n",
       "    <tr>\n",
       "      <th>0</th>\n",
       "      <td>1970</td>\n",
       "      <td>3399.299037</td>\n",
       "    </tr>\n",
       "    <tr>\n",
       "      <th>1</th>\n",
       "      <td>1971</td>\n",
       "      <td>3768.297935</td>\n",
       "    </tr>\n",
       "    <tr>\n",
       "      <th>2</th>\n",
       "      <td>1972</td>\n",
       "      <td>4251.175484</td>\n",
       "    </tr>\n",
       "    <tr>\n",
       "      <th>3</th>\n",
       "      <td>1973</td>\n",
       "      <td>4804.463248</td>\n",
       "    </tr>\n",
       "    <tr>\n",
       "      <th>4</th>\n",
       "      <td>1974</td>\n",
       "      <td>5576.514583</td>\n",
       "    </tr>\n",
       "  </tbody>\n",
       "</table>\n",
       "</div>"
      ],
      "text/plain": [
       "   year  per capita income (US$)\n",
       "0  1970              3399.299037\n",
       "1  1971              3768.297935\n",
       "2  1972              4251.175484\n",
       "3  1973              4804.463248\n",
       "4  1974              5576.514583"
      ]
     },
     "execution_count": 5,
     "metadata": {},
     "output_type": "execute_result"
    }
   ],
   "source": [
    "df = pd.read_csv(\"E:/M60/ml_dataset/canada_per_capita_income.csv\")\n",
    "df.head()"
   ]
  },
  {
   "cell_type": "code",
   "execution_count": 25,
   "id": "3b315a9c",
   "metadata": {},
   "outputs": [],
   "source": [
    "df.rename(columns={'per capita income (US$)':'per_capita_income'}, inplace=True)"
   ]
  },
  {
   "cell_type": "code",
   "execution_count": 26,
   "id": "242397c5",
   "metadata": {},
   "outputs": [
    {
     "name": "stdout",
     "output_type": "stream",
     "text": [
      "<class 'pandas.core.frame.DataFrame'>\n",
      "RangeIndex: 47 entries, 0 to 46\n",
      "Data columns (total 2 columns):\n",
      " #   Column             Non-Null Count  Dtype  \n",
      "---  ------             --------------  -----  \n",
      " 0   year               47 non-null     int64  \n",
      " 1   per_capita_income  47 non-null     float64\n",
      "dtypes: float64(1), int64(1)\n",
      "memory usage: 880.0 bytes\n"
     ]
    }
   ],
   "source": [
    "df.info()"
   ]
  },
  {
   "cell_type": "markdown",
   "id": "a4e6978b",
   "metadata": {},
   "source": [
    "* Input/ Independent Variable or X: Year\n",
    "* Target/ Dependent Variable or y: Income"
   ]
  },
  {
   "cell_type": "code",
   "execution_count": 27,
   "id": "50eb6cd1",
   "metadata": {},
   "outputs": [
    {
     "data": {
      "text/plain": [
       "0     1970\n",
       "1     1971\n",
       "2     1972\n",
       "3     1973\n",
       "4     1974\n",
       "5     1975\n",
       "6     1976\n",
       "7     1977\n",
       "8     1978\n",
       "9     1979\n",
       "10    1980\n",
       "11    1981\n",
       "12    1982\n",
       "13    1983\n",
       "14    1984\n",
       "15    1985\n",
       "16    1986\n",
       "17    1987\n",
       "18    1988\n",
       "19    1989\n",
       "20    1990\n",
       "21    1991\n",
       "22    1992\n",
       "23    1993\n",
       "24    1994\n",
       "25    1995\n",
       "26    1996\n",
       "27    1997\n",
       "28    1998\n",
       "29    1999\n",
       "30    2000\n",
       "31    2001\n",
       "32    2002\n",
       "33    2003\n",
       "34    2004\n",
       "35    2005\n",
       "36    2006\n",
       "37    2007\n",
       "38    2008\n",
       "39    2009\n",
       "40    2010\n",
       "41    2011\n",
       "42    2012\n",
       "43    2013\n",
       "44    2014\n",
       "45    2015\n",
       "46    2016\n",
       "Name: year, dtype: int64"
      ]
     },
     "execution_count": 27,
     "metadata": {},
     "output_type": "execute_result"
    }
   ],
   "source": [
    "# Exact Year from the dataset\n",
    "df['year']"
   ]
  },
  {
   "cell_type": "code",
   "execution_count": 28,
   "id": "4719f74b",
   "metadata": {},
   "outputs": [
    {
     "data": {
      "text/plain": [
       "0      3399.299037\n",
       "1      3768.297935\n",
       "2      4251.175484\n",
       "3      4804.463248\n",
       "4      5576.514583\n",
       "5      5998.144346\n",
       "6      7062.131392\n",
       "7      7100.126170\n",
       "8      7247.967035\n",
       "9      7602.912681\n",
       "10     8355.968120\n",
       "11     9434.390652\n",
       "12     9619.438377\n",
       "13    10416.536590\n",
       "14    10790.328720\n",
       "15    11018.955850\n",
       "16    11482.891530\n",
       "17    12974.806620\n",
       "18    15080.283450\n",
       "19    16426.725480\n",
       "20    16838.673200\n",
       "21    17266.097690\n",
       "22    16412.083090\n",
       "23    15875.586730\n",
       "24    15755.820270\n",
       "25    16369.317250\n",
       "26    16699.826680\n",
       "27    17310.757750\n",
       "28    16622.671870\n",
       "29    17581.024140\n",
       "30    18987.382410\n",
       "31    18601.397240\n",
       "32    19232.175560\n",
       "33    22739.426280\n",
       "34    25719.147150\n",
       "35    29198.055690\n",
       "36    32738.262900\n",
       "37    36144.481220\n",
       "38    37446.486090\n",
       "39    32755.176820\n",
       "40    38420.522890\n",
       "41    42334.711210\n",
       "42    42665.255970\n",
       "43    42676.468370\n",
       "44    41039.893600\n",
       "45    35175.188980\n",
       "46    34229.193630\n",
       "Name: per_capita_income, dtype: float64"
      ]
     },
     "execution_count": 28,
     "metadata": {},
     "output_type": "execute_result"
    }
   ],
   "source": [
    "# Exact per capita income from the dataset\n",
    "df['per_capita_income']"
   ]
  },
  {
   "cell_type": "code",
   "execution_count": 29,
   "id": "23d659b3",
   "metadata": {},
   "outputs": [
    {
     "data": {
      "image/png": "[encoded data removed]",
      "text/plain": [
       "<Figure size 640x480 with 1 Axes>"
      ]
     },
     "metadata": {},
     "output_type": "display_data"
    }
   ],
   "source": [
    "# relation bw year and per capita income (US$) columns of the dataset before the prediction\n",
    "plt.scatter(df['year'], df['per_capita_income'], color='red')\n",
    "plt.xlabel('Year', fontsize=15)\n",
    "plt.ylabel('Per Capita Income', fontsize=15)\n",
    "plt.grid(True)\n",
    "plt.show()"
   ]
  },
  {
   "cell_type": "markdown",
   "id": "0dbc381b",
   "metadata": {},
   "source": [
    "<h2 style=\"color:green\" align=\"left\"> Model </h2>"
   ]
  },
  {
   "cell_type": "code",
   "execution_count": null,
   "id": "02a05f0b",
   "metadata": {},
   "outputs": [],
   "source": [
    "from sklearn import linear_model"
   ]
  },
  {
   "cell_type": "code",
   "execution_count": 14,
   "id": "285da3d3",
   "metadata": {},
   "outputs": [
    {
     "data": {
      "text/html": [
       "<style>#sk-container-id-1 {color: black;}#sk-container-id-1 pre{padding: 0;}#sk-container-id-1 div.sk-toggleable {background-color: white;}#sk-container-id-1 label.sk-toggleable__label {cursor: pointer;display: block;width: 100%;margin-bottom: 0;padding: 0.3em;box-sizing: border-box;text-align: center;}#sk-container-id-1 label.sk-toggleable__label-arrow:before {content: \"▸\";float: left;margin-right: 0.25em;color: #696969;}#sk-container-id-1 label.sk-toggleable__label-arrow:hover:before {color: black;}#sk-container-id-1 div.sk-estimator:hover label.sk-toggleable__label-arrow:before {color: black;}#sk-container-id-1 div.sk-toggleable__content {max-height: 0;max-width: 0;overflow: hidden;text-align: left;background-color: #f0f8ff;}#sk-container-id-1 div.sk-toggleable__content pre {margin: 0.2em;color: black;border-radius: 0.25em;background-color: #f0f8ff;}#sk-container-id-1 input.sk-toggleable__control:checked~div.sk-toggleable__content {max-height: 200px;max-width: 100%;overflow: auto;}#sk-container-id-1 input.sk-toggleable__control:checked~label.sk-toggleable__label-arrow:before {content: \"▾\";}#sk-container-id-1 div.sk-estimator input.sk-toggleable__control:checked~label.sk-toggleable__label {background-color: #d4ebff;}#sk-container-id-1 div.sk-label input.sk-toggleable__control:checked~label.sk-toggleable__label {background-color: #d4ebff;}#sk-container-id-1 input.sk-hidden--visually {border: 0;clip: rect(1px 1px 1px 1px);clip: rect(1px, 1px, 1px, 1px);height: 1px;margin: -1px;overflow: hidden;padding: 0;position: absolute;width: 1px;}#sk-container-id-1 div.sk-estimator {font-family: monospace;background-color: #f0f8ff;border: 1px dotted black;border-radius: 0.25em;box-sizing: border-box;margin-bottom: 0.5em;}#sk-container-id-1 div.sk-estimator:hover {background-color: #d4ebff;}#sk-container-id-1 div.sk-parallel-item::after {content: \"\";width: 100%;border-bottom: 1px solid gray;flex-grow: 1;}#sk-container-id-1 div.sk-label:hover label.sk-toggleable__label {background-color: #d4ebff;}#sk-container-id-1 div.sk-serial::before {content: \"\";position: absolute;border-left: 1px solid gray;box-sizing: border-box;top: 0;bottom: 0;left: 50%;z-index: 0;}#sk-container-id-1 div.sk-serial {display: flex;flex-direction: column;align-items: center;background-color: white;padding-right: 0.2em;padding-left: 0.2em;position: relative;}#sk-container-id-1 div.sk-item {position: relative;z-index: 1;}#sk-container-id-1 div.sk-parallel {display: flex;align-items: stretch;justify-content: center;background-color: white;position: relative;}#sk-container-id-1 div.sk-item::before, #sk-container-id-1 div.sk-parallel-item::before {content: \"\";position: absolute;border-left: 1px solid gray;box-sizing: border-box;top: 0;bottom: 0;left: 50%;z-index: -1;}#sk-container-id-1 div.sk-parallel-item {display: flex;flex-direction: column;z-index: 1;position: relative;background-color: white;}#sk-container-id-1 div.sk-parallel-item:first-child::after {align-self: flex-end;width: 50%;}#sk-container-id-1 div.sk-parallel-item:last-child::after {align-self: flex-start;width: 50%;}#sk-container-id-1 div.sk-parallel-item:only-child::after {width: 0;}#sk-container-id-1 div.sk-dashed-wrapped {border: 1px dashed gray;margin: 0 0.4em 0.5em 0.4em;box-sizing: border-box;padding-bottom: 0.4em;background-color: white;}#sk-container-id-1 div.sk-label label {font-family: monospace;font-weight: bold;display: inline-block;line-height: 1.2em;}#sk-container-id-1 div.sk-label-container {text-align: center;}#sk-container-id-1 div.sk-container {/* jupyter's `normalize.less` sets `[hidden] { display: none; }` but bootstrap.min.css set `[hidden] { display: none !important; }` so we also need the `!important` here to be able to override the default hidden behavior on the sphinx rendered scikit-learn.org. See: https://github.com/scikit-learn/scikit-learn/issues/21755 */display: inline-block !important;position: relative;}#sk-container-id-1 div.sk-text-repr-fallback {display: none;}</style><div id=\"sk-container-id-1\" class=\"sk-top-container\"><div class=\"sk-text-repr-fallback\"><pre>LinearRegression()</pre><b>In a Jupyter environment, please rerun this cell to show the HTML representation or trust the notebook. <br />On GitHub, the HTML representation is unable to render, please try loading this page with nbviewer.org.</b></div><div class=\"sk-container\" hidden><div class=\"sk-item\"><div class=\"sk-estimator sk-toggleable\"><input class=\"sk-toggleable__control sk-hidden--visually\" id=\"sk-estimator-id-1\" type=\"checkbox\" checked><label for=\"sk-estimator-id-1\" class=\"sk-toggleable__label sk-toggleable__label-arrow\">LinearRegression</label><div class=\"sk-toggleable__content\"><pre>LinearRegression()</pre></div></div></div></div></div>"
      ],
      "text/plain": [
       "LinearRegression()"
      ]
     },
     "execution_count": 14,
     "metadata": {},
     "output_type": "execute_result"
    }
   ],
   "source": [
    "# initialize the linear regression model\n",
    "lr = linear_model.LinearRegression()\n",
    "lr"
   ]
  },
  {
   "cell_type": "markdown",
   "id": "cebea421",
   "metadata": {},
   "source": [
    "* Make Numpy Array / 2D array (X, y) of the dataset before passing to model\n",
    "* Model expect 2D/ Numpy arrays"
   ]
  },
  {
   "cell_type": "code",
   "execution_count": 15,
   "id": "8512e8eb",
   "metadata": {},
   "outputs": [
    {
     "data": {
      "text/plain": [
       "array([[1970],\n",
       "       [1971],\n",
       "       [1972],\n",
       "       [1973],\n",
       "       [1974],\n",
       "       [1975],\n",
       "       [1976],\n",
       "       [1977],\n",
       "       [1978],\n",
       "       [1979],\n",
       "       [1980],\n",
       "       [1981],\n",
       "       [1982],\n",
       "       [1983],\n",
       "       [1984],\n",
       "       [1985],\n",
       "       [1986],\n",
       "       [1987],\n",
       "       [1988],\n",
       "       [1989],\n",
       "       [1990],\n",
       "       [1991],\n",
       "       [1992],\n",
       "       [1993],\n",
       "       [1994],\n",
       "       [1995],\n",
       "       [1996],\n",
       "       [1997],\n",
       "       [1998],\n",
       "       [1999],\n",
       "       [2000],\n",
       "       [2001],\n",
       "       [2002],\n",
       "       [2003],\n",
       "       [2004],\n",
       "       [2005],\n",
       "       [2006],\n",
       "       [2007],\n",
       "       [2008],\n",
       "       [2009],\n",
       "       [2010],\n",
       "       [2011],\n",
       "       [2012],\n",
       "       [2013],\n",
       "       [2014],\n",
       "       [2015],\n",
       "       [2016]], dtype=int64)"
      ]
     },
     "execution_count": 15,
     "metadata": {},
     "output_type": "execute_result"
    }
   ],
   "source": [
    "# Features: X to 2D/ Numpy Conversion\n",
    "df[['year']].values"
   ]
  },
  {
   "cell_type": "code",
   "execution_count": 30,
   "id": "016299ab",
   "metadata": {},
   "outputs": [
    {
     "data": {
      "text/plain": [
       "array([[ 3399.299037],\n",
       "       [ 3768.297935],\n",
       "       [ 4251.175484],\n",
       "       [ 4804.463248],\n",
       "       [ 5576.514583],\n",
       "       [ 5998.144346],\n",
       "       [ 7062.131392],\n",
       "       [ 7100.12617 ],\n",
       "       [ 7247.967035],\n",
       "       [ 7602.912681],\n",
       "       [ 8355.96812 ],\n",
       "       [ 9434.390652],\n",
       "       [ 9619.438377],\n",
       "       [10416.53659 ],\n",
       "       [10790.32872 ],\n",
       "       [11018.95585 ],\n",
       "       [11482.89153 ],\n",
       "       [12974.80662 ],\n",
       "       [15080.28345 ],\n",
       "       [16426.72548 ],\n",
       "       [16838.6732  ],\n",
       "       [17266.09769 ],\n",
       "       [16412.08309 ],\n",
       "       [15875.58673 ],\n",
       "       [15755.82027 ],\n",
       "       [16369.31725 ],\n",
       "       [16699.82668 ],\n",
       "       [17310.75775 ],\n",
       "       [16622.67187 ],\n",
       "       [17581.02414 ],\n",
       "       [18987.38241 ],\n",
       "       [18601.39724 ],\n",
       "       [19232.17556 ],\n",
       "       [22739.42628 ],\n",
       "       [25719.14715 ],\n",
       "       [29198.05569 ],\n",
       "       [32738.2629  ],\n",
       "       [36144.48122 ],\n",
       "       [37446.48609 ],\n",
       "       [32755.17682 ],\n",
       "       [38420.52289 ],\n",
       "       [42334.71121 ],\n",
       "       [42665.25597 ],\n",
       "       [42676.46837 ],\n",
       "       [41039.8936  ],\n",
       "       [35175.18898 ],\n",
       "       [34229.19363 ]])"
      ]
     },
     "execution_count": 30,
     "metadata": {},
     "output_type": "execute_result"
    }
   ],
   "source": [
    "# target : y to 2D/ Numpy Conversion\n",
    "df[['per_capita_income']].values"
   ]
  },
  {
   "cell_type": "markdown",
   "id": "5a958875",
   "metadata": {},
   "source": [
    "Q. what does mean by this .values ?"
   ]
  },
  {
   "cell_type": "markdown",
   "id": "f8bc9354",
   "metadata": {},
   "source": [
    "The .values attribute in this context refers to converting the selected column from a Pandas DataFrame (df) into a 2D NumPy array. Essentially, it extracts the values from the specified column and represents them as a NumPy array."
   ]
  },
  {
   "cell_type": "markdown",
   "id": "ff7b8a7b",
   "metadata": {},
   "source": [
    "### Model "
   ]
  },
  {
   "cell_type": "code",
   "execution_count": 49,
   "id": "24afd4b1",
   "metadata": {},
   "outputs": [
    {
     "data": {
      "text/html": [
       "<style>#sk-container-id-4 {color: black;}#sk-container-id-4 pre{padding: 0;}#sk-container-id-4 div.sk-toggleable {background-color: white;}#sk-container-id-4 label.sk-toggleable__label {cursor: pointer;display: block;width: 100%;margin-bottom: 0;padding: 0.3em;box-sizing: border-box;text-align: center;}#sk-container-id-4 label.sk-toggleable__label-arrow:before {content: \"▸\";float: left;margin-right: 0.25em;color: #696969;}#sk-container-id-4 label.sk-toggleable__label-arrow:hover:before {color: black;}#sk-container-id-4 div.sk-estimator:hover label.sk-toggleable__label-arrow:before {color: black;}#sk-container-id-4 div.sk-toggleable__content {max-height: 0;max-width: 0;overflow: hidden;text-align: left;background-color: #f0f8ff;}#sk-container-id-4 div.sk-toggleable__content pre {margin: 0.2em;color: black;border-radius: 0.25em;background-color: #f0f8ff;}#sk-container-id-4 input.sk-toggleable__control:checked~div.sk-toggleable__content {max-height: 200px;max-width: 100%;overflow: auto;}#sk-container-id-4 input.sk-toggleable__control:checked~label.sk-toggleable__label-arrow:before {content: \"▾\";}#sk-container-id-4 div.sk-estimator input.sk-toggleable__control:checked~label.sk-toggleable__label {background-color: #d4ebff;}#sk-container-id-4 div.sk-label input.sk-toggleable__control:checked~label.sk-toggleable__label {background-color: #d4ebff;}#sk-container-id-4 input.sk-hidden--visually {border: 0;clip: rect(1px 1px 1px 1px);clip: rect(1px, 1px, 1px, 1px);height: 1px;margin: -1px;overflow: hidden;padding: 0;position: absolute;width: 1px;}#sk-container-id-4 div.sk-estimator {font-family: monospace;background-color: #f0f8ff;border: 1px dotted black;border-radius: 0.25em;box-sizing: border-box;margin-bottom: 0.5em;}#sk-container-id-4 div.sk-estimator:hover {background-color: #d4ebff;}#sk-container-id-4 div.sk-parallel-item::after {content: \"\";width: 100%;border-bottom: 1px solid gray;flex-grow: 1;}#sk-container-id-4 div.sk-label:hover label.sk-toggleable__label {background-color: #d4ebff;}#sk-container-id-4 div.sk-serial::before {content: \"\";position: absolute;border-left: 1px solid gray;box-sizing: border-box;top: 0;bottom: 0;left: 50%;z-index: 0;}#sk-container-id-4 div.sk-serial {display: flex;flex-direction: column;align-items: center;background-color: white;padding-right: 0.2em;padding-left: 0.2em;position: relative;}#sk-container-id-4 div.sk-item {position: relative;z-index: 1;}#sk-container-id-4 div.sk-parallel {display: flex;align-items: stretch;justify-content: center;background-color: white;position: relative;}#sk-container-id-4 div.sk-item::before, #sk-container-id-4 div.sk-parallel-item::before {content: \"\";position: absolute;border-left: 1px solid gray;box-sizing: border-box;top: 0;bottom: 0;left: 50%;z-index: -1;}#sk-container-id-4 div.sk-parallel-item {display: flex;flex-direction: column;z-index: 1;position: relative;background-color: white;}#sk-container-id-4 div.sk-parallel-item:first-child::after {align-self: flex-end;width: 50%;}#sk-container-id-4 div.sk-parallel-item:last-child::after {align-self: flex-start;width: 50%;}#sk-container-id-4 div.sk-parallel-item:only-child::after {width: 0;}#sk-container-id-4 div.sk-dashed-wrapped {border: 1px dashed gray;margin: 0 0.4em 0.5em 0.4em;box-sizing: border-box;padding-bottom: 0.4em;background-color: white;}#sk-container-id-4 div.sk-label label {font-family: monospace;font-weight: bold;display: inline-block;line-height: 1.2em;}#sk-container-id-4 div.sk-label-container {text-align: center;}#sk-container-id-4 div.sk-container {/* jupyter's `normalize.less` sets `[hidden] { display: none; }` but bootstrap.min.css set `[hidden] { display: none !important; }` so we also need the `!important` here to be able to override the default hidden behavior on the sphinx rendered scikit-learn.org. See: https://github.com/scikit-learn/scikit-learn/issues/21755 */display: inline-block !important;position: relative;}#sk-container-id-4 div.sk-text-repr-fallback {display: none;}</style><div id=\"sk-container-id-4\" class=\"sk-top-container\"><div class=\"sk-text-repr-fallback\"><pre>LinearRegression()</pre><b>In a Jupyter environment, please rerun this cell to show the HTML representation or trust the notebook. <br />On GitHub, the HTML representation is unable to render, please try loading this page with nbviewer.org.</b></div><div class=\"sk-container\" hidden><div class=\"sk-item\"><div class=\"sk-estimator sk-toggleable\"><input class=\"sk-toggleable__control sk-hidden--visually\" id=\"sk-estimator-id-4\" type=\"checkbox\" checked><label for=\"sk-estimator-id-4\" class=\"sk-toggleable__label sk-toggleable__label-arrow\">LinearRegression</label><div class=\"sk-toggleable__content\"><pre>LinearRegression()</pre></div></div></div></div></div>"
      ],
      "text/plain": [
       "LinearRegression()"
      ]
     },
     "execution_count": 49,
     "metadata": {},
     "output_type": "execute_result"
    }
   ],
   "source": [
    "# Lets now pass the converted data to model, here model name is lr\n",
    "lr.fit(df[['year']].values, df[['per_capita_income']].values)"
   ]
  },
  {
   "cell_type": "markdown",
   "id": "5f616547",
   "metadata": {},
   "source": [
    "<h2 style=\"color:green\" align=\"left\"> Prediction </h2>"
   ]
  },
  {
   "cell_type": "code",
   "execution_count": 20,
   "id": "2274db8c",
   "metadata": {},
   "outputs": [
    {
     "data": {
      "text/plain": [
       "array([[41288.69409442]])"
      ]
     },
     "execution_count": 20,
     "metadata": {},
     "output_type": "execute_result"
    }
   ],
   "source": [
    "lr.predict([[2020]])"
   ]
  },
  {
   "cell_type": "code",
   "execution_count": 52,
   "id": "0a50c57a",
   "metadata": {},
   "outputs": [
    {
     "data": {
      "text/plain": [
       "array([41288.69409442])"
      ]
     },
     "execution_count": 52,
     "metadata": {},
     "output_type": "execute_result"
    }
   ],
   "source": [
    "lr.predict([[2020]])"
   ]
  },
  {
   "cell_type": "markdown",
   "id": "7c69c3b3",
   "metadata": {},
   "source": [
    "The above prediction says that, in the year 2020 the Canada per capita income will be 41288.69409442(US $)"
   ]
  },
  {
   "cell_type": "markdown",
   "id": "34cbfa4c",
   "metadata": {},
   "source": [
    "<h3 style=\"color:green\" align=\"left\"> Verification </h3>"
   ]
  },
  {
   "cell_type": "markdown",
   "id": "82e4ba81",
   "metadata": {},
   "source": [
    "Verfication of the Linear Regression machine learning algorithm with the help of y = m * x + b\n",
    "\n",
    "* y = m * x + b\n",
    "* where y=dependent variable\n",
    "* m=coefficient\n",
    "* x=independant variable\n",
    "* b=intercept"
   ]
  },
  {
   "cell_type": "code",
   "execution_count": 21,
   "id": "49f77724",
   "metadata": {},
   "outputs": [
    {
     "data": {
      "text/plain": [
       "array([[828.46507522]])"
      ]
     },
     "execution_count": 21,
     "metadata": {},
     "output_type": "execute_result"
    }
   ],
   "source": [
    "lr.coef_"
   ]
  },
  {
   "cell_type": "code",
   "execution_count": 22,
   "id": "8b3796fa",
   "metadata": {},
   "outputs": [
    {
     "data": {
      "text/plain": [
       "array([-1632210.75785546])"
      ]
     },
     "execution_count": 22,
     "metadata": {},
     "output_type": "execute_result"
    }
   ],
   "source": [
    "lr.intercept_"
   ]
  },
  {
   "cell_type": "code",
   "execution_count": 23,
   "id": "9da3d687",
   "metadata": {},
   "outputs": [
    {
     "data": {
      "text/plain": [
       "41288.69408894004"
      ]
     },
     "execution_count": 23,
     "metadata": {},
     "output_type": "execute_result"
    }
   ],
   "source": [
    "# y=mx+b\n",
    "828.46507522 * 2020 + -1632210.75785546"
   ]
  },
  {
   "cell_type": "markdown",
   "id": "662c37d9",
   "metadata": {},
   "source": [
    "Its verified!"
   ]
  },
  {
   "cell_type": "markdown",
   "id": "793a6a92",
   "metadata": {},
   "source": [
    "<h2 style=\"color:purple\" align=\"left\"> Visualization </h2>"
   ]
  },
  {
   "cell_type": "code",
   "execution_count": 38,
   "id": "55fd9a34",
   "metadata": {},
   "outputs": [
    {
     "data": {
      "image/png": "[encoded data removed]",
      "text/plain": [
       "<Figure size 640x480 with 1 Axes>"
      ]
     },
     "metadata": {},
     "output_type": "display_data"
    }
   ],
   "source": [
    "plt.xlabel('Year')\n",
    "plt.ylabel('Per Capita Income')\n",
    "plt.scatter(df.year, df.per_capita_income, color='purple', marker='*')\n",
    "plt.plot(df.year, lr.predict(df[['year']]), color='blue')\n",
    "plt.show()"
   ]
  },
  {
   "cell_type": "markdown",
   "id": "269ffb30",
   "metadata": {},
   "source": [
    "<h2 style=\"color:purple\" align=\"left\"> New Prediction- From External/New Input </h2>"
   ]
  },
  {
   "cell_type": "code",
   "execution_count": 40,
   "id": "d04698e5",
   "metadata": {},
   "outputs": [
    {
     "data": {
      "text/html": [
       "<div>\n",
       "<style scoped>\n",
       "    .dataframe tbody tr th:only-of-type {\n",
       "        vertical-align: middle;\n",
       "    }\n",
       "\n",
       "    .dataframe tbody tr th {\n",
       "        vertical-align: top;\n",
       "    }\n",
       "\n",
       "    .dataframe thead th {\n",
       "        text-align: right;\n",
       "    }\n",
       "</style>\n",
       "<table border=\"1\" class=\"dataframe\">\n",
       "  <thead>\n",
       "    <tr style=\"text-align: right;\">\n",
       "      <th></th>\n",
       "      <th>year</th>\n",
       "    </tr>\n",
       "  </thead>\n",
       "  <tbody>\n",
       "    <tr>\n",
       "      <th>0</th>\n",
       "      <td>2021</td>\n",
       "    </tr>\n",
       "    <tr>\n",
       "      <th>1</th>\n",
       "      <td>2022</td>\n",
       "    </tr>\n",
       "    <tr>\n",
       "      <th>2</th>\n",
       "      <td>2023</td>\n",
       "    </tr>\n",
       "    <tr>\n",
       "      <th>3</th>\n",
       "      <td>2024</td>\n",
       "    </tr>\n",
       "    <tr>\n",
       "      <th>4</th>\n",
       "      <td>2025</td>\n",
       "    </tr>\n",
       "    <tr>\n",
       "      <th>5</th>\n",
       "      <td>2026</td>\n",
       "    </tr>\n",
       "    <tr>\n",
       "      <th>6</th>\n",
       "      <td>2027</td>\n",
       "    </tr>\n",
       "    <tr>\n",
       "      <th>7</th>\n",
       "      <td>2028</td>\n",
       "    </tr>\n",
       "    <tr>\n",
       "      <th>8</th>\n",
       "      <td>2029</td>\n",
       "    </tr>\n",
       "    <tr>\n",
       "      <th>9</th>\n",
       "      <td>2030</td>\n",
       "    </tr>\n",
       "  </tbody>\n",
       "</table>\n",
       "</div>"
      ],
      "text/plain": [
       "   year\n",
       "0  2021\n",
       "1  2022\n",
       "2  2023\n",
       "3  2024\n",
       "4  2025\n",
       "5  2026\n",
       "6  2027\n",
       "7  2028\n",
       "8  2029\n",
       "9  2030"
      ]
     },
     "execution_count": 40,
     "metadata": {},
     "output_type": "execute_result"
    }
   ],
   "source": [
    "following_years = pd.read_csv(\"E:/M60\\ml_dataset/canada_per_capita_income_input.csv\")\n",
    "following_years"
   ]
  },
  {
   "cell_type": "code",
   "execution_count": 42,
   "id": "899bdd28",
   "metadata": {},
   "outputs": [
    {
     "data": {
      "text/plain": [
       "array([[2021],\n",
       "       [2022],\n",
       "       [2023],\n",
       "       [2024],\n",
       "       [2025],\n",
       "       [2026],\n",
       "       [2027],\n",
       "       [2028],\n",
       "       [2029],\n",
       "       [2030]], dtype=int64)"
      ]
     },
     "execution_count": 42,
     "metadata": {},
     "output_type": "execute_result"
    }
   ],
   "source": [
    "# Numpy / 2D array of the years\n",
    "following_years.values"
   ]
  },
  {
   "cell_type": "markdown",
   "id": "2a03f491",
   "metadata": {},
   "source": [
    "<h2 style=\"color:green\" align=\"left\"> Prediction-2 </h2>"
   ]
  },
  {
   "cell_type": "code",
   "execution_count": 43,
   "id": "fcb40256",
   "metadata": {},
   "outputs": [
    {
     "data": {
      "text/plain": [
       "array([[42117.15916964],\n",
       "       [42945.62424486],\n",
       "       [43774.08932009],\n",
       "       [44602.55439531],\n",
       "       [45431.01947053],\n",
       "       [46259.48454575],\n",
       "       [47087.94962098],\n",
       "       [47916.4146962 ],\n",
       "       [48744.87977142],\n",
       "       [49573.34484664]])"
      ]
     },
     "execution_count": 43,
     "metadata": {},
     "output_type": "execute_result"
    }
   ],
   "source": [
    "new_prediction = lr.predict(following_years.values)\n",
    "new_prediction"
   ]
  },
  {
   "cell_type": "code",
   "execution_count": 44,
   "id": "065ba870",
   "metadata": {},
   "outputs": [
    {
     "data": {
      "text/html": [
       "<div>\n",
       "<style scoped>\n",
       "    .dataframe tbody tr th:only-of-type {\n",
       "        vertical-align: middle;\n",
       "    }\n",
       "\n",
       "    .dataframe tbody tr th {\n",
       "        vertical-align: top;\n",
       "    }\n",
       "\n",
       "    .dataframe thead th {\n",
       "        text-align: right;\n",
       "    }\n",
       "</style>\n",
       "<table border=\"1\" class=\"dataframe\">\n",
       "  <thead>\n",
       "    <tr style=\"text-align: right;\">\n",
       "      <th></th>\n",
       "      <th>year</th>\n",
       "      <th>per_capita_income$)</th>\n",
       "    </tr>\n",
       "  </thead>\n",
       "  <tbody>\n",
       "    <tr>\n",
       "      <th>0</th>\n",
       "      <td>2021</td>\n",
       "      <td>42117.159170</td>\n",
       "    </tr>\n",
       "    <tr>\n",
       "      <th>1</th>\n",
       "      <td>2022</td>\n",
       "      <td>42945.624245</td>\n",
       "    </tr>\n",
       "    <tr>\n",
       "      <th>2</th>\n",
       "      <td>2023</td>\n",
       "      <td>43774.089320</td>\n",
       "    </tr>\n",
       "    <tr>\n",
       "      <th>3</th>\n",
       "      <td>2024</td>\n",
       "      <td>44602.554395</td>\n",
       "    </tr>\n",
       "    <tr>\n",
       "      <th>4</th>\n",
       "      <td>2025</td>\n",
       "      <td>45431.019471</td>\n",
       "    </tr>\n",
       "    <tr>\n",
       "      <th>5</th>\n",
       "      <td>2026</td>\n",
       "      <td>46259.484546</td>\n",
       "    </tr>\n",
       "    <tr>\n",
       "      <th>6</th>\n",
       "      <td>2027</td>\n",
       "      <td>47087.949621</td>\n",
       "    </tr>\n",
       "    <tr>\n",
       "      <th>7</th>\n",
       "      <td>2028</td>\n",
       "      <td>47916.414696</td>\n",
       "    </tr>\n",
       "    <tr>\n",
       "      <th>8</th>\n",
       "      <td>2029</td>\n",
       "      <td>48744.879771</td>\n",
       "    </tr>\n",
       "    <tr>\n",
       "      <th>9</th>\n",
       "      <td>2030</td>\n",
       "      <td>49573.344847</td>\n",
       "    </tr>\n",
       "  </tbody>\n",
       "</table>\n",
       "</div>"
      ],
      "text/plain": [
       "   year  per_capita_income$)\n",
       "0  2021         42117.159170\n",
       "1  2022         42945.624245\n",
       "2  2023         43774.089320\n",
       "3  2024         44602.554395\n",
       "4  2025         45431.019471\n",
       "5  2026         46259.484546\n",
       "6  2027         47087.949621\n",
       "7  2028         47916.414696\n",
       "8  2029         48744.879771\n",
       "9  2030         49573.344847"
      ]
     },
     "execution_count": 44,
     "metadata": {},
     "output_type": "execute_result"
    }
   ],
   "source": [
    "# create a per capita income (US$) named column in the dataset and stored the predicted values in it\n",
    "following_years['per_capita_income$)']=new_prediction\n",
    "following_years"
   ]
  },
  {
   "cell_type": "code",
   "execution_count": null,
   "id": "6264b437",
   "metadata": {},
   "outputs": [],
   "source": [
    "# convert dataset into csv file\n",
    "# following_years.to_csv(\"per_capita_income_prediction.csv\",index=False)"
   ]
  },
  {
   "cell_type": "code",
   "execution_count": 46,
   "id": "555b3815",
   "metadata": {},
   "outputs": [
    {
     "data": {
      "image/png": "[encoded data removed]",
      "text/plain": [
       "<Figure size 640x480 with 1 Axes>"
      ]
     },
     "metadata": {},
     "output_type": "display_data"
    }
   ],
   "source": [
    "# relation bw year and the per capita income (US$) columns of the datset after the prediction\n",
    "plt.scatter(df['year'],df['per_capita_income'],color='red',marker=\"+\")\n",
    "plt.xlabel(\"Year\",fontsize=12)\n",
    "plt.ylabel(\"Per Capita Income (US$)\",fontsize=12)\n",
    "plt.plot(df.year,lr.predict(df[['year']].values),color='blue')\n",
    "plt.grid(True)\n",
    "plt.show()"
   ]
  },
  {
   "cell_type": "markdown",
   "id": "30faa028",
   "metadata": {},
   "source": [
    "<h4 style=\"color:blue\" align=\"center\"> End </h4>"
   ]
  }
 ],
 "metadata": {
  "kernelspec": {
   "display_name": "Python 3 (ipykernel)",
   "language": "python",
   "name": "python3"
  },
  "language_info": {
   "codemirror_mode": {
    "name": "ipython",
    "version": 3
   },
   "file_extension": ".py",
   "mimetype": "text/x-python",
   "name": "python",
   "nbconvert_exporter": "python",
   "pygments_lexer": "ipython3",
   "version": "3.10.6"
  }
 },
 "nbformat": 4,
 "nbformat_minor": 5
}
