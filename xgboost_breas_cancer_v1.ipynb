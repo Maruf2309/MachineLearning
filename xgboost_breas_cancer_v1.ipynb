{
 "cells": [
  {
   "cell_type": "code",
   "execution_count": 1,
   "id": "a77a11c5",
   "metadata": {},
   "outputs": [],
   "source": [
    "import pandas as pd\n",
    "import numpy as np"
   ]
  },
  {
   "cell_type": "code",
   "execution_count": 2,
   "id": "4eed9780",
   "metadata": {},
   "outputs": [],
   "source": [
    "from xgboost import XGBClassifier\n",
    "XGBClassifier()  # return default parameter\n",
    "import warnings as wr\n",
    "wr.filterwarnings('ignore')"
   ]
  },
  {
   "cell_type": "code",
   "execution_count": 3,
   "id": "308bb36d",
   "metadata": {},
   "outputs": [
    {
     "data": {
      "text/plain": [
       "{'data': array([[1.799e+01, 1.038e+01, 1.228e+02, ..., 2.654e-01, 4.601e-01,\n",
       "         1.189e-01],\n",
       "        [2.057e+01, 1.777e+01, 1.329e+02, ..., 1.860e-01, 2.750e-01,\n",
       "         8.902e-02],\n",
       "        [1.969e+01, 2.125e+01, 1.300e+02, ..., 2.430e-01, 3.613e-01,\n",
       "         8.758e-02],\n",
       "        ...,\n",
       "        [1.660e+01, 2.808e+01, 1.083e+02, ..., 1.418e-01, 2.218e-01,\n",
       "         7.820e-02],\n",
       "        [2.060e+01, 2.933e+01, 1.401e+02, ..., 2.650e-01, 4.087e-01,\n",
       "         1.240e-01],\n",
       "        [7.760e+00, 2.454e+01, 4.792e+01, ..., 0.000e+00, 2.871e-01,\n",
       "         7.039e-02]]),\n",
       " 'target': array([0, 0, 0, 0, 0, 0, 0, 0, 0, 0, 0, 0, 0, 0, 0, 0, 0, 0, 0, 1, 1, 1,\n",
       "        0, 0, 0, 0, 0, 0, 0, 0, 0, 0, 0, 0, 0, 0, 0, 1, 0, 0, 0, 0, 0, 0,\n",
       "        0, 0, 1, 0, 1, 1, 1, 1, 1, 0, 0, 1, 0, 0, 1, 1, 1, 1, 0, 1, 0, 0,\n",
       "        1, 1, 1, 1, 0, 1, 0, 0, 1, 0, 1, 0, 0, 1, 1, 1, 0, 0, 1, 0, 0, 0,\n",
       "        1, 1, 1, 0, 1, 1, 0, 0, 1, 1, 1, 0, 0, 1, 1, 1, 1, 0, 1, 1, 0, 1,\n",
       "        1, 1, 1, 1, 1, 1, 1, 0, 0, 0, 1, 0, 0, 1, 1, 1, 0, 0, 1, 0, 1, 0,\n",
       "        0, 1, 0, 0, 1, 1, 0, 1, 1, 0, 1, 1, 1, 1, 0, 1, 1, 1, 1, 1, 1, 1,\n",
       "        1, 1, 0, 1, 1, 1, 1, 0, 0, 1, 0, 1, 1, 0, 0, 1, 1, 0, 0, 1, 1, 1,\n",
       "        1, 0, 1, 1, 0, 0, 0, 1, 0, 1, 0, 1, 1, 1, 0, 1, 1, 0, 0, 1, 0, 0,\n",
       "        0, 0, 1, 0, 0, 0, 1, 0, 1, 0, 1, 1, 0, 1, 0, 0, 0, 0, 1, 1, 0, 0,\n",
       "        1, 1, 1, 0, 1, 1, 1, 1, 1, 0, 0, 1, 1, 0, 1, 1, 0, 0, 1, 0, 1, 1,\n",
       "        1, 1, 0, 1, 1, 1, 1, 1, 0, 1, 0, 0, 0, 0, 0, 0, 0, 0, 0, 0, 0, 0,\n",
       "        0, 0, 1, 1, 1, 1, 1, 1, 0, 1, 0, 1, 1, 0, 1, 1, 0, 1, 0, 0, 1, 1,\n",
       "        1, 1, 1, 1, 1, 1, 1, 1, 1, 1, 1, 0, 1, 1, 0, 1, 0, 1, 1, 1, 1, 1,\n",
       "        1, 1, 1, 1, 1, 1, 1, 1, 1, 0, 1, 1, 1, 0, 1, 0, 1, 1, 1, 1, 0, 0,\n",
       "        0, 1, 1, 1, 1, 0, 1, 0, 1, 0, 1, 1, 1, 0, 1, 1, 1, 1, 1, 1, 1, 0,\n",
       "        0, 0, 1, 1, 1, 1, 1, 1, 1, 1, 1, 1, 1, 0, 0, 1, 0, 0, 0, 1, 0, 0,\n",
       "        1, 1, 1, 1, 1, 0, 1, 1, 1, 1, 1, 0, 1, 1, 1, 0, 1, 1, 0, 0, 1, 1,\n",
       "        1, 1, 1, 1, 0, 1, 1, 1, 1, 1, 1, 1, 0, 1, 1, 1, 1, 1, 0, 1, 1, 0,\n",
       "        1, 1, 1, 1, 1, 1, 1, 1, 1, 1, 1, 1, 0, 1, 0, 0, 1, 0, 1, 1, 1, 1,\n",
       "        1, 0, 1, 1, 0, 1, 0, 1, 1, 0, 1, 0, 1, 1, 1, 1, 1, 1, 1, 1, 0, 0,\n",
       "        1, 1, 1, 1, 1, 1, 0, 1, 1, 1, 1, 1, 1, 1, 1, 1, 1, 0, 1, 1, 1, 1,\n",
       "        1, 1, 1, 0, 1, 0, 1, 1, 0, 1, 1, 1, 1, 1, 0, 0, 1, 0, 1, 0, 1, 1,\n",
       "        1, 1, 1, 0, 1, 1, 0, 1, 0, 1, 0, 0, 1, 1, 1, 0, 1, 1, 1, 1, 1, 1,\n",
       "        1, 1, 1, 1, 1, 0, 1, 0, 0, 1, 1, 1, 1, 1, 1, 1, 1, 1, 1, 1, 1, 1,\n",
       "        1, 1, 1, 1, 1, 1, 1, 1, 1, 1, 1, 1, 0, 0, 0, 0, 0, 0, 1]),\n",
       " 'frame': None,\n",
       " 'target_names': array(['malignant', 'benign'], dtype='<U9'),\n",
       " 'DESCR': '.. _breast_cancer_dataset:\\n\\nBreast cancer wisconsin (diagnostic) dataset\\n--------------------------------------------\\n\\n**Data Set Characteristics:**\\n\\n    :Number of Instances: 569\\n\\n    :Number of Attributes: 30 numeric, predictive attributes and the class\\n\\n    :Attribute Information:\\n        - radius (mean of distances from center to points on the perimeter)\\n        - texture (standard deviation of gray-scale values)\\n        - perimeter\\n        - area\\n        - smoothness (local variation in radius lengths)\\n        - compactness (perimeter^2 / area - 1.0)\\n        - concavity (severity of concave portions of the contour)\\n        - concave points (number of concave portions of the contour)\\n        - symmetry\\n        - fractal dimension (\"coastline approximation\" - 1)\\n\\n        The mean, standard error, and \"worst\" or largest (mean of the three\\n        worst/largest values) of these features were computed for each image,\\n        resulting in 30 features.  For instance, field 0 is Mean Radius, field\\n        10 is Radius SE, field 20 is Worst Radius.\\n\\n        - class:\\n                - WDBC-Malignant\\n                - WDBC-Benign\\n\\n    :Summary Statistics:\\n\\n    ===================================== ====== ======\\n                                           Min    Max\\n    ===================================== ====== ======\\n    radius (mean):                        6.981  28.11\\n    texture (mean):                       9.71   39.28\\n    perimeter (mean):                     43.79  188.5\\n    area (mean):                          143.5  2501.0\\n    smoothness (mean):                    0.053  0.163\\n    compactness (mean):                   0.019  0.345\\n    concavity (mean):                     0.0    0.427\\n    concave points (mean):                0.0    0.201\\n    symmetry (mean):                      0.106  0.304\\n    fractal dimension (mean):             0.05   0.097\\n    radius (standard error):              0.112  2.873\\n    texture (standard error):             0.36   4.885\\n    perimeter (standard error):           0.757  21.98\\n    area (standard error):                6.802  542.2\\n    smoothness (standard error):          0.002  0.031\\n    compactness (standard error):         0.002  0.135\\n    concavity (standard error):           0.0    0.396\\n    concave points (standard error):      0.0    0.053\\n    symmetry (standard error):            0.008  0.079\\n    fractal dimension (standard error):   0.001  0.03\\n    radius (worst):                       7.93   36.04\\n    texture (worst):                      12.02  49.54\\n    perimeter (worst):                    50.41  251.2\\n    area (worst):                         185.2  4254.0\\n    smoothness (worst):                   0.071  0.223\\n    compactness (worst):                  0.027  1.058\\n    concavity (worst):                    0.0    1.252\\n    concave points (worst):               0.0    0.291\\n    symmetry (worst):                     0.156  0.664\\n    fractal dimension (worst):            0.055  0.208\\n    ===================================== ====== ======\\n\\n    :Missing Attribute Values: None\\n\\n    :Class Distribution: 212 - Malignant, 357 - Benign\\n\\n    :Creator:  Dr. William H. Wolberg, W. Nick Street, Olvi L. Mangasarian\\n\\n    :Donor: Nick Street\\n\\n    :Date: November, 1995\\n\\nThis is a copy of UCI ML Breast Cancer Wisconsin (Diagnostic) datasets.\\nhttps://goo.gl/U2Uwz2\\n\\nFeatures are computed from a digitized image of a fine needle\\naspirate (FNA) of a breast mass.  They describe\\ncharacteristics of the cell nuclei present in the image.\\n\\nSeparating plane described above was obtained using\\nMultisurface Method-Tree (MSM-T) [K. P. Bennett, \"Decision Tree\\nConstruction Via Linear Programming.\" Proceedings of the 4th\\nMidwest Artificial Intelligence and Cognitive Science Society,\\npp. 97-101, 1992], a classification method which uses linear\\nprogramming to construct a decision tree.  Relevant features\\nwere selected using an exhaustive search in the space of 1-4\\nfeatures and 1-3 separating planes.\\n\\nThe actual linear program used to obtain the separating plane\\nin the 3-dimensional space is that described in:\\n[K. P. Bennett and O. L. Mangasarian: \"Robust Linear\\nProgramming Discrimination of Two Linearly Inseparable Sets\",\\nOptimization Methods and Software 1, 1992, 23-34].\\n\\nThis database is also available through the UW CS ftp server:\\n\\nftp ftp.cs.wisc.edu\\ncd math-prog/cpo-dataset/machine-learn/WDBC/\\n\\n|details-start|\\n**References**\\n|details-split|\\n\\n- W.N. Street, W.H. Wolberg and O.L. Mangasarian. Nuclear feature extraction \\n  for breast tumor diagnosis. IS&T/SPIE 1993 International Symposium on \\n  Electronic Imaging: Science and Technology, volume 1905, pages 861-870,\\n  San Jose, CA, 1993.\\n- O.L. Mangasarian, W.N. Street and W.H. Wolberg. Breast cancer diagnosis and \\n  prognosis via linear programming. Operations Research, 43(4), pages 570-577, \\n  July-August 1995.\\n- W.H. Wolberg, W.N. Street, and O.L. Mangasarian. Machine learning techniques\\n  to diagnose breast cancer from fine-needle aspirates. Cancer Letters 77 (1994) \\n  163-171.\\n\\n|details-end|',\n",
       " 'feature_names': array(['mean radius', 'mean texture', 'mean perimeter', 'mean area',\n",
       "        'mean smoothness', 'mean compactness', 'mean concavity',\n",
       "        'mean concave points', 'mean symmetry', 'mean fractal dimension',\n",
       "        'radius error', 'texture error', 'perimeter error', 'area error',\n",
       "        'smoothness error', 'compactness error', 'concavity error',\n",
       "        'concave points error', 'symmetry error',\n",
       "        'fractal dimension error', 'worst radius', 'worst texture',\n",
       "        'worst perimeter', 'worst area', 'worst smoothness',\n",
       "        'worst compactness', 'worst concavity', 'worst concave points',\n",
       "        'worst symmetry', 'worst fractal dimension'], dtype='<U23'),\n",
       " 'filename': 'breast_cancer.csv',\n",
       " 'data_module': 'sklearn.datasets.data'}"
      ]
     },
     "execution_count": 3,
     "metadata": {},
     "output_type": "execute_result"
    }
   ],
   "source": [
    "from sklearn.datasets import load_breast_cancer\n",
    "data = load_breast_cancer()\n",
    "data"
   ]
  },
  {
   "cell_type": "code",
   "execution_count": 4,
   "id": "1f0ab387",
   "metadata": {},
   "outputs": [
    {
     "data": {
      "text/plain": [
       "'.. _breast_cancer_dataset:\\n\\nBreast cancer wisconsin (diagnostic) dataset\\n--------------------------------------------\\n\\n**Data Set Characteristics:**\\n\\n    :Number of Instances: 569\\n\\n    :Number of Attributes: 30 numeric, predictive attributes and the class\\n\\n    :Attribute Information:\\n        - radius (mean of distances from center to points on the perimeter)\\n        - texture (standard deviation of gray-scale values)\\n        - perimeter\\n        - area\\n        - smoothness (local variation in radius lengths)\\n        - compactness (perimeter^2 / area - 1.0)\\n        - concavity (severity of concave portions of the contour)\\n        - concave points (number of concave portions of the contour)\\n        - symmetry\\n        - fractal dimension (\"coastline approximation\" - 1)\\n\\n        The mean, standard error, and \"worst\" or largest (mean of the three\\n        worst/largest values) of these features were computed for each image,\\n        resulting in 30 features.  For instance, field 0 is Mean Radius, field\\n        10 is Radius SE, field 20 is Worst Radius.\\n\\n        - class:\\n                - WDBC-Malignant\\n                - WDBC-Benign\\n\\n    :Summary Statistics:\\n\\n    ===================================== ====== ======\\n                                           Min    Max\\n    ===================================== ====== ======\\n    radius (mean):                        6.981  28.11\\n    texture (mean):                       9.71   39.28\\n    perimeter (mean):                     43.79  188.5\\n    area (mean):                          143.5  2501.0\\n    smoothness (mean):                    0.053  0.163\\n    compactness (mean):                   0.019  0.345\\n    concavity (mean):                     0.0    0.427\\n    concave points (mean):                0.0    0.201\\n    symmetry (mean):                      0.106  0.304\\n    fractal dimension (mean):             0.05   0.097\\n    radius (standard error):              0.112  2.873\\n    texture (standard error):             0.36   4.885\\n    perimeter (standard error):           0.757  21.98\\n    area (standard error):                6.802  542.2\\n    smoothness (standard error):          0.002  0.031\\n    compactness (standard error):         0.002  0.135\\n    concavity (standard error):           0.0    0.396\\n    concave points (standard error):      0.0    0.053\\n    symmetry (standard error):            0.008  0.079\\n    fractal dimension (standard error):   0.001  0.03\\n    radius (worst):                       7.93   36.04\\n    texture (worst):                      12.02  49.54\\n    perimeter (worst):                    50.41  251.2\\n    area (worst):                         185.2  4254.0\\n    smoothness (worst):                   0.071  0.223\\n    compactness (worst):                  0.027  1.058\\n    concavity (worst):                    0.0    1.252\\n    concave points (worst):               0.0    0.291\\n    symmetry (worst):                     0.156  0.664\\n    fractal dimension (worst):            0.055  0.208\\n    ===================================== ====== ======\\n\\n    :Missing Attribute Values: None\\n\\n    :Class Distribution: 212 - Malignant, 357 - Benign\\n\\n    :Creator:  Dr. William H. Wolberg, W. Nick Street, Olvi L. Mangasarian\\n\\n    :Donor: Nick Street\\n\\n    :Date: November, 1995\\n\\nThis is a copy of UCI ML Breast Cancer Wisconsin (Diagnostic) datasets.\\nhttps://goo.gl/U2Uwz2\\n\\nFeatures are computed from a digitized image of a fine needle\\naspirate (FNA) of a breast mass.  They describe\\ncharacteristics of the cell nuclei present in the image.\\n\\nSeparating plane described above was obtained using\\nMultisurface Method-Tree (MSM-T) [K. P. Bennett, \"Decision Tree\\nConstruction Via Linear Programming.\" Proceedings of the 4th\\nMidwest Artificial Intelligence and Cognitive Science Society,\\npp. 97-101, 1992], a classification method which uses linear\\nprogramming to construct a decision tree.  Relevant features\\nwere selected using an exhaustive search in the space of 1-4\\nfeatures and 1-3 separating planes.\\n\\nThe actual linear program used to obtain the separating plane\\nin the 3-dimensional space is that described in:\\n[K. P. Bennett and O. L. Mangasarian: \"Robust Linear\\nProgramming Discrimination of Two Linearly Inseparable Sets\",\\nOptimization Methods and Software 1, 1992, 23-34].\\n\\nThis database is also available through the UW CS ftp server:\\n\\nftp ftp.cs.wisc.edu\\ncd math-prog/cpo-dataset/machine-learn/WDBC/\\n\\n|details-start|\\n**References**\\n|details-split|\\n\\n- W.N. Street, W.H. Wolberg and O.L. Mangasarian. Nuclear feature extraction \\n  for breast tumor diagnosis. IS&T/SPIE 1993 International Symposium on \\n  Electronic Imaging: Science and Technology, volume 1905, pages 861-870,\\n  San Jose, CA, 1993.\\n- O.L. Mangasarian, W.N. Street and W.H. Wolberg. Breast cancer diagnosis and \\n  prognosis via linear programming. Operations Research, 43(4), pages 570-577, \\n  July-August 1995.\\n- W.H. Wolberg, W.N. Street, and O.L. Mangasarian. Machine learning techniques\\n  to diagnose breast cancer from fine-needle aspirates. Cancer Letters 77 (1994) \\n  163-171.\\n\\n|details-end|'"
      ]
     },
     "execution_count": 4,
     "metadata": {},
     "output_type": "execute_result"
    }
   ],
   "source": [
    "# See the descripion of the data\n",
    "description = data['DESCR']\n",
    "description"
   ]
  },
  {
   "cell_type": "markdown",
   "id": "f2619985",
   "metadata": {},
   "source": [
    "#### Geting X, y"
   ]
  },
  {
   "cell_type": "code",
   "execution_count": 5,
   "id": "ccb62f33",
   "metadata": {},
   "outputs": [],
   "source": [
    "X = data.data\n",
    "y = data.target"
   ]
  },
  {
   "cell_type": "code",
   "execution_count": 6,
   "id": "2aecfdb5",
   "metadata": {},
   "outputs": [
    {
     "data": {
      "text/plain": [
       "array(['mean radius', 'mean texture', 'mean perimeter', 'mean area',\n",
       "       'mean smoothness', 'mean compactness', 'mean concavity',\n",
       "       'mean concave points', 'mean symmetry', 'mean fractal dimension',\n",
       "       'radius error', 'texture error', 'perimeter error', 'area error',\n",
       "       'smoothness error', 'compactness error', 'concavity error',\n",
       "       'concave points error', 'symmetry error',\n",
       "       'fractal dimension error', 'worst radius', 'worst texture',\n",
       "       'worst perimeter', 'worst area', 'worst smoothness',\n",
       "       'worst compactness', 'worst concavity', 'worst concave points',\n",
       "       'worst symmetry', 'worst fractal dimension'], dtype='<U23')"
      ]
     },
     "execution_count": 6,
     "metadata": {},
     "output_type": "execute_result"
    }
   ],
   "source": [
    "data.feature_names # col name"
   ]
  },
  {
   "cell_type": "code",
   "execution_count": 7,
   "id": "3418c33d",
   "metadata": {},
   "outputs": [
    {
     "data": {
      "text/plain": [
       "array([[1.799e+01, 1.038e+01, 1.228e+02, ..., 2.654e-01, 4.601e-01,\n",
       "        1.189e-01],\n",
       "       [2.057e+01, 1.777e+01, 1.329e+02, ..., 1.860e-01, 2.750e-01,\n",
       "        8.902e-02],\n",
       "       [1.969e+01, 2.125e+01, 1.300e+02, ..., 2.430e-01, 3.613e-01,\n",
       "        8.758e-02],\n",
       "       ...,\n",
       "       [1.660e+01, 2.808e+01, 1.083e+02, ..., 1.418e-01, 2.218e-01,\n",
       "        7.820e-02],\n",
       "       [2.060e+01, 2.933e+01, 1.401e+02, ..., 2.650e-01, 4.087e-01,\n",
       "        1.240e-01],\n",
       "       [7.760e+00, 2.454e+01, 4.792e+01, ..., 0.000e+00, 2.871e-01,\n",
       "        7.039e-02]])"
      ]
     },
     "execution_count": 7,
     "metadata": {},
     "output_type": "execute_result"
    }
   ],
   "source": [
    "X   # numpy array, does not allow head()"
   ]
  },
  {
   "cell_type": "code",
   "execution_count": 8,
   "id": "bd95b0d7",
   "metadata": {},
   "outputs": [],
   "source": [
    "# numpy array, does not allow head(), return error\n",
    "#X.head()"
   ]
  },
  {
   "cell_type": "code",
   "execution_count": 9,
   "id": "d6a85e47",
   "metadata": {},
   "outputs": [
    {
     "data": {
      "text/html": [
       "<div>\n",
       "<style scoped>\n",
       "    .dataframe tbody tr th:only-of-type {\n",
       "        vertical-align: middle;\n",
       "    }\n",
       "\n",
       "    .dataframe tbody tr th {\n",
       "        vertical-align: top;\n",
       "    }\n",
       "\n",
       "    .dataframe thead th {\n",
       "        text-align: right;\n",
       "    }\n",
       "</style>\n",
       "<table border=\"1\" class=\"dataframe\">\n",
       "  <thead>\n",
       "    <tr style=\"text-align: right;\">\n",
       "      <th></th>\n",
       "      <th>mean radius</th>\n",
       "      <th>mean texture</th>\n",
       "      <th>mean perimeter</th>\n",
       "      <th>mean area</th>\n",
       "      <th>mean smoothness</th>\n",
       "      <th>mean compactness</th>\n",
       "      <th>mean concavity</th>\n",
       "      <th>mean concave points</th>\n",
       "      <th>mean symmetry</th>\n",
       "      <th>mean fractal dimension</th>\n",
       "      <th>...</th>\n",
       "      <th>worst radius</th>\n",
       "      <th>worst texture</th>\n",
       "      <th>worst perimeter</th>\n",
       "      <th>worst area</th>\n",
       "      <th>worst smoothness</th>\n",
       "      <th>worst compactness</th>\n",
       "      <th>worst concavity</th>\n",
       "      <th>worst concave points</th>\n",
       "      <th>worst symmetry</th>\n",
       "      <th>worst fractal dimension</th>\n",
       "    </tr>\n",
       "  </thead>\n",
       "  <tbody>\n",
       "    <tr>\n",
       "      <th>0</th>\n",
       "      <td>17.99</td>\n",
       "      <td>10.38</td>\n",
       "      <td>122.80</td>\n",
       "      <td>1001.0</td>\n",
       "      <td>0.11840</td>\n",
       "      <td>0.27760</td>\n",
       "      <td>0.3001</td>\n",
       "      <td>0.14710</td>\n",
       "      <td>0.2419</td>\n",
       "      <td>0.07871</td>\n",
       "      <td>...</td>\n",
       "      <td>25.38</td>\n",
       "      <td>17.33</td>\n",
       "      <td>184.60</td>\n",
       "      <td>2019.0</td>\n",
       "      <td>0.1622</td>\n",
       "      <td>0.6656</td>\n",
       "      <td>0.7119</td>\n",
       "      <td>0.2654</td>\n",
       "      <td>0.4601</td>\n",
       "      <td>0.11890</td>\n",
       "    </tr>\n",
       "    <tr>\n",
       "      <th>1</th>\n",
       "      <td>20.57</td>\n",
       "      <td>17.77</td>\n",
       "      <td>132.90</td>\n",
       "      <td>1326.0</td>\n",
       "      <td>0.08474</td>\n",
       "      <td>0.07864</td>\n",
       "      <td>0.0869</td>\n",
       "      <td>0.07017</td>\n",
       "      <td>0.1812</td>\n",
       "      <td>0.05667</td>\n",
       "      <td>...</td>\n",
       "      <td>24.99</td>\n",
       "      <td>23.41</td>\n",
       "      <td>158.80</td>\n",
       "      <td>1956.0</td>\n",
       "      <td>0.1238</td>\n",
       "      <td>0.1866</td>\n",
       "      <td>0.2416</td>\n",
       "      <td>0.1860</td>\n",
       "      <td>0.2750</td>\n",
       "      <td>0.08902</td>\n",
       "    </tr>\n",
       "    <tr>\n",
       "      <th>2</th>\n",
       "      <td>19.69</td>\n",
       "      <td>21.25</td>\n",
       "      <td>130.00</td>\n",
       "      <td>1203.0</td>\n",
       "      <td>0.10960</td>\n",
       "      <td>0.15990</td>\n",
       "      <td>0.1974</td>\n",
       "      <td>0.12790</td>\n",
       "      <td>0.2069</td>\n",
       "      <td>0.05999</td>\n",
       "      <td>...</td>\n",
       "      <td>23.57</td>\n",
       "      <td>25.53</td>\n",
       "      <td>152.50</td>\n",
       "      <td>1709.0</td>\n",
       "      <td>0.1444</td>\n",
       "      <td>0.4245</td>\n",
       "      <td>0.4504</td>\n",
       "      <td>0.2430</td>\n",
       "      <td>0.3613</td>\n",
       "      <td>0.08758</td>\n",
       "    </tr>\n",
       "    <tr>\n",
       "      <th>3</th>\n",
       "      <td>11.42</td>\n",
       "      <td>20.38</td>\n",
       "      <td>77.58</td>\n",
       "      <td>386.1</td>\n",
       "      <td>0.14250</td>\n",
       "      <td>0.28390</td>\n",
       "      <td>0.2414</td>\n",
       "      <td>0.10520</td>\n",
       "      <td>0.2597</td>\n",
       "      <td>0.09744</td>\n",
       "      <td>...</td>\n",
       "      <td>14.91</td>\n",
       "      <td>26.50</td>\n",
       "      <td>98.87</td>\n",
       "      <td>567.7</td>\n",
       "      <td>0.2098</td>\n",
       "      <td>0.8663</td>\n",
       "      <td>0.6869</td>\n",
       "      <td>0.2575</td>\n",
       "      <td>0.6638</td>\n",
       "      <td>0.17300</td>\n",
       "    </tr>\n",
       "    <tr>\n",
       "      <th>4</th>\n",
       "      <td>20.29</td>\n",
       "      <td>14.34</td>\n",
       "      <td>135.10</td>\n",
       "      <td>1297.0</td>\n",
       "      <td>0.10030</td>\n",
       "      <td>0.13280</td>\n",
       "      <td>0.1980</td>\n",
       "      <td>0.10430</td>\n",
       "      <td>0.1809</td>\n",
       "      <td>0.05883</td>\n",
       "      <td>...</td>\n",
       "      <td>22.54</td>\n",
       "      <td>16.67</td>\n",
       "      <td>152.20</td>\n",
       "      <td>1575.0</td>\n",
       "      <td>0.1374</td>\n",
       "      <td>0.2050</td>\n",
       "      <td>0.4000</td>\n",
       "      <td>0.1625</td>\n",
       "      <td>0.2364</td>\n",
       "      <td>0.07678</td>\n",
       "    </tr>\n",
       "  </tbody>\n",
       "</table>\n",
       "<p>5 rows × 30 columns</p>\n",
       "</div>"
      ],
      "text/plain": [
       "   mean radius  mean texture  mean perimeter  mean area  mean smoothness  \\\n",
       "0        17.99         10.38          122.80     1001.0          0.11840   \n",
       "1        20.57         17.77          132.90     1326.0          0.08474   \n",
       "2        19.69         21.25          130.00     1203.0          0.10960   \n",
       "3        11.42         20.38           77.58      386.1          0.14250   \n",
       "4        20.29         14.34          135.10     1297.0          0.10030   \n",
       "\n",
       "   mean compactness  mean concavity  mean concave points  mean symmetry  \\\n",
       "0           0.27760          0.3001              0.14710         0.2419   \n",
       "1           0.07864          0.0869              0.07017         0.1812   \n",
       "2           0.15990          0.1974              0.12790         0.2069   \n",
       "3           0.28390          0.2414              0.10520         0.2597   \n",
       "4           0.13280          0.1980              0.10430         0.1809   \n",
       "\n",
       "   mean fractal dimension  ...  worst radius  worst texture  worst perimeter  \\\n",
       "0                 0.07871  ...         25.38          17.33           184.60   \n",
       "1                 0.05667  ...         24.99          23.41           158.80   \n",
       "2                 0.05999  ...         23.57          25.53           152.50   \n",
       "3                 0.09744  ...         14.91          26.50            98.87   \n",
       "4                 0.05883  ...         22.54          16.67           152.20   \n",
       "\n",
       "   worst area  worst smoothness  worst compactness  worst concavity  \\\n",
       "0      2019.0            0.1622             0.6656           0.7119   \n",
       "1      1956.0            0.1238             0.1866           0.2416   \n",
       "2      1709.0            0.1444             0.4245           0.4504   \n",
       "3       567.7            0.2098             0.8663           0.6869   \n",
       "4      1575.0            0.1374             0.2050           0.4000   \n",
       "\n",
       "   worst concave points  worst symmetry  worst fractal dimension  \n",
       "0                0.2654          0.4601                  0.11890  \n",
       "1                0.1860          0.2750                  0.08902  \n",
       "2                0.2430          0.3613                  0.08758  \n",
       "3                0.2575          0.6638                  0.17300  \n",
       "4                0.1625          0.2364                  0.07678  \n",
       "\n",
       "[5 rows x 30 columns]"
      ]
     },
     "execution_count": 9,
     "metadata": {},
     "output_type": "execute_result"
    }
   ],
   "source": [
    "# Make a nice datafram\n",
    "X = pd.DataFrame(data.data, columns=data.feature_names)\n",
    "X.head()"
   ]
  },
  {
   "cell_type": "code",
   "execution_count": 10,
   "id": "e458500e",
   "metadata": {},
   "outputs": [
    {
     "data": {
      "text/plain": [
       "(569, 30)"
      ]
     },
     "execution_count": 10,
     "metadata": {},
     "output_type": "execute_result"
    }
   ],
   "source": [
    "X.shape"
   ]
  },
  {
   "cell_type": "markdown",
   "id": "215e8825",
   "metadata": {},
   "source": [
    "### Split the dataset"
   ]
  },
  {
   "cell_type": "code",
   "execution_count": 11,
   "id": "2a30688d",
   "metadata": {},
   "outputs": [],
   "source": [
    "from sklearn.model_selection import train_test_split\n",
    "X_train, X_test, y_train, y_test = train_test_split(X, y, random_state=0, test_size=.2 ) # test size = 20% for small dataset"
   ]
  },
  {
   "cell_type": "markdown",
   "id": "995493af",
   "metadata": {},
   "source": [
    "#### Model"
   ]
  },
  {
   "cell_type": "code",
   "execution_count": 12,
   "id": "cc766e42",
   "metadata": {},
   "outputs": [
    {
     "name": "stdout",
     "output_type": "stream",
     "text": [
      "0.956140350877193\n"
     ]
    }
   ],
   "source": [
    "# test1\n",
    "model = XGBClassifier()  # generally default param give good accuary. \n",
    "model.fit(X_train, y_train)\n",
    "y_predict = model.predict(X_test)\n",
    "from sklearn.metrics import accuracy_score, classification_report\n",
    "print(accuracy_score(y_true=y_test, y_pred=y_predict))"
   ]
  },
  {
   "cell_type": "code",
   "execution_count": 13,
   "id": "db6dc13c",
   "metadata": {},
   "outputs": [
    {
     "name": "stdout",
     "output_type": "stream",
     "text": [
      "Training Accuracy : 1.0\n",
      "Testing Accuracy :  0.956140350877193\n"
     ]
    }
   ],
   "source": [
    "# test2\n",
    "model = XGBClassifier()  # generally default param give good accuary. \n",
    "model.fit(X_train, y_train)\n",
    "y_predict = model.predict(X_test)\n",
    "y_train_predict = model.predict(X_train)\n",
    "\n",
    "from sklearn.metrics import accuracy_score, classification_report\n",
    "print('Training Accuracy :',accuracy_score(y_true=y_train, y_pred=y_train_predict))\n",
    "print('Testing Accuracy : ',accuracy_score(y_true=y_test, y_pred=y_predict))"
   ]
  },
  {
   "cell_type": "markdown",
   "id": "44b120aa",
   "metadata": {},
   "source": [
    "1. its a very good accuray, so nothing much can be done, actually!"
   ]
  },
  {
   "attachments": {
    "image.png": {
     "image/png": "[encoded data removed]"
    }
   },
   "cell_type": "markdown",
   "id": "8e52e849",
   "metadata": {},
   "source": [
    "![image.png](attachment:image.png)"
   ]
  },
  {
   "cell_type": "markdown",
   "id": "2941e6ae",
   "metadata": {},
   "source": [
    "1. Since nothing can be done for improving accuracy, so for experiments purpose lets try to decreases accuracy\n",
    "2. As we see increasing max_depth overfit, so decreasing mean actually comes down"
   ]
  },
  {
   "cell_type": "code",
   "execution_count": 14,
   "id": "5f3f17ae",
   "metadata": {},
   "outputs": [
    {
     "name": "stdout",
     "output_type": "stream",
     "text": [
      "Training Accuracy : 0.9978021978021978\n",
      "Testing Accuracy :  0.9736842105263158\n"
     ]
    }
   ],
   "source": [
    "# test2\n",
    "model = XGBClassifier(max_depth=1,\n",
    "                     )   \n",
    "model.fit(X_train, y_train)\n",
    "y_predict = model.predict(X_test)\n",
    "y_train_predict = model.predict(X_train)\n",
    "\n",
    "from sklearn.metrics import accuracy_score, classification_report\n",
    "print('Training Accuracy :',accuracy_score(y_true=y_train, y_pred=y_train_predict))\n",
    "print('Testing Accuracy : ',accuracy_score(y_true=y_test, y_pred=y_predict))"
   ]
  },
  {
   "cell_type": "code",
   "execution_count": 15,
   "id": "45473270",
   "metadata": {},
   "outputs": [
    {
     "name": "stdout",
     "output_type": "stream",
     "text": [
      "Training Accuracy : 1.0\n",
      "Testing Accuracy :  0.9912280701754386\n"
     ]
    }
   ],
   "source": [
    "model = XGBClassifier(max_depth=2,\n",
    "                     )   \n",
    "model.fit(X_train, y_train)\n",
    "y_predict = model.predict(X_test)\n",
    "y_train_predict = model.predict(X_train)\n",
    "\n",
    "from sklearn.metrics import accuracy_score, classification_report\n",
    "print('Training Accuracy :',accuracy_score(y_true=y_train, y_pred=y_train_predict))\n",
    "print('Testing Accuracy : ',accuracy_score(y_true=y_test, y_pred=y_predict))"
   ]
  },
  {
   "cell_type": "code",
   "execution_count": 16,
   "id": "df972d45",
   "metadata": {},
   "outputs": [
    {
     "name": "stdout",
     "output_type": "stream",
     "text": [
      "Training Accuracy : 1.0\n",
      "Testing Accuracy :  0.9736842105263158\n"
     ]
    }
   ],
   "source": [
    "model = XGBClassifier(max_depth=3,\n",
    "                     )   \n",
    "model.fit(X_train, y_train)\n",
    "y_predict = model.predict(X_test)         # apply on test data (generally predict on test data)\n",
    "y_train_predict = model.predict(X_train)  # apply on train data\n",
    "\n",
    "from sklearn.metrics import accuracy_score, classification_report\n",
    "print('Training Accuracy :',accuracy_score(y_true=y_train, y_pred=y_train_predict))\n",
    "print('Testing Accuracy : ',accuracy_score(y_true=y_test, y_pred=y_predict))"
   ]
  },
  {
   "cell_type": "markdown",
   "id": "efce3b7d",
   "metadata": {},
   "source": [
    "1. When max_depth size reduced, model get more generalized (good testing accuracy) "
   ]
  },
  {
   "cell_type": "code",
   "execution_count": 17,
   "id": "1185c83e",
   "metadata": {},
   "outputs": [
    {
     "name": "stdout",
     "output_type": "stream",
     "text": [
      "Training Accuracy : 0.9978021978021978\n",
      "Testing Accuracy : 0.9824561403508771\n"
     ]
    }
   ],
   "source": [
    "# sub sample  , default is 1.0\n",
    "model = XGBClassifier(max_depth=2,\n",
    "                     subsample= 0.5,     # since very small dataset (around 600), taking subsample is very sensitive, be careful\n",
    "                     )\n",
    "model.fit(X_train, y_train)\n",
    "y_predict = model.predict(X_test)\n",
    "y_train_predict = model.predict(X_train)\n",
    "\n",
    "# accuray metrics Target(y) (Actual- Prediction), y_true: actual, y_pred: prediction (must on y)\n",
    "from sklearn.metrics import accuracy_score, classification_report\n",
    "print('Training Accuracy :', accuracy_score(y_true=y_train, y_pred=y_train_predict))      #y_true: y_train (Actual y kept for training, y_pred: (actul x train for predict)\n",
    "print('Testing Accuracy :',accuracy_score(y_true=y_test, y_pred=y_predict))"
   ]
  },
  {
   "cell_type": "markdown",
   "id": "e5df774f",
   "metadata": {},
   "source": [
    "- See that, the model is coming out of overfitting, meaning that if subsample size increases it overfits (train > Test accuracy)\n",
    "- if subsample reduces, then control overfitting mean trainging accuracy down and goes to pretty balance with testing accuracy\n",
    "- sometimes it helps testing "
   ]
  },
  {
   "cell_type": "markdown",
   "id": "c9c22831",
   "metadata": {},
   "source": [
    "1. Metrics Accuracy : y_true ; y_pred\n",
    "    Traing\n",
    "    Testing\n",
    "2. Accuracy always applied on y / target data\n",
    "3. Structure : y_true: y_train,   y_pred: y_train_predict"
   ]
  },
  {
   "cell_type": "markdown",
   "id": "1e962865",
   "metadata": {},
   "source": [
    "#### Modeling: n_estimator"
   ]
  },
  {
   "cell_type": "code",
   "execution_count": 18,
   "id": "0c116526",
   "metadata": {},
   "outputs": [
    {
     "name": "stdout",
     "output_type": "stream",
     "text": [
      "Training Accuracy :  0.9494505494505494\n",
      "Testing Accuracy :  0.9736842105263158\n"
     ]
    }
   ],
   "source": [
    "# N estimator\n",
    "model = XGBClassifier(max_depth=2,\n",
    "                     subsample = 1, \n",
    "                      n_estimators = 2 # only 2 trees, You expect reduction of both accuracy (train, test)              \n",
    "                     )\n",
    "# fit the model\n",
    "model.fit(X_train, y_train)\n",
    "y_predict = model.predict(X_test)\n",
    "y_train_predict = model.predict(X_train)\n",
    "\n",
    "# Evalulation (actual-predict) only target\n",
    "from sklearn.metrics import accuracy_score\n",
    "print('Training Accuracy : ',accuracy_score(y_true=y_train, y_pred= y_train_predict)) # y_true: y_test (which orginally kept for testing), then predict\n",
    "print('Testing Accuracy : ',accuracy_score(y_true=y_test, y_pred=y_predict))\n",
    "\n",
    "## Both accuracy reduce, like we are in underfitting region now!"
   ]
  },
  {
   "cell_type": "code",
   "execution_count": 19,
   "id": "0d310d89",
   "metadata": {},
   "outputs": [
    {
     "name": "stdout",
     "output_type": "stream",
     "text": [
      "Training Accuracy :  0.9252747252747253\n",
      "Testing Accuracy :  0.9035087719298246\n"
     ]
    }
   ],
   "source": [
    "# N estimator\n",
    "model = XGBClassifier(max_depth=2,\n",
    "                     subsample = 1, \n",
    "                      n_estimators = 1 # crezy, does not make sence of 1 tree              \n",
    "                     )\n",
    "# fit the model\n",
    "model.fit(X_train, y_train)\n",
    "y_predict = model.predict(X_test)\n",
    "y_train_predict = model.predict(X_train)\n",
    "\n",
    "# Evalulation (actual-predict) only target\n",
    "from sklearn.metrics import accuracy_score\n",
    "print('Training Accuracy : ',accuracy_score(y_true=y_train, y_pred= y_train_predict)) # y_true: y_test (which orginally kept for testing), then predict\n",
    "print('Testing Accuracy : ',accuracy_score(y_true=y_test, y_pred=y_predict))\n",
    "\n",
    "## Both accuracy reduce, like we are in underfitting region now!"
   ]
  },
  {
   "cell_type": "code",
   "execution_count": 20,
   "id": "d1019fc3",
   "metadata": {},
   "outputs": [
    {
     "name": "stdout",
     "output_type": "stream",
     "text": [
      "Training Accuracy :  1.0\n",
      "Testing Accuracy :  0.9912280701754386\n"
     ]
    }
   ],
   "source": [
    "# N estimator\n",
    "model = XGBClassifier(max_depth=2,\n",
    "                     subsample = 1, \n",
    "                      n_estimators = 100 # crezy, does not make sence of 1 tree              \n",
    "                     )\n",
    "# fit the model\n",
    "model.fit(X_train, y_train)\n",
    "y_predict = model.predict(X_test)\n",
    "y_train_predict = model.predict(X_train)\n",
    "\n",
    "# Evalulation (actual-predict) only target\n",
    "from sklearn.metrics import accuracy_score\n",
    "print('Training Accuracy : ',accuracy_score(y_true=y_train, y_pred= y_train_predict)) # y_true: y_test (which orginally kept for testing), then predict\n",
    "print('Testing Accuracy : ',accuracy_score(y_true=y_test, y_pred=y_predict))\n"
   ]
  },
  {
   "cell_type": "code",
   "execution_count": 21,
   "id": "ff31f652",
   "metadata": {},
   "outputs": [
    {
     "name": "stdout",
     "output_type": "stream",
     "text": [
      "Training Accuracy :  0.9648351648351648\n",
      "Testing Accuracy :  0.9473684210526315\n"
     ]
    }
   ],
   "source": [
    "# Learning rate\n",
    "model = XGBClassifier(max_depth=2,\n",
    "                     subsample = 1, \n",
    "                      n_estimators = 100,\n",
    "                      learning_rate = 0.01 # 0.01 very small step, default 0.1\n",
    "                     )\n",
    "# fit the model\n",
    "model.fit(X_train, y_train)\n",
    "y_predict = model.predict(X_test)\n",
    "y_train_predict = model.predict(X_train)\n",
    "\n",
    "# Evalulation (actual-predict) only target\n",
    "from sklearn.metrics import accuracy_score\n",
    "print('Training Accuracy : ',accuracy_score(y_true=y_train, y_pred= y_train_predict)) # y_true: y_test (which orginally kept for testing), then predict\n",
    "print('Testing Accuracy : ',accuracy_score(y_true=y_test, y_pred=y_predict))"
   ]
  },
  {
   "cell_type": "markdown",
   "id": "ce70e65e",
   "metadata": {},
   "source": [
    "1. if decrease learing rate by alpha & increase learning rate by alpha --> then you will see little increase in accuracy if large dataset"
   ]
  },
  {
   "cell_type": "code",
   "execution_count": 29,
   "id": "6a195a4e",
   "metadata": {},
   "outputs": [
    {
     "name": "stdout",
     "output_type": "stream",
     "text": [
      "Training Accuracy :  0.9846153846153847\n",
      "Testing Accuracy :  0.9649122807017544\n"
     ]
    }
   ],
   "source": [
    "# Learning rate\n",
    "model = XGBClassifier(max_depth=3,\n",
    "                     subsample = 0.8, \n",
    "                      n_estimators = 100,\n",
    "                      learning_rate = 0.01,\n",
    "                      min_child_weight = 1,  # very important regularizer, works well\n",
    "                      random_state = 5\n",
    "                      \n",
    "                     )\n",
    "# fit the model\n",
    "model.fit(X_train, y_train)\n",
    "y_predict = model.predict(X_test)\n",
    "y_train_predict = model.predict(X_train)\n",
    "\n",
    "# Evalulation (actual-predict) only target\n",
    "from sklearn.metrics import accuracy_score\n",
    "print('Training Accuracy : ',accuracy_score(y_true=y_train, y_pred= y_train_predict)) # y_true: y_test (which orginally kept for testing), then predict\n",
    "print('Testing Accuracy : ',accuracy_score(y_true=y_test, y_pred=y_predict))"
   ]
  },
  {
   "cell_type": "code",
   "execution_count": 30,
   "id": "d094ff89",
   "metadata": {},
   "outputs": [
    {
     "name": "stdout",
     "output_type": "stream",
     "text": [
      "Training Accuracy :  1.0\n",
      "Testing Accuracy :  0.9824561403508771\n"
     ]
    }
   ],
   "source": [
    "# accuracy improved by incresasing number of n estimator and reducing laring rate from 0.02 to .05\n",
    "model = XGBClassifier(max_depth=3,\n",
    "                     subsample = 0.8, \n",
    "                      n_estimators = 200,\n",
    "                      learning_rate = 0.05,\n",
    "                      min_child_weight = 1,  # very important regularizer, works well\n",
    "                      random_state = 5\n",
    "                      \n",
    "                     )\n",
    "# fit the model\n",
    "model.fit(X_train, y_train)\n",
    "y_predict = model.predict(X_test)\n",
    "y_train_predict = model.predict(X_train)\n",
    "\n",
    "# Evalulation (actual-predict) only target\n",
    "from sklearn.metrics import accuracy_score\n",
    "print('Training Accuracy : ',accuracy_score(y_true=y_train, y_pred= y_train_predict)) # y_true: y_test (which orginally kept for testing), then predict\n",
    "print('Testing Accuracy : ',accuracy_score(y_true=y_test, y_pred=y_predict))"
   ]
  },
  {
   "cell_type": "code",
   "execution_count": null,
   "id": "d115d4fd",
   "metadata": {},
   "outputs": [],
   "source": []
  },
  {
   "cell_type": "code",
   "execution_count": null,
   "id": "bdd20bdd",
   "metadata": {},
   "outputs": [],
   "source": []
  },
  {
   "cell_type": "code",
   "execution_count": 23,
   "id": "d2aa8070",
   "metadata": {},
   "outputs": [
    {
     "name": "stdout",
     "output_type": "stream",
     "text": [
      "0.956140350877193\n",
      "              precision    recall  f1-score   support\n",
      "\n",
      "           0       0.94      0.96      0.95        47\n",
      "           1       0.97      0.96      0.96        67\n",
      "\n",
      "    accuracy                           0.96       114\n",
      "   macro avg       0.95      0.96      0.95       114\n",
      "weighted avg       0.96      0.96      0.96       114\n",
      "\n"
     ]
    },
    {
     "data": {
      "text/html": [
       "<div>\n",
       "<style scoped>\n",
       "    .dataframe tbody tr th:only-of-type {\n",
       "        vertical-align: middle;\n",
       "    }\n",
       "\n",
       "    .dataframe tbody tr th {\n",
       "        vertical-align: top;\n",
       "    }\n",
       "\n",
       "    .dataframe thead th {\n",
       "        text-align: right;\n",
       "    }\n",
       "</style>\n",
       "<table border=\"1\" class=\"dataframe\">\n",
       "  <thead>\n",
       "    <tr style=\"text-align: right;\">\n",
       "      <th>col_0</th>\n",
       "      <th>0</th>\n",
       "      <th>1</th>\n",
       "    </tr>\n",
       "    <tr>\n",
       "      <th>row_0</th>\n",
       "      <th></th>\n",
       "      <th></th>\n",
       "    </tr>\n",
       "  </thead>\n",
       "  <tbody>\n",
       "    <tr>\n",
       "      <th>0</th>\n",
       "      <td>45</td>\n",
       "      <td>2</td>\n",
       "    </tr>\n",
       "    <tr>\n",
       "      <th>1</th>\n",
       "      <td>3</td>\n",
       "      <td>64</td>\n",
       "    </tr>\n",
       "  </tbody>\n",
       "</table>\n",
       "</div>"
      ],
      "text/plain": [
       "col_0   0   1\n",
       "row_0        \n",
       "0      45   2\n",
       "1       3  64"
      ]
     },
     "execution_count": 23,
     "metadata": {},
     "output_type": "execute_result"
    }
   ],
   "source": [
    "# Test 3\n",
    "model = XGBClassifier()  # generally default param give good accuary. \n",
    "model.fit(X_train, y_train)\n",
    "y_predict = model.predict(X_test)\n",
    "from sklearn.metrics import accuracy_score, classification_report\n",
    "print(accuracy_score(y_true=y_test, y_pred=y_predict))\n",
    "print(classification_report(y_true=y_test, y_pred=y_predict))\n",
    "pd.crosstab(y_test, y_predict)"
   ]
  },
  {
   "attachments": {
    "image.png": {
     "image/png": "[encoded data removed]"
    }
   },
   "cell_type": "markdown",
   "id": "8f7339d9",
   "metadata": {},
   "source": [
    "![image.png](attachment:image.png)"
   ]
  },
  {
   "cell_type": "markdown",
   "id": "506960ff",
   "metadata": {},
   "source": [
    "#### interpretation"
   ]
  },
  {
   "cell_type": "markdown",
   "id": "5af9da91",
   "metadata": {},
   "source": [
    "1. Non Cancer & Cancer is 0, 1 respectively\n",
    "2. 2 partient dont have cancer, but classified as Cancer ( lets say somewhat ok), 3 paticient having cancer or victim, but model recognized as non-cancer (this may have serious effect)!\n"
   ]
  },
  {
   "cell_type": "code",
   "execution_count": null,
   "id": "3a650512",
   "metadata": {},
   "outputs": [],
   "source": []
  },
  {
   "cell_type": "code",
   "execution_count": null,
   "id": "c8924ca6",
   "metadata": {},
   "outputs": [],
   "source": []
  },
  {
   "cell_type": "code",
   "execution_count": null,
   "id": "9d7e3ddc",
   "metadata": {},
   "outputs": [],
   "source": []
  },
  {
   "cell_type": "markdown",
   "id": "b5e16100",
   "metadata": {},
   "source": [
    "# Additional"
   ]
  },
  {
   "cell_type": "code",
   "execution_count": 24,
   "id": "b13deffd",
   "metadata": {},
   "outputs": [
    {
     "data": {
      "text/plain": [
       "\"\\nimport xgboost as xgb\\nfrom sklearn.model_selection import GridSearchCV\\n\\n# Load data\\ndata = xgb.DMatrix('data.csv')\\n\\n# Set parameters\\nparams = {\\n    'max_depth': 3,\\n    'eta': 0.1,\\n    'objective': 'binary:logistic'\\n}\\n\\n# Define grid search parameters\\ngrid_search_params = {\\n    'min_child_weight': [1, 5, 10, 20]\\n}\\n\\n# Create grid search object\\ngrid_search = GridSearchCV(estimator=xgb.XGBClassifier(**params),\\n                           param_grid=grid_search_params,\\n                           scoring='roc_auc',\\n                           n_jobs=-1,\\n                           cv=5)\\n\\n# Fit grid search object to data\\ngrid_search.fit(data)\\n\\n\\n\""
      ]
     },
     "execution_count": 24,
     "metadata": {},
     "output_type": "execute_result"
    }
   ],
   "source": [
    "# How do I know what value to set for min_child_weight?\n",
    "'''\n",
    "import xgboost as xgb\n",
    "from sklearn.model_selection import GridSearchCV\n",
    "\n",
    "# Load data\n",
    "data = xgb.DMatrix('data.csv')\n",
    "\n",
    "# Set parameters\n",
    "params = {\n",
    "    'max_depth': 3,\n",
    "    'eta': 0.1,\n",
    "    'objective': 'binary:logistic'\n",
    "}\n",
    "\n",
    "# Define grid search parameters\n",
    "grid_search_params = {\n",
    "    'min_child_weight': [1, 5, 10, 20]\n",
    "}\n",
    "\n",
    "# Create grid search object\n",
    "grid_search = GridSearchCV(estimator=xgb.XGBClassifier(**params),\n",
    "                           param_grid=grid_search_params,\n",
    "                           scoring='roc_auc',\n",
    "                           n_jobs=-1,\n",
    "                           cv=5)\n",
    "\n",
    "# Fit grid search object to data\n",
    "grid_search.fit(data)\n",
    "\n",
    "\n",
    "'''"
   ]
  },
  {
   "cell_type": "markdown",
   "id": "412ca55c",
   "metadata": {},
   "source": [
    "In this example, we define a range of values for min_child_weight (1, 5, 10, and 20) and use the GridSearchCV function from scikit-learn to find the optimal value of min_child_weight. The GridSearchCV function tries all possible combinations of the hyperparameters and returns the optimal value"
   ]
  },
  {
   "cell_type": "code",
   "execution_count": null,
   "id": "141632d1",
   "metadata": {},
   "outputs": [],
   "source": []
  },
  {
   "cell_type": "code",
   "execution_count": null,
   "id": "3ad32f93",
   "metadata": {},
   "outputs": [],
   "source": []
  },
  {
   "cell_type": "code",
   "execution_count": null,
   "id": "04fce02f",
   "metadata": {},
   "outputs": [],
   "source": []
  },
  {
   "cell_type": "code",
   "execution_count": null,
   "id": "5f535c10",
   "metadata": {},
   "outputs": [],
   "source": []
  },
  {
   "cell_type": "code",
   "execution_count": null,
   "id": "cebd6660",
   "metadata": {},
   "outputs": [],
   "source": []
  },
  {
   "cell_type": "markdown",
   "id": "9afb7bce",
   "metadata": {},
   "source": [
    "### Additional Excercise"
   ]
  },
  {
   "cell_type": "markdown",
   "id": "af75a4a2",
   "metadata": {},
   "source": [
    "### GridSearch CV"
   ]
  },
  {
   "cell_type": "markdown",
   "id": "b97acf11",
   "metadata": {},
   "source": [
    "CertainlyGridSearchCV is a function in the scikit-learn library that performs hyperparameter tuning by training and evaluating a machine learning model using different combinations of hyperparameters 1. The best set of hyperparameters is then selected based on a specified performance metric .\n",
    "\n",
    "The GridSearchCV function exhaustively searches over a specified parameter grid to find the optimal hyperparameters for a given estimator 2. The function takes as input an estimator, a dictionary of hyperparameters to search over, and a cross-validation scheme 2. It then trains and evaluates the estimator using all possible combinations of hyperparameters and returns the best set of hyperparameters based on the specified performance metric 2.\n",
    "\n",
    "Here’s an example of how to use the GridSearchCV function in scikit-learn:"
   ]
  },
  {
   "cell_type": "code",
   "execution_count": 25,
   "id": "fcdee7fc",
   "metadata": {},
   "outputs": [
    {
     "name": "stdout",
     "output_type": "stream",
     "text": [
      "{'max_depth': 10, 'min_samples_split': 5, 'n_estimators': 50}\n"
     ]
    }
   ],
   "source": [
    "from sklearn.model_selection import GridSearchCV\n",
    "from sklearn.ensemble import RandomForestClassifier\n",
    "from sklearn.datasets import make_classification\n",
    "\n",
    "# Load data\n",
    "X, y = make_classification(n_samples=1000, n_features=10, random_state=42)\n",
    "\n",
    "# Define parameter grid\n",
    "param_grid = {\n",
    "    'n_estimators': [10, 50, 100],\n",
    "    'max_depth': [None, 5, 10],\n",
    "    'min_samples_split': [2, 5, 10]\n",
    "}\n",
    "\n",
    "# Define estimator\n",
    "estimator = RandomForestClassifier(random_state=42)\n",
    "\n",
    "# Define cross-validation scheme\n",
    "cv = 5\n",
    "\n",
    "# Create GridSearchCV object\n",
    "grid_search = GridSearchCV(estimator=estimator, param_grid=param_grid, cv=cv)\n",
    "\n",
    "# Fit GridSearchCV object to data\n",
    "grid_search.fit(X, y)\n",
    "\n",
    "# Print best hyperparameters\n",
    "print(grid_search.best_params_)\n"
   ]
  },
  {
   "cell_type": "markdown",
   "id": "fff562e5",
   "metadata": {},
   "source": [
    "In this example, we use the GridSearchCV function to find the optimal hyperparameters for a RandomForestClassifier estimator. We define a parameter grid with three hyperparameters to search over: n_estimators, max_depth, and min_samples_split. We then define a RandomForestClassifier estimator and a cross-validation scheme with 5 folds. Finally, we create a GridSearchCV object and fit it to the data. The best hyperparameters are printed at the end of the script"
   ]
  },
  {
   "cell_type": "code",
   "execution_count": null,
   "id": "aa7c7211",
   "metadata": {},
   "outputs": [],
   "source": []
  },
  {
   "cell_type": "code",
   "execution_count": null,
   "id": "80bbc60c",
   "metadata": {},
   "outputs": [],
   "source": []
  },
  {
   "cell_type": "code",
   "execution_count": null,
   "id": "d1f74803",
   "metadata": {},
   "outputs": [],
   "source": []
  },
  {
   "cell_type": "markdown",
   "id": "28f3d1e4",
   "metadata": {},
   "source": [
    "#### Q. can you show me learning curve code for understanding whether model is underfit of overfitting ?"
   ]
  },
  {
   "cell_type": "code",
   "execution_count": 26,
   "id": "9b98ab82",
   "metadata": {},
   "outputs": [
    {
     "name": "stdout",
     "output_type": "stream",
     "text": [
      "[learning_curve] Training set sizes: [ 161  323  485  646  808  970 1131 1293 1455 1617]\n"
     ]
    },
    {
     "name": "stderr",
     "output_type": "stream",
     "text": [
      "[Parallel(n_jobs=-1)]: Using backend LokyBackend with 12 concurrent workers.\n",
      "[Parallel(n_jobs=-1)]: Done 100 out of 100 | elapsed:    3.3s finished\n"
     ]
    },
    {
     "data": {
      "image/png": "[encoded data removed]",
      "text/plain": [
       "<Figure size 640x480 with 1 Axes>"
      ]
     },
     "metadata": {},
     "output_type": "display_data"
    }
   ],
   "source": [
    "# Here’s an example of how to plot the learning curve for a machine learning model using scikit-learn:\n",
    "import matplotlib.pyplot as plt\n",
    "import numpy as np\n",
    "from sklearn.model_selection import learning_curve\n",
    "from sklearn.datasets import load_digits\n",
    "from sklearn.svm import SVC\n",
    "\n",
    "# Load data\n",
    "digits = load_digits()\n",
    "\n",
    "# Define estimator\n",
    "estimator = SVC(kernel='linear')\n",
    "\n",
    "# Define parameter grid\n",
    "param_grid = {\n",
    "    'C': [0.1, 1, 10, 100],\n",
    "    'gamma': [0.001, 0.01, 0.1, 1]\n",
    "}\n",
    "\n",
    "# Calculate learning curve\n",
    "train_sizes, train_scores, test_scores = learning_curve(\n",
    "    estimator, digits.data, digits.target, cv=10, n_jobs=-1,\n",
    "    train_sizes=np.linspace(0.1, 1.0, 10), verbose=1)\n",
    "\n",
    "# Calculate mean and standard deviation of training scores\n",
    "train_mean = np.mean(train_scores, axis=1)\n",
    "train_std = np.std(train_scores, axis=1)\n",
    "\n",
    "# Calculate mean and standard deviation of test scores\n",
    "test_mean = np.mean(test_scores, axis=1)\n",
    "test_std = np.std(test_scores, axis=1)\n",
    "\n",
    "# Plot learning curve\n",
    "plt.plot(train_sizes, train_mean, label='Training score')\n",
    "plt.plot(train_sizes, test_mean, label='Cross-validation score')\n",
    "\n",
    "# Add standard deviation to plot\n",
    "plt.fill_between(train_sizes, train_mean - train_std, train_mean + train_std, alpha=0.1)\n",
    "plt.fill_between(train_sizes, test_mean - test_std, test_mean + test_std, alpha=0.1)\n",
    "\n",
    "# Add labels and legend to plot\n",
    "plt.xlabel('Number of training examples')\n",
    "plt.ylabel('Accuracy score')\n",
    "plt.title('Learning curve')\n",
    "plt.legend(loc='best')\n",
    "\n",
    "# Show plot\n",
    "plt.show()\n"
   ]
  },
  {
   "cell_type": "markdown",
   "id": "eef82c12",
   "metadata": {},
   "source": [
    "In this example, we use the learning_curve function from scikit-learn to calculate the learning curve for a SVC estimator. We define a parameter grid with two hyperparameters to search over: C and gamma 1. We then calculate the learning curve using the learning_curve function and plot the results. The plot shows the training score and cross-validation score as a function of the number of training examples."
   ]
  },
  {
   "cell_type": "markdown",
   "id": "ac1d1403",
   "metadata": {},
   "source": [
    "#### Interpretation of Learning Curve"
   ]
  },
  {
   "cell_type": "markdown",
   "id": "79b80edf",
   "metadata": {},
   "source": [
    "A learning curve is a plot of the model’s performance on the training set and the validation set as a function of the number of training examples. The x-axis represents the number of training examples, while the y-axis represents the performance metric, such as accuracy or error rate.\n",
    "\n",
    "A typical learning curve plot has two lines: one for the training set and one for the validation set. The training set line shows the performance of the model on the training set as a function of the number of training examples. The validation set line shows the performance of the model on the validation set as a function of the number of training examples.\n",
    "\n",
    "To interpret a learning curve plot, you should look for the following patterns:\n",
    "\n",
    "<b>Underfitting</b>: If both the training set and the validation set lines converge to a low score, then the model is likely to be underfitting. This means that the model is not complex enough to capture the underlying patterns in the data.\n",
    "\n",
    "<b>Overfitting</b>: If the training set line converges to a high score while the validation set line converges to a low score, then the model is likely to be overfitting. This means that the model is too complex and is fitting the noise in the data instead of the underlying patterns\n",
    "\n",
    "<b> Well-fit </b>: If both the training set and the validation set lines converge to a high score, then the model is likely to be well-fit. This means that the model is complex enough to capture the underlying patterns in the data without overfitting "
   ]
  },
  {
   "cell_type": "code",
   "execution_count": null,
   "id": "4a5ab0df",
   "metadata": {},
   "outputs": [],
   "source": []
  },
  {
   "cell_type": "code",
   "execution_count": null,
   "id": "6976b413",
   "metadata": {},
   "outputs": [],
   "source": []
  },
  {
   "cell_type": "markdown",
   "id": "2e89eee7",
   "metadata": {},
   "source": [
    "# Estimator"
   ]
  },
  {
   "cell_type": "markdown",
   "id": "a70703d1",
   "metadata": {},
   "source": [
    "#### Q. How do I choose the optimal value of n_estimators?"
   ]
  },
  {
   "cell_type": "markdown",
   "id": "d34d6c43",
   "metadata": {},
   "source": [
    "The optimal value of n_estimators depends on the dataset and the problem you are trying to solve. One way to determine the optimal value is to use cross-validation and grid search.\n",
    "\n",
    "In cross-validation, the data is split into multiple folds, and the model is trained and evaluated on each fold . The performance of the model is then averaged across all folds to obtain an estimate of the model’s performance.\n",
    "\n",
    "Grid search is a technique that involves searching over a range of hyperparameters to find the optimal combination of hyperparameters. In the case of n_estimators, you can define a range of values for n_estimators and use grid search to find the optimal value.\n",
    "\n",
    "Here’s an example of how to use cross-validation and grid search to find the optimal value of n_estimators in Random Forest:"
   ]
  },
  {
   "cell_type": "code",
   "execution_count": 27,
   "id": "a8a1f11c",
   "metadata": {},
   "outputs": [
    {
     "name": "stdout",
     "output_type": "stream",
     "text": [
      "{'n_estimators': 500}\n"
     ]
    }
   ],
   "source": [
    "from sklearn.ensemble import RandomForestClassifier\n",
    "from sklearn.model_selection import GridSearchCV\n",
    "from sklearn.datasets import load_digits\n",
    "\n",
    "# Load data\n",
    "digits = load_digits()\n",
    "\n",
    "# Define estimator\n",
    "estimator = RandomForestClassifier()\n",
    "\n",
    "# Define parameter grid\n",
    "param_grid = {\n",
    "    'n_estimators': [10, 50, 100, 200, 500]\n",
    "}\n",
    "\n",
    "# Define cross-validation scheme\n",
    "cv = 5\n",
    "\n",
    "# Create GridSearchCV object\n",
    "grid_search = GridSearchCV(estimator=estimator, param_grid=param_grid, cv=cv)\n",
    "\n",
    "# Fit GridSearchCV object to data\n",
    "grid_search.fit(digits.data, digits.target)\n",
    "\n",
    "# Print best hyperparameters\n",
    "print(grid_search.best_params_)\n"
   ]
  },
  {
   "cell_type": "code",
   "execution_count": null,
   "id": "7c099e93",
   "metadata": {},
   "outputs": [],
   "source": []
  },
  {
   "cell_type": "markdown",
   "id": "4668430c",
   "metadata": {},
   "source": [
    "# Learning Rate"
   ]
  },
  {
   "cell_type": "markdown",
   "id": "c71daba5",
   "metadata": {},
   "source": [
    "The learning rate is a hyper-parameter used in machine learning to control the pace at which an algorithm updates or learns the values of a parameter estimate. It is denoted by the symbol α and regulates the weights of our neural network concerning the loss gradient. In other words, it determines how often the neural network refreshes the notions it has learned .\n",
    "\n",
    "The learning rate is a hyper-parameter because it is not learned from the data, but rather set by the machine learning engineer or data scientist. It is used to regulate how algorithms learn and modify the model’s performance.\n",
    "\n",
    "A desirable learning rate is low enough for the network to converge on something useful while yet being high enough to train in a reasonable length of time 1. Smaller learning rates necessitate more training epochs because of the fewer changes. On the other hand, larger learning rates result in faster changes. Moreover, larger learning rates frequently result in a suboptimal final set of weights \n",
    "\n",
    "The learning rate is a crucial hyper-parameter that can significantly impact the performance of a machine learning model . It is essential to set the learning rate correctly to ensure that the model learns effectively and efficiently"
   ]
  },
  {
   "cell_type": "markdown",
   "id": "b6b8359c",
   "metadata": {},
   "source": [
    "#### Q. finding optimal learning rate in cross validation, give code example"
   ]
  },
  {
   "cell_type": "code",
   "execution_count": 28,
   "id": "1d67f0e5",
   "metadata": {},
   "outputs": [
    {
     "name": "stdout",
     "output_type": "stream",
     "text": [
      "The optimal learning rate is 0.1.\n"
     ]
    }
   ],
   "source": [
    "from sklearn.datasets import make_classification\n",
    "from sklearn.model_selection import GridSearchCV\n",
    "from sklearn.neural_network import MLPClassifier\n",
    "from sklearn.model_selection import KFold\n",
    "\n",
    "# Generate a random dataset\n",
    "X, y = make_classification(n_samples=1000, n_features=20, n_informative=10, n_redundant=5, random_state=42)\n",
    "\n",
    "# Define the parameter grid\n",
    "param_grid = {'learning_rate_init': [0.001, 0.01, 0.1, 1]}\n",
    "\n",
    "# Define the model\n",
    "model = MLPClassifier(hidden_layer_sizes=(10, 10), max_iter=1000, random_state=42)\n",
    "\n",
    "# Define the cross-validation method\n",
    "cv = KFold(n_splits=5, shuffle=True, random_state=42)\n",
    "\n",
    "# Define the grid search\n",
    "grid_search = GridSearchCV(model, param_grid=param_grid, cv=cv, scoring='accuracy')\n",
    "\n",
    "# Fit the grid search\n",
    "grid_search.fit(X, y)\n",
    "\n",
    "# Print the best learning rate\n",
    "print(f\"The optimal learning rate is {grid_search.best_params_['learning_rate_init']}.\")\n"
   ]
  },
  {
   "cell_type": "code",
   "execution_count": null,
   "id": "6b8f7957",
   "metadata": {},
   "outputs": [],
   "source": []
  }
 ],
 "metadata": {
  "kernelspec": {
   "display_name": "Python 3 (ipykernel)",
   "language": "python",
   "name": "python3"
  },
  "language_info": {
   "codemirror_mode": {
    "name": "ipython",
    "version": 3
   },
   "file_extension": ".py",
   "mimetype": "text/x-python",
   "name": "python",
   "nbconvert_exporter": "python",
   "pygments_lexer": "ipython3",
   "version": "3.10.6"
  }
 },
 "nbformat": 4,
 "nbformat_minor": 5
}
