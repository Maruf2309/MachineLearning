{
 "cells": [
  {
   "attachments": {},
   "cell_type": "markdown",
   "metadata": {},
   "source": [
    "# RMSE – Root Mean Square Error in Python | 1017"
   ]
  },
  {
   "attachments": {},
   "cell_type": "markdown",
   "metadata": {},
   "source": [
    "- In this article, we will be focusing on Implementing RMSE – Root Mean Square Error as a metric in Python\n",
    "- Before diving deep into the concept of RMSE, let us first understand the error metrics in Python.\n",
    "- Error metrics enable us to track the efficiency and accuracy through various metrics as shown below:\n",
    "- Mean Square Error(MSE)\n",
    "- Root Mean Square Error(RMSE)\n",
    "- R-square\n",
    "- Accuracy\n",
    "- MAPE, etc.\n",
    "- Mean Square error is one such error metric for judging the accuracy and error rate of any machine learning algorithm for a regression problem.\n",
    "- So, MSE is a risk function that helps us determine the average squared difference between the predicted and the actual value of a feature or variable.\n",
    "- RMSE is an acronym for Root Mean Square Error, which is the square root of value obtained from Mean Square Error function.\n",
    "- Using RMSE, we can easily plot a difference between the estimated and actual values of a parameter of the model.\n",
    "- By this, we can clearly judge the efficiency of the model.\n",
    "- Usually, a RMSE score of less than 180 is considered a good score for a moderately or well working algorithm. In case, the RMSE value exceeds 180, we need to perform feature selection and hyper parameter tuning on the parameters of the model.\n",
    "\n"
   ]
  },
  {
   "attachments": {},
   "cell_type": "markdown",
   "metadata": {},
   "source": [
    "# Root Mean Square Error with NumPy module"
   ]
  },
  {
   "cell_type": "code",
   "execution_count": 1,
   "metadata": {},
   "outputs": [
    {
     "name": "stdout",
     "output_type": "stream",
     "text": [
      "Root Mean Squre Error:\n",
      "\n",
      "0.6971370023173351\n"
     ]
    }
   ],
   "source": [
    "# Libary Import\n",
    "import numpy as np\n",
    "import math\n",
    "\n",
    "# Dataset\n",
    "y_actual = [1, 2, 3, 4, 5]\n",
    "y_predicted = [1.6, 2.5, 2.9, 3, 4.1]\n",
    "\n",
    "# MSE\n",
    "mse = np.square(np.subtract(y_actual, y_predicted)).mean()\n",
    "\n",
    "# RMSE\n",
    "rmse = math.sqrt(mse)\n",
    "\n",
    "# Print\n",
    "print(\"Root Mean Squre Error:\\n\")\n",
    "print(rmse)"
   ]
  },
  {
   "attachments": {},
   "cell_type": "markdown",
   "metadata": {},
   "source": [
    "# RMSE with Python scikit learn library"
   ]
  },
  {
   "attachments": {},
   "cell_type": "markdown",
   "metadata": {},
   "source": [
    "- In this example, we have calculated the MSE score using mean_square_error() function from sklearn.metrics library.\n",
    "- Further, have calculated the RMSE score through the square root of MSE as shown below:"
   ]
  },
  {
   "cell_type": "code",
   "execution_count": 4,
   "metadata": {},
   "outputs": [
    {
     "name": "stdout",
     "output_type": "stream",
     "text": [
      "Root Mean Square Error:\n",
      "\n",
      "0.6971370023173351\n"
     ]
    }
   ],
   "source": [
    "from sklearn.metrics import mean_squared_error\n",
    "import math\n",
    "\n",
    "# Dataset\n",
    "y_actual = [1,2, 3,4,5]\n",
    "y_predicted = [1.6, 2.5, 2.9, 3, 4.1]\n",
    "\n",
    "# MSE\n",
    "mse = mean_squared_error(y_actual, y_predicted)\n",
    "\n",
    "# RMSE\n",
    "rmse = math.sqrt(mse)\n",
    "\n",
    "# Print\n",
    "print(\"Root Mean Square Error:\\n\")\n",
    "print(rmse)\n"
   ]
  }
 ],
 "metadata": {
  "kernelspec": {
   "display_name": "Python 3",
   "language": "python",
   "name": "python3"
  },
  "language_info": {
   "codemirror_mode": {
    "name": "ipython",
    "version": 3
   },
   "file_extension": ".py",
   "mimetype": "text/x-python",
   "name": "python",
   "nbconvert_exporter": "python",
   "pygments_lexer": "ipython3",
   "version": "3.10.7"
  },
  "orig_nbformat": 4
 },
 "nbformat": 4,
 "nbformat_minor": 2
}
