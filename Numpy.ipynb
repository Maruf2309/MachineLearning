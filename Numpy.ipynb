{
 "cells": [
  {
   "cell_type": "markdown",
   "id": "3c360b4c",
   "metadata": {},
   "source": [
    "# NumPy"
   ]
  },
  {
   "cell_type": "markdown",
   "id": "1ee1f010",
   "metadata": {},
   "source": [
    "# 4.3. Functions to Create Arrays"
   ]
  },
  {
   "cell_type": "code",
   "execution_count": 1,
   "id": "db5cb215",
   "metadata": {},
   "outputs": [
    {
     "name": "stdout",
     "output_type": "stream",
     "text": [
      "[1. 2. 3.]\n",
      "(3,)\n",
      "float64\n"
     ]
    }
   ],
   "source": [
    "# Example of creating an array with the array() function.\n",
    "# Library\n",
    "from numpy import array\n",
    "\n",
    "# Create Array\n",
    "l = [1.0, 2.0, 3.0]\n",
    "a = array(l)\n",
    "\n",
    "# Display Array\n",
    "print(a)\n",
    "\n",
    "# Display Array Shape\n",
    "print(a.shape)\n",
    "\n",
    "# Display array data type\n",
    "print(a.dtype)"
   ]
  },
  {
   "cell_type": "markdown",
   "id": "ec43afbf",
   "metadata": {},
   "source": [
    "### There are more convenience functions for creating fixed-sized arrays"
   ]
  },
  {
   "cell_type": "markdown",
   "id": "fd6d2840",
   "metadata": {},
   "source": [
    "## 4.3.1 Empty"
   ]
  },
  {
   "cell_type": "markdown",
   "id": "76f4e610",
   "metadata": {},
   "source": [
    "- The empty() function will create a new array of the <b>specified shape</b>.\n",
    "- The values or content of the created array will be <b>random </b> and will need to be assigned before use\n",
    "- The example below creates an empty 3 × 3 two-dimensional array."
   ]
  },
  {
   "cell_type": "code",
   "execution_count": 2,
   "id": "a319dd57",
   "metadata": {},
   "outputs": [
    {
     "name": "stdout",
     "output_type": "stream",
     "text": [
      "[[0.00000000e+000 0.00000000e+000 0.00000000e+000]\n",
      " [0.00000000e+000 0.00000000e+000 7.19359580e-321]\n",
      " [1.05699242e-307 3.11523242e-307 5.68175493e-322]]\n"
     ]
    }
   ],
   "source": [
    "# Listing 4.3: Example of creating an array with the empty() function.\n",
    "# Package\n",
    "from numpy import empty\n",
    "\n",
    "# Create empty array\n",
    "a = empty([3,3])\n",
    "print(a)"
   ]
  },
  {
   "cell_type": "markdown",
   "id": "0623105c",
   "metadata": {},
   "source": [
    "# 4.3.2 Zeros"
   ]
  },
  {
   "cell_type": "markdown",
   "id": "2cdbd0e6",
   "metadata": {},
   "source": [
    "- The zeros() function will create a new array of the <b> specified size </b> with the contents filled with <b> zero values</b>\n",
    "- The arg to the function is an <b> array or tuple </b> that specifies the length of each dimenstion of the array\n"
   ]
  },
  {
   "cell_type": "code",
   "execution_count": 3,
   "id": "e47aa961",
   "metadata": {},
   "outputs": [
    {
     "name": "stdout",
     "output_type": "stream",
     "text": [
      "[[0. 0. 0. 0. 0.]\n",
      " [0. 0. 0. 0. 0.]\n",
      " [0. 0. 0. 0. 0.]]\n"
     ]
    }
   ],
   "source": [
    "# Example of creating an array with the zeros() function.\n",
    "# Create Zero Arrays\n",
    "from numpy import zeros\n",
    "\n",
    "a = zeros([3,5])\n",
    "print(a)"
   ]
  },
  {
   "cell_type": "markdown",
   "id": "2819db49",
   "metadata": {},
   "source": [
    "# 4.3.3 Ones"
   ]
  },
  {
   "cell_type": "code",
   "execution_count": 4,
   "id": "cc1039ce",
   "metadata": {},
   "outputs": [
    {
     "name": "stdout",
     "output_type": "stream",
     "text": [
      "[1. 1. 1. 1. 1.]\n"
     ]
    }
   ],
   "source": [
    "# Example of creating an array with the ones() function.\n",
    "\n",
    "# Create One array\n",
    "from numpy import ones\n",
    "a = ones([5])\n",
    "print(a)"
   ]
  },
  {
   "cell_type": "markdown",
   "id": "98dc0303",
   "metadata": {},
   "source": [
    "# 4.4 Combining Arrays"
   ]
  },
  {
   "cell_type": "markdown",
   "id": "209e87c7",
   "metadata": {},
   "source": [
    "- Vertical Stack\n",
    "- Horizontal Stack"
   ]
  },
  {
   "cell_type": "markdown",
   "id": "86c54ad2",
   "metadata": {},
   "source": [
    "- Vertical Stack: you can stack them vertically using the vstack() function.\n",
    "- For example, given two one-dimensional arrays, you can create a new two-dimensional array with two rows by vertically stacking them."
   ]
  },
  {
   "cell_type": "markdown",
   "id": "ba65f69c",
   "metadata": {},
   "source": [
    "- Horizontal Stack: you can stack them horizontally using the hstack() function\n",
    "-  given two one-dimensional arrays, you can create a new one-dimensional array or one row with the columns of the first and second arrays concatenated"
   ]
  },
  {
   "cell_type": "markdown",
   "id": "d394c43d",
   "metadata": {},
   "source": [
    "## 4.4.1 Vertical Stack"
   ]
  },
  {
   "cell_type": "markdown",
   "id": "160ffc48",
   "metadata": {},
   "source": [
    "#### Example of creating an array from other arrays using the vstack() function."
   ]
  },
  {
   "cell_type": "code",
   "execution_count": 5,
   "id": "863581b9",
   "metadata": {},
   "outputs": [
    {
     "name": "stdout",
     "output_type": "stream",
     "text": [
      "[1 2 3]\n",
      "[4 5 6]\n"
     ]
    }
   ],
   "source": [
    "#  create array with vstack\n",
    "from numpy import array\n",
    "from numpy import vstack\n",
    "\n",
    "# Create first array\n",
    "a1 = array([1,2,3])\n",
    "print(a1)\n",
    "\n",
    "# Create second Array\n",
    "a2 = array([4,5,6])\n",
    "print(a2)"
   ]
  },
  {
   "cell_type": "code",
   "execution_count": 6,
   "id": "6346a8c9",
   "metadata": {},
   "outputs": [
    {
     "name": "stdout",
     "output_type": "stream",
     "text": [
      "[[1 2 3]\n",
      " [4 5 6]]\n"
     ]
    }
   ],
   "source": [
    "# Vertical Stack\n",
    "a3 = vstack((a1, a2))\n",
    "print(a3)"
   ]
  },
  {
   "cell_type": "code",
   "execution_count": 7,
   "id": "d19396a0",
   "metadata": {},
   "outputs": [
    {
     "name": "stdout",
     "output_type": "stream",
     "text": [
      "(2, 3)\n"
     ]
    }
   ],
   "source": [
    "# Shape\n",
    "print(a3.shape)"
   ]
  },
  {
   "cell_type": "markdown",
   "id": "a960d048",
   "metadata": {},
   "source": [
    "## 4.4.2 Horizontal Stack"
   ]
  },
  {
   "cell_type": "markdown",
   "id": "db34da08",
   "metadata": {},
   "source": [
    "#### Example of creating an array from other arrays using the hstack() function"
   ]
  },
  {
   "cell_type": "code",
   "execution_count": 8,
   "id": "3343d732",
   "metadata": {},
   "outputs": [
    {
     "name": "stdout",
     "output_type": "stream",
     "text": [
      "[1 2 3]\n",
      "[4 5 6]\n"
     ]
    }
   ],
   "source": [
    "# Create array with hstack\n",
    "from numpy import array\n",
    "from numpy import hstack\n",
    "\n",
    "# create first array\n",
    "a1 = array([1,2,3])\n",
    "print(a1)\n",
    "\n",
    "# create second array\n",
    "a2 = array([4,5,6])\n",
    "print(a2)\n"
   ]
  },
  {
   "cell_type": "code",
   "execution_count": 9,
   "id": "bda236e5",
   "metadata": {},
   "outputs": [
    {
     "name": "stdout",
     "output_type": "stream",
     "text": [
      "[1 2 3 4 5 6]\n"
     ]
    }
   ],
   "source": [
    "# create horizontal stack\n",
    "a3 = hstack((a1, a2))\n",
    "print(a3)"
   ]
  },
  {
   "cell_type": "code",
   "execution_count": 10,
   "id": "d848d663",
   "metadata": {},
   "outputs": [
    {
     "name": "stdout",
     "output_type": "stream",
     "text": [
      "(6,)\n"
     ]
    }
   ],
   "source": [
    "# Display Shape\n",
    "print(a3.shape)"
   ]
  },
  {
   "cell_type": "markdown",
   "id": "74afde25",
   "metadata": {},
   "source": [
    "### Summary"
   ]
  },
  {
   "cell_type": "markdown",
   "id": "bb4cdfe1",
   "metadata": {},
   "source": [
    "- array()\n",
    "- empty()\n",
    "- zeros()\n",
    "- ones()\n",
    "- vstack()\n",
    "- hstack()"
   ]
  },
  {
   "cell_type": "markdown",
   "id": "0397507e",
   "metadata": {},
   "source": [
    "# Chapter 5"
   ]
  },
  {
   "cell_type": "markdown",
   "id": "86b29c01",
   "metadata": {},
   "source": [
    "#### Index, Slice & Reshape NumPy Arrays"
   ]
  },
  {
   "cell_type": "markdown",
   "id": "acb42663",
   "metadata": {},
   "source": [
    "### 5.1 Overview"
   ]
  },
  {
   "cell_type": "markdown",
   "id": "450a57da",
   "metadata": {},
   "source": [
    "- From List to Arrays\n",
    "- Array Indexcing\n",
    "- Array Slicing\n",
    "- Array Reshaping"
   ]
  },
  {
   "cell_type": "markdown",
   "id": "85258902",
   "metadata": {},
   "source": [
    "## 5.2 From List to Arrays"
   ]
  },
  {
   "cell_type": "markdown",
   "id": "2b97bdd3",
   "metadata": {},
   "source": [
    "#### 5.2.1 One - Dimensional List to Array"
   ]
  },
  {
   "cell_type": "code",
   "execution_count": 11,
   "id": "1bb7ea67",
   "metadata": {},
   "outputs": [
    {
     "name": "stdout",
     "output_type": "stream",
     "text": [
      "[11 22 33 44 55]\n",
      "<class 'numpy.ndarray'>\n"
     ]
    }
   ],
   "source": [
    "## example converts the one-dimensional list to a NumPy array\n",
    "# create one-dimensional array\n",
    "from numpy import array\n",
    "\n",
    "# list of data\n",
    "data = [11, 22, 33, 44, 55]\n",
    "\n",
    "# array of data\n",
    "data = array(data)\n",
    "print(data)\n",
    "print(type(data))"
   ]
  },
  {
   "cell_type": "markdown",
   "id": "76dece1f",
   "metadata": {},
   "source": [
    "#### 5.2.2 Two - Dimensional List to Array"
   ]
  },
  {
   "cell_type": "code",
   "execution_count": 12,
   "id": "5eefb91d",
   "metadata": {},
   "outputs": [
    {
     "name": "stdout",
     "output_type": "stream",
     "text": [
      "[[11 22]\n",
      " [33 44]\n",
      " [55 66]]\n",
      "<class 'numpy.ndarray'>\n"
     ]
    }
   ],
   "source": [
    "# Example of creating two-dimensional array\n",
    "# create two-dimensional array\n",
    "from numpy import array\n",
    "\n",
    "# list of data\n",
    "data = [[11, 22],\n",
    "       [33, 44],\n",
    "       [55, 66]]\n",
    "\n",
    "# array of data\n",
    "data = array (data)\n",
    "print(data)\n",
    "print(type(data))"
   ]
  },
  {
   "cell_type": "markdown",
   "id": "233fc126",
   "metadata": {},
   "source": [
    "## 5.3 Array Indexing"
   ]
  },
  {
   "cell_type": "markdown",
   "id": "6ae9695c",
   "metadata": {},
   "source": [
    "- Once your data is represented using a NumPy array, you can <b>EASILY ACCESS</b> it using indexing."
   ]
  },
  {
   "cell_type": "markdown",
   "id": "dad51c1c",
   "metadata": {},
   "source": [
    "### 5.3.1 One - Dimentional Indexcing"
   ]
  },
  {
   "cell_type": "code",
   "execution_count": 13,
   "id": "e4a41958",
   "metadata": {},
   "outputs": [
    {
     "name": "stdout",
     "output_type": "stream",
     "text": [
      "11\n",
      "55\n",
      "55\n",
      "44\n"
     ]
    }
   ],
   "source": [
    "# Example of indexing a one-dimensional array\n",
    "# Index a one-dimensional array\n",
    "from numpy import array\n",
    "\n",
    "# define array\n",
    "data = array([11, 22, 33, 44, 55])\n",
    "\n",
    "# index data\n",
    "print(data[0]) # first index e.g 11\n",
    "print(data[4]) # Lst index\n",
    "print(data[-1])\n",
    "print(data[-2])"
   ]
  },
  {
   "cell_type": "code",
   "execution_count": 14,
   "id": "82e39f0b",
   "metadata": {},
   "outputs": [],
   "source": [
    "# Example of an error when indexing a one-dimensional array.\n",
    "from numpy import array\n",
    "\n",
    "\n",
    "# define array\n",
    "# data = array([11, 22, 33, 44, 55])\n",
    "# # index data\n",
    "# print(data[5])\n",
    "\n",
    "# IndexError: index 5 is out of bounds for axis 0 with size 5"
   ]
  },
  {
   "cell_type": "code",
   "execution_count": 15,
   "id": "010fac9b",
   "metadata": {},
   "outputs": [
    {
     "name": "stdout",
     "output_type": "stream",
     "text": [
      "55\n",
      "11\n"
     ]
    }
   ],
   "source": [
    "# negative array indexing\n",
    "from numpy import array\n",
    "# define array\n",
    "data = array([11, 22, 33, 44, 55])\n",
    "# index data\n",
    "print(data[-1])\n",
    "print(data[-5])"
   ]
  },
  {
   "cell_type": "markdown",
   "id": "ffe503d1",
   "metadata": {},
   "source": [
    "### 5.3.2 Two - Dimentional Indexcing"
   ]
  },
  {
   "cell_type": "markdown",
   "id": "9d55824d",
   "metadata": {},
   "source": [
    "- Indexing two-dimensional data is similar to indexing one-dimensional data, except that a <b> comma is used to separate the index </b> for each dimension.\n"
   ]
  },
  {
   "cell_type": "code",
   "execution_count": 16,
   "id": "04dcb6a2",
   "metadata": {},
   "outputs": [
    {
     "name": "stdout",
     "output_type": "stream",
     "text": [
      "11\n",
      "22\n",
      "33\n",
      "44\n",
      "55\n",
      "66\n"
     ]
    }
   ],
   "source": [
    "# Example of indexing a two-dimensional array.\n",
    "# index two-dimentional array\n",
    "from numpy import array\n",
    "\n",
    "# define array\n",
    "data = array([\n",
    "    [11, 22],\n",
    "    [33, 44],\n",
    "    [55, 66]\n",
    "])\n",
    "\n",
    "# index data\n",
    "print(data[0,0]) # 1st row: 1st col (1st index)\n",
    "print(data[0,1]) # 1st row: 2nd col (1st index); can not call by index 2 (index error: out of bound)\n",
    "print(data[1,0]) # 2nd row: 1st col (e.g 33)\n",
    "print(data[1,1]) # 2nd row: 2nd col (e.g 44)\n",
    "print(data[2,0]) # 3rd row: 1st col (e.g 55)\n",
    "print(data[2,1]) # 3rd row: 2nd col (e.g 66)"
   ]
  },
  {
   "cell_type": "code",
   "execution_count": 17,
   "id": "c3b3ab25",
   "metadata": {},
   "outputs": [
    {
     "name": "stdout",
     "output_type": "stream",
     "text": [
      "[11 22]\n",
      "[33 44]\n",
      "[55 66]\n"
     ]
    }
   ],
   "source": [
    "# all items in the first row, we could leave the second dimension index empty\n",
    "\n",
    "from numpy import array\n",
    "# define array\n",
    "data = array([\n",
    "    [11, 22],\n",
    "    [33, 44],\n",
    "    [55, 66]\n",
    "])\n",
    "\n",
    "# index data\n",
    "\n",
    "print(data[0,]) # all items in 1st row\n",
    "print(data[1,]) # all items in 2nd row\n",
    "print(data[2,]) # all items in 3rd row\n"
   ]
  },
  {
   "cell_type": "code",
   "execution_count": 18,
   "id": "7de5f35b",
   "metadata": {},
   "outputs": [
    {
     "name": "stdout",
     "output_type": "stream",
     "text": [
      "[[11 22]\n",
      " [33 44]\n",
      " [55 66]]\n"
     ]
    }
   ],
   "source": [
    "print(data[:]) # All rows: all cols"
   ]
  },
  {
   "cell_type": "markdown",
   "id": "6b731b7f",
   "metadata": {},
   "source": [
    "## 5.4 Array Slicing"
   ]
  },
  {
   "cell_type": "markdown",
   "id": "7ec09446",
   "metadata": {},
   "source": [
    "-  Structures like lists and NumPy arrays can be sliced\n",
    "- This means that a subsequence of the structure can be indexed and retrieved\n",
    "- This is most useful in machine learning when specifying input variables and output variables, or splitting training rows from testing rows\n",
    "- Slicing is specified using the colon operator : with a from and to index before and after the column respectively.\n",
    "- The slice extends from the from index and ends one item before the to index.\n",
    "\n",
    "- Syntax:  data[from:to]\n",
    "\n"
   ]
  },
  {
   "cell_type": "markdown",
   "id": "622f8b45",
   "metadata": {},
   "source": [
    "### 5.4.1 One - Dimentional Slicing\n"
   ]
  },
  {
   "cell_type": "markdown",
   "id": "d35fa152",
   "metadata": {},
   "source": [
    "- You can access all data in an array dimension by specifying the slice ‘:’ with no indexes."
   ]
  },
  {
   "cell_type": "code",
   "execution_count": 19,
   "id": "dce72c83",
   "metadata": {},
   "outputs": [
    {
     "name": "stdout",
     "output_type": "stream",
     "text": [
      "[11 22 33 44 55]\n"
     ]
    }
   ],
   "source": [
    "# Example of slicing a one-dimensional array\n",
    "# slice a one-dimensional array\n",
    "from numpy import array\n",
    "# define array\n",
    "data = array([11, 22, 33, 44, 55])\n",
    "print(data[:])"
   ]
  },
  {
   "cell_type": "markdown",
   "id": "bec8d7fe",
   "metadata": {},
   "source": [
    "- The first item of the array can be sliced by specifying a slice that starts at index 0 and ends at index 1 (one item before the to index)"
   ]
  },
  {
   "cell_type": "code",
   "execution_count": 20,
   "id": "77f11e34",
   "metadata": {},
   "outputs": [
    {
     "name": "stdout",
     "output_type": "stream",
     "text": [
      "[11]\n",
      "[11]\n",
      "[11 22]\n",
      "[11 22 33]\n",
      "[22]\n",
      "[33 44]\n",
      "[33 44 55]\n",
      "[33 44 55]\n",
      "[44]\n",
      "[44 55]\n",
      "[44 55]\n"
     ]
    }
   ],
   "source": [
    "# slice a subset of a one-dimensional array\n",
    "from numpy import array\n",
    "\n",
    "# define array\n",
    "data = array([11, 22, 33, 44, 55])\n",
    "print(data[0:1])\n",
    "print(data[:1])\n",
    "print(data[0:2])\n",
    "print(data[0:3])\n",
    "print(data[1:2])\n",
    "print(data[2:4])\n",
    "print(data[2:5]) # excludes last one\n",
    "print(data[2:7]) # For any upper value, it will show upto last index e.g 55\n",
    "print(data[3:4])\n",
    "print(data[3:5])\n",
    "print(data[3:6])"
   ]
  },
  {
   "cell_type": "markdown",
   "id": "3bf206c8",
   "metadata": {},
   "source": [
    "- 28"
   ]
  },
  {
   "cell_type": "markdown",
   "id": "615529c7",
   "metadata": {},
   "source": [
    "## 5.4.2 Two-Dimensional Slicing"
   ]
  },
  {
   "cell_type": "markdown",
   "id": "fd4ab42c",
   "metadata": {},
   "source": [
    "- Very Useful for Machine Learing"
   ]
  },
  {
   "cell_type": "markdown",
   "id": "4fbe8ca6",
   "metadata": {},
   "source": [
    "### Split Input & Output Features"
   ]
  },
  {
   "cell_type": "markdown",
   "id": "94ff9b05",
   "metadata": {},
   "source": [
    "- It is common to split your loaded data into input variables (X) and the output variable (y)\n",
    "- We can do this by slicing all rows and all columns\n",
    "- For the input features, we can select all rows and all columns except the last one by specifying : for in the rows index, and :-1 in the columns index.\n"
   ]
  },
  {
   "cell_type": "markdown",
   "id": "d6dd933a",
   "metadata": {},
   "source": [
    "- X = [:, :-1]  Example of slicing input variables.\n",
    "- y = [:, -1]   Example of slicing output variables."
   ]
  },
  {
   "cell_type": "markdown",
   "id": "078694c6",
   "metadata": {},
   "source": [
    "- Putting all of this together, we can separate a 3-column 2D dataset into input and output data as follows:\n"
   ]
  },
  {
   "cell_type": "markdown",
   "id": "9069191e",
   "metadata": {},
   "source": [
    "#### # Example of slicing a dataset into input and output variables"
   ]
  },
  {
   "cell_type": "code",
   "execution_count": 21,
   "id": "cc0c609a",
   "metadata": {},
   "outputs": [
    {
     "name": "stdout",
     "output_type": "stream",
     "text": [
      "[[11 22]\n",
      " [44 55]\n",
      " [77 88]]\n",
      "[33 66 99]\n"
     ]
    }
   ],
   "source": [
    "# Split Input & Output Data\n",
    "from numpy import array\n",
    "\n",
    "# define array\n",
    "data = array([\n",
    "    [11, 22, 33],\n",
    "    [44, 55, 66],\n",
    "    [77, 88, 99]\n",
    "])\n",
    "\n",
    "# seperate data\n",
    "X, y = data[:,:-1], data[:, -1]  # for X excludes Last col ; last col reshape for y variable\n",
    "print(X)                   \n",
    "print(y)"
   ]
  },
  {
   "cell_type": "code",
   "execution_count": 22,
   "id": "63665f63",
   "metadata": {},
   "outputs": [
    {
     "name": "stdout",
     "output_type": "stream",
     "text": [
      "[[11]\n",
      " [44]\n",
      " [77]]\n",
      "[22 55 88]\n"
     ]
    }
   ],
   "source": [
    "X, y = data[:,:-2], data[:, -2] # excluse last 2 col for X; -2 means 2nd from last col, reshaping\n",
    "print(X)\n",
    "print(y)"
   ]
  },
  {
   "cell_type": "code",
   "execution_count": 23,
   "id": "c3367221",
   "metadata": {},
   "outputs": [
    {
     "name": "stdout",
     "output_type": "stream",
     "text": [
      "[]\n",
      "[11 44 77]\n"
     ]
    }
   ],
   "source": [
    "X, y = data[:,:-3], data[:, -3] # excludes 3 cols from last (e.g 0) for X;  reshape 1st col\n",
    "print(X)\n",
    "print(y)"
   ]
  },
  {
   "cell_type": "markdown",
   "id": "7a560aa2",
   "metadata": {},
   "source": [
    "# Split Train & Test Rows"
   ]
  },
  {
   "cell_type": "markdown",
   "id": "848294c4",
   "metadata": {},
   "source": [
    "- It is common to split a loaded dataset into separate train and test sets.\n",
    "-  This is a splitting of rows where some portion will be used to <b> TRAIN </b> the model and the remaining portion will be used to <b> TEST (Measure Performance) </B> of the trained model.\n",
    "- This would involve slicing all columns by specifying : in the second dimension index\n",
    "- <b> TRAIN DATASET </b>: it would be all rows fromt the <b> beginning to split point </b>\n",
    "- <b> TEST DATASET </b>: all rows starting from the split point to the end of the dimension.\n",
    "\n"
   ]
  },
  {
   "cell_type": "markdown",
   "id": "fe4718f4",
   "metadata": {},
   "source": [
    "- <b> Syntax </b>\n",
    "- train = data[:split, :]\n",
    "- test = data[split:, :]"
   ]
  },
  {
   "cell_type": "markdown",
   "id": "af16fb1b",
   "metadata": {},
   "source": [
    "####  Example of slicing a dataset into train and test subsets"
   ]
  },
  {
   "cell_type": "code",
   "execution_count": 24,
   "id": "6e50e4ca",
   "metadata": {},
   "outputs": [
    {
     "name": "stdout",
     "output_type": "stream",
     "text": [
      "[[11 22 33]\n",
      " [44 55 66]]\n",
      "[[77 88 99]]\n"
     ]
    }
   ],
   "source": [
    "# Split & Test the data\n",
    "from numpy import array\n",
    "# define array\n",
    "data = array([\n",
    "    [11, 22, 33],\n",
    "    [44, 55, 66],\n",
    "    [77, 88, 99]\n",
    "])\n",
    "\n",
    "# seperate data\n",
    "split = 2      # dataset will be divided into 2 & first 2 part will take for train, rest tor training\n",
    "train, test = data[:split,:], data[split:,:]\n",
    "print(train)\n",
    "print(test)"
   ]
  },
  {
   "cell_type": "code",
   "execution_count": 29,
   "id": "4058b5be",
   "metadata": {},
   "outputs": [
    {
     "name": "stdout",
     "output_type": "stream",
     "text": [
      "[[11 22 33]\n",
      " [44 55 66]\n",
      " [77 88 99]]\n",
      "[[11 22 33]\n",
      " [44 55 66]\n",
      " [77 88 99]]\n"
     ]
    }
   ],
   "source": [
    "train, test = data[:,:split], data[:split,:]\n",
    "print(train)\n",
    "print(test)"
   ]
  },
  {
   "cell_type": "code",
   "execution_count": 30,
   "id": "9731d1c0",
   "metadata": {},
   "outputs": [
    {
     "name": "stdout",
     "output_type": "stream",
     "text": [
      "[[11 22 33]\n",
      " [44 55 66]\n",
      " [77 88 99]]\n",
      "[]\n"
     ]
    }
   ],
   "source": [
    "train, test = data[:,:split], data[:,split:]\n",
    "print(train)\n",
    "print(test)"
   ]
  },
  {
   "cell_type": "code",
   "execution_count": 25,
   "id": "ca7f4bcb",
   "metadata": {},
   "outputs": [
    {
     "name": "stdout",
     "output_type": "stream",
     "text": [
      "[[11 22 33]\n",
      " [44 55 66]\n",
      " [77 88 99]]\n",
      "[]\n"
     ]
    }
   ],
   "source": [
    "# define array\n",
    "data = array([\n",
    "    [11, 22, 33],\n",
    "    [44, 55, 66],\n",
    "    [77, 88, 99]\n",
    "])\n",
    "\n",
    "# seperate data\n",
    "split = 3         # dataset will be divided by 3, first 3 for training, nothing left for test\n",
    "train, test = data[:split,:], data[split:,:] \n",
    "print(train)\n",
    "print(test)"
   ]
  },
  {
   "cell_type": "code",
   "execution_count": 26,
   "id": "5cc8b2f7",
   "metadata": {},
   "outputs": [
    {
     "name": "stdout",
     "output_type": "stream",
     "text": [
      "[[11 22 33]]\n"
     ]
    }
   ],
   "source": [
    "data = array([\n",
    "    [11, 22, 33],\n",
    "    [44, 55, 66],\n",
    "    [77, 88, 99]\n",
    "])\n",
    "\n",
    "# seperate data\n",
    "split=1\n",
    "train, test = data[:split,:], data[split:,:] # first part for train, last part (2 rows) for test\n",
    "print(train)"
   ]
  },
  {
   "cell_type": "code",
   "execution_count": 27,
   "id": "e27ddf2a",
   "metadata": {},
   "outputs": [
    {
     "name": "stdout",
     "output_type": "stream",
     "text": [
      "[[44 55 66]\n",
      " [77 88 99]]\n"
     ]
    }
   ],
   "source": [
    "print(test)"
   ]
  },
  {
   "cell_type": "code",
   "execution_count": 28,
   "id": "a598a90a",
   "metadata": {},
   "outputs": [
    {
     "name": "stdout",
     "output_type": "stream",
     "text": [
      "[[11 22 33]\n",
      " [44 55 66]\n",
      " [77 88 99]]\n",
      "[]\n"
     ]
    }
   ],
   "source": [
    "data = array([\n",
    "    [11, 22, 33],\n",
    "    [44, 55, 66],\n",
    "    [77, 88, 99]\n",
    "])\n",
    "\n",
    "# seperate data\n",
    "split=5\n",
    "train, test = data[:split,:], data[split:,:] # when 3 rows divided by greater value of it, then all will come under train, nothing left for testing\n",
    "print(train)\n",
    "print(test)"
   ]
  },
  {
   "cell_type": "markdown",
   "id": "5c8d6bbe",
   "metadata": {},
   "source": [
    "# 5.5 Array Reshaping"
   ]
  },
  {
   "cell_type": "markdown",
   "id": "ae271d0b",
   "metadata": {},
   "source": [
    "- After Slicing data you may need to reshape it\n",
    "- for example, libraries such as scikit-learn, may require that a one-dimentional array of output variables(y) be shaped as a two-dimensional array with one column & outcomes for each column\n",
    "- Some algoriths, like <b> Long Short-Term Memory, recurrent neural network </b> in Keras, require input to be specified as a three-dimensional array comprised of columns, timesteps & feastures.\n",
    "- It is important to know, how to reshape your Numpy arrays so that your data meets the expection of specific Python libriaries"
   ]
  },
  {
   "cell_type": "markdown",
   "id": "adea932b",
   "metadata": {},
   "source": [
    "### 5.5.1 Data Shape"
   ]
  },
  {
   "cell_type": "markdown",
   "id": "b67f0e0b",
   "metadata": {},
   "source": [
    "- NumPy arrays have a <b> shape </b> attribute that returns a <b>tuple of the length </b> of each dimension of the array\n"
   ]
  },
  {
   "cell_type": "code",
   "execution_count": 32,
   "id": "77c527f6",
   "metadata": {},
   "outputs": [
    {
     "name": "stdout",
     "output_type": "stream",
     "text": [
      "(5,)\n"
     ]
    }
   ],
   "source": [
    "# Example of accessing shape for a one-dimensional array\n",
    "# shape of one-dimensional array\n",
    "from numpy import array\n",
    "\n",
    "# define data\n",
    "data = array([11, 22, 33, 44, 55])\n",
    "print(data.shape)"
   ]
  },
  {
   "cell_type": "code",
   "execution_count": 34,
   "id": "3d2b4206",
   "metadata": {},
   "outputs": [
    {
     "name": "stdout",
     "output_type": "stream",
     "text": [
      "(3, 2)\n"
     ]
    }
   ],
   "source": [
    "# Example of accessing shape for a two-dimensional array.\n",
    "# shape of a two-dimensional array\n",
    "from numpy import array\n",
    "\n",
    "# list of data\n",
    "data = [[11, 22],\n",
    "       [33, 44],\n",
    "       [55, 66]]\n",
    "\n",
    "# array of data\n",
    "data = array(data)\n",
    "print(data.shape)"
   ]
  },
  {
   "cell_type": "markdown",
   "id": "4a6fd3e3",
   "metadata": {},
   "source": [
    "- You can use the size of your array dimensions in the shape dimension, such as specifying parameters.\n",
    "- The elements of the tuple can be accessed just like an array\n",
    "- with the 0th index for the number of rows and the 1st index for the number of columns."
   ]
  },
  {
   "cell_type": "code",
   "execution_count": 41,
   "id": "8d03e765",
   "metadata": {},
   "outputs": [
    {
     "name": "stdout",
     "output_type": "stream",
     "text": [
      "Rows: 3\n",
      "Columns: 2\n"
     ]
    }
   ],
   "source": [
    "#  accessing shape for a two-dimensional array in terms of rows and columns\n",
    "# row and column shape of two-dimensional array\n",
    "from numpy import array\n",
    "\n",
    "# list of data\n",
    "data = [[11, 22],\n",
    "       [33, 44],\n",
    "       [55, 66]]\n",
    "\n",
    "# array of data\n",
    "data = array(data)\n",
    "print('Rows: %d' %data.shape[0])\n",
    "print('Columns: %d' %data.shape[1])"
   ]
  },
  {
   "cell_type": "markdown",
   "id": "e28ab2c4",
   "metadata": {},
   "source": [
    "### 5.5.2 Reshape 1D to 2D Array"
   ]
  },
  {
   "cell_type": "markdown",
   "id": "2905a371",
   "metadata": {},
   "source": [
    "- It is common to need to reshape a one-dimensional array into a two-dimensional array with one column and multiple arrays\n",
    "- NumPy provides the reshape() function on the NumPy array object that can be used to reshape the data\n",
    "- The reshape() function takes a single argument that specifies the new shape of the array\n",
    "- In the case of reshaping a one-dimensional array into a two-dimensional array with one column, the tuple would be the shape of the array as the first dimension (data.shape[0]) and 1 for the second dimension"
   ]
  },
  {
   "cell_type": "markdown",
   "id": "ce570ba5",
   "metadata": {},
   "source": [
    "- Example the reshape() function for reshaping from 1D to 2D data\n",
    "- data = data.reshape((data.shape[0], 1))"
   ]
  },
  {
   "cell_type": "code",
   "execution_count": 44,
   "id": "f2335773",
   "metadata": {},
   "outputs": [
    {
     "name": "stdout",
     "output_type": "stream",
     "text": [
      "(5,)\n",
      "(5, 1)\n"
     ]
    }
   ],
   "source": [
    "# reshape 1D array to 2D\n",
    "from numpy import array\n",
    "\n",
    "# define array\n",
    "data = array([11, 22, 33, 44, 55])\n",
    "print(data.shape)\n",
    "\n",
    "# reshape\n",
    "data = data.reshape((data.shape[0], 1))\n",
    "print(data.shape)"
   ]
  },
  {
   "cell_type": "code",
   "execution_count": null,
   "id": "8ca450c2",
   "metadata": {},
   "outputs": [],
   "source": []
  },
  {
   "cell_type": "code",
   "execution_count": null,
   "id": "75b8e83f",
   "metadata": {},
   "outputs": [],
   "source": []
  },
  {
   "cell_type": "code",
   "execution_count": null,
   "id": "1132f646",
   "metadata": {},
   "outputs": [],
   "source": []
  }
 ],
 "metadata": {
  "kernelspec": {
   "display_name": "Python 3 (ipykernel)",
   "language": "python",
   "name": "python3"
  },
  "language_info": {
   "codemirror_mode": {
    "name": "ipython",
    "version": 3
   },
   "file_extension": ".py",
   "mimetype": "text/x-python",
   "name": "python",
   "nbconvert_exporter": "python",
   "pygments_lexer": "ipython3",
   "version": "3.9.7"
  }
 },
 "nbformat": 4,
 "nbformat_minor": 5
}
