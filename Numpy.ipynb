{
 "cells": [
  {
   "attachments": {},
   "cell_type": "markdown",
   "id": "3c360b4c",
   "metadata": {},
   "source": [
    "# NumPy"
   ]
  },
  {
   "attachments": {},
   "cell_type": "markdown",
   "id": "1ee1f010",
   "metadata": {},
   "source": [
    "# 4.3. Functions to Create Arrays"
   ]
  },
  {
   "cell_type": "code",
   "execution_count": 1,
   "id": "db5cb215",
   "metadata": {},
   "outputs": [
    {
     "name": "stdout",
     "output_type": "stream",
     "text": [
      "[1. 2. 3.]\n",
      "(3,)\n",
      "float64\n"
     ]
    }
   ],
   "source": [
    "# Example of creating an array with the array() function.\n",
    "# Library\n",
    "from numpy import array\n",
    "\n",
    "# Create Array\n",
    "l = [1.0, 2.0, 3.0]\n",
    "a = array(l)\n",
    "\n",
    "# Display Array\n",
    "print(a)\n",
    "\n",
    "# Display Array Shape\n",
    "print(a.shape)\n",
    "\n",
    "# Display array data type\n",
    "print(a.dtype)"
   ]
  },
  {
   "attachments": {},
   "cell_type": "markdown",
   "id": "ec43afbf",
   "metadata": {},
   "source": [
    "### There are more convenience functions for creating fixed-sized arrays"
   ]
  },
  {
   "attachments": {},
   "cell_type": "markdown",
   "id": "fd6d2840",
   "metadata": {},
   "source": [
    "## 4.3.1 Empty"
   ]
  },
  {
   "attachments": {},
   "cell_type": "markdown",
   "id": "76f4e610",
   "metadata": {},
   "source": [
    "- The empty() function will create a new array of the <b>specified shape</b>.\n",
    "- The values or content of the created array will be <b>random </b> and will need to be assigned before use\n",
    "- The example below creates an empty 3 × 3 two-dimensional array."
   ]
  },
  {
   "cell_type": "code",
   "execution_count": 2,
   "id": "a319dd57",
   "metadata": {},
   "outputs": [
    {
     "name": "stdout",
     "output_type": "stream",
     "text": [
      "[[6.23042070e-307 4.67296746e-307 1.69121096e-306]\n",
      " [2.33646845e-307 1.42413555e-306 1.78019082e-306]\n",
      " [1.37959740e-306 2.29178686e-312 0.00000000e+000]]\n"
     ]
    }
   ],
   "source": [
    "# Listing 4.3: Example of creating an array with the empty() function.\n",
    "# Package\n",
    "from numpy import empty\n",
    "\n",
    "# Create empty array\n",
    "a = empty([3,3])\n",
    "print(a)"
   ]
  },
  {
   "attachments": {},
   "cell_type": "markdown",
   "id": "0623105c",
   "metadata": {},
   "source": [
    "# 4.3.2 Zeros"
   ]
  },
  {
   "attachments": {},
   "cell_type": "markdown",
   "id": "2cdbd0e6",
   "metadata": {},
   "source": [
    "- The zeros() function will create a new array of the <b> specified size </b> with the contents filled with <b> zero values</b>\n",
    "- The arg to the function is an <b> array or tuple </b> that specifies the length of each dimenstion of the array\n"
   ]
  },
  {
   "cell_type": "code",
   "execution_count": 3,
   "id": "e47aa961",
   "metadata": {},
   "outputs": [
    {
     "name": "stdout",
     "output_type": "stream",
     "text": [
      "[[0. 0. 0. 0. 0.]\n",
      " [0. 0. 0. 0. 0.]\n",
      " [0. 0. 0. 0. 0.]]\n"
     ]
    }
   ],
   "source": [
    "# Example of creating an array with the zeros() function.\n",
    "# Create Zero Arrays\n",
    "from numpy import zeros\n",
    "\n",
    "a = zeros([3,5])\n",
    "print(a)"
   ]
  },
  {
   "attachments": {},
   "cell_type": "markdown",
   "id": "2819db49",
   "metadata": {},
   "source": [
    "# 4.3.3 Ones"
   ]
  },
  {
   "cell_type": "code",
   "execution_count": 4,
   "id": "cc1039ce",
   "metadata": {},
   "outputs": [
    {
     "name": "stdout",
     "output_type": "stream",
     "text": [
      "[1. 1. 1. 1. 1.]\n"
     ]
    }
   ],
   "source": [
    "# Example of creating an array with the ones() function.\n",
    "\n",
    "# Create One array\n",
    "from numpy import ones\n",
    "a = ones([5])\n",
    "print(a)"
   ]
  },
  {
   "attachments": {},
   "cell_type": "markdown",
   "id": "98dc0303",
   "metadata": {},
   "source": [
    "# 4.4 Combining Arrays"
   ]
  },
  {
   "attachments": {},
   "cell_type": "markdown",
   "id": "209e87c7",
   "metadata": {},
   "source": [
    "- Vertical Stack\n",
    "- Horizontal Stack"
   ]
  },
  {
   "attachments": {},
   "cell_type": "markdown",
   "id": "86c54ad2",
   "metadata": {},
   "source": [
    "- Vertical Stack: you can stack them vertically using the vstack() function.\n",
    "- For example, given two one-dimensional arrays, you can create a new two-dimensional array with two rows by vertically stacking them."
   ]
  },
  {
   "attachments": {},
   "cell_type": "markdown",
   "id": "ba65f69c",
   "metadata": {},
   "source": [
    "- Horizontal Stack: you can stack them horizontally using the hstack() function\n",
    "-  given two one-dimensional arrays, you can create a new one-dimensional array or one row with the columns of the first and second arrays concatenated"
   ]
  },
  {
   "attachments": {},
   "cell_type": "markdown",
   "id": "d394c43d",
   "metadata": {},
   "source": [
    "## 4.4.1 Vertical Stack"
   ]
  },
  {
   "attachments": {},
   "cell_type": "markdown",
   "id": "160ffc48",
   "metadata": {},
   "source": [
    "#### Example of creating an array from other arrays using the vstack() function."
   ]
  },
  {
   "cell_type": "code",
   "execution_count": 5,
   "id": "863581b9",
   "metadata": {},
   "outputs": [
    {
     "name": "stdout",
     "output_type": "stream",
     "text": [
      "[1 2 3]\n",
      "[4 5 6]\n"
     ]
    }
   ],
   "source": [
    "#  create array with vstack\n",
    "from numpy import array\n",
    "from numpy import vstack\n",
    "\n",
    "# Create first array\n",
    "a1 = array([1,2,3])\n",
    "print(a1)\n",
    "\n",
    "# Create second Array\n",
    "a2 = array([4,5,6])\n",
    "print(a2)"
   ]
  },
  {
   "cell_type": "code",
   "execution_count": 6,
   "id": "6346a8c9",
   "metadata": {},
   "outputs": [
    {
     "name": "stdout",
     "output_type": "stream",
     "text": [
      "[[1 2 3]\n",
      " [4 5 6]]\n"
     ]
    }
   ],
   "source": [
    "# Vertical Stack\n",
    "a3 = vstack((a1, a2))\n",
    "print(a3)"
   ]
  },
  {
   "cell_type": "code",
   "execution_count": 7,
   "id": "d19396a0",
   "metadata": {},
   "outputs": [
    {
     "name": "stdout",
     "output_type": "stream",
     "text": [
      "(2, 3)\n"
     ]
    }
   ],
   "source": [
    "# Shape\n",
    "print(a3.shape)"
   ]
  },
  {
   "attachments": {},
   "cell_type": "markdown",
   "id": "a960d048",
   "metadata": {},
   "source": [
    "## 4.4.2 Horizontal Stack"
   ]
  },
  {
   "attachments": {},
   "cell_type": "markdown",
   "id": "db34da08",
   "metadata": {},
   "source": [
    "#### Example of creating an array from other arrays using the hstack() function"
   ]
  },
  {
   "cell_type": "code",
   "execution_count": 8,
   "id": "3343d732",
   "metadata": {},
   "outputs": [
    {
     "name": "stdout",
     "output_type": "stream",
     "text": [
      "[1 2 3]\n",
      "[4 5 6]\n"
     ]
    }
   ],
   "source": [
    "# Create array with hstack\n",
    "from numpy import array\n",
    "from numpy import hstack\n",
    "\n",
    "# create first array\n",
    "a1 = array([1,2,3])\n",
    "print(a1)\n",
    "\n",
    "# create second array\n",
    "a2 = array([4,5,6])\n",
    "print(a2)\n"
   ]
  },
  {
   "cell_type": "code",
   "execution_count": 9,
   "id": "bda236e5",
   "metadata": {},
   "outputs": [
    {
     "name": "stdout",
     "output_type": "stream",
     "text": [
      "[1 2 3 4 5 6]\n"
     ]
    }
   ],
   "source": [
    "# create horizontal stack\n",
    "a3 = hstack((a1, a2))\n",
    "print(a3)"
   ]
  },
  {
   "cell_type": "code",
   "execution_count": 10,
   "id": "d848d663",
   "metadata": {},
   "outputs": [
    {
     "name": "stdout",
     "output_type": "stream",
     "text": [
      "(6,)\n"
     ]
    }
   ],
   "source": [
    "# Display Shape\n",
    "print(a3.shape)"
   ]
  },
  {
   "attachments": {},
   "cell_type": "markdown",
   "id": "74afde25",
   "metadata": {},
   "source": [
    "### Summary"
   ]
  },
  {
   "attachments": {},
   "cell_type": "markdown",
   "id": "bb4cdfe1",
   "metadata": {},
   "source": [
    "- array()\n",
    "- empty()\n",
    "- zeros()\n",
    "- ones()\n",
    "- vstack()\n",
    "- hstack()"
   ]
  },
  {
   "attachments": {},
   "cell_type": "markdown",
   "id": "0397507e",
   "metadata": {},
   "source": [
    "# Chapter 5"
   ]
  },
  {
   "attachments": {},
   "cell_type": "markdown",
   "id": "86b29c01",
   "metadata": {},
   "source": [
    "#### Index, Slice & Reshape NumPy Arrays"
   ]
  },
  {
   "attachments": {},
   "cell_type": "markdown",
   "id": "acb42663",
   "metadata": {},
   "source": [
    "### 5.1 Overview"
   ]
  },
  {
   "attachments": {},
   "cell_type": "markdown",
   "id": "450a57da",
   "metadata": {},
   "source": [
    "- From List to Arrays\n",
    "- Array Indexcing\n",
    "- Array Slicing\n",
    "- Array Reshaping"
   ]
  },
  {
   "attachments": {},
   "cell_type": "markdown",
   "id": "85258902",
   "metadata": {},
   "source": [
    "## 5.2 From List to Arrays"
   ]
  },
  {
   "attachments": {},
   "cell_type": "markdown",
   "id": "2b97bdd3",
   "metadata": {},
   "source": [
    "#### 5.2.1 One - Dimensional List to Array"
   ]
  },
  {
   "cell_type": "code",
   "execution_count": 11,
   "id": "1bb7ea67",
   "metadata": {},
   "outputs": [
    {
     "name": "stdout",
     "output_type": "stream",
     "text": [
      "[11 22 33 44 55]\n",
      "<class 'numpy.ndarray'>\n"
     ]
    }
   ],
   "source": [
    "## example converts the one-dimensional list to a NumPy array\n",
    "# create one-dimensional array\n",
    "from numpy import array\n",
    "\n",
    "# list of data\n",
    "data = [11, 22, 33, 44, 55]\n",
    "\n",
    "# array of data\n",
    "data = array(data)\n",
    "print(data)\n",
    "print(type(data))"
   ]
  },
  {
   "attachments": {},
   "cell_type": "markdown",
   "id": "76dece1f",
   "metadata": {},
   "source": [
    "#### 5.2.2 Two - Dimensional List to Array"
   ]
  },
  {
   "cell_type": "code",
   "execution_count": 12,
   "id": "5eefb91d",
   "metadata": {},
   "outputs": [
    {
     "name": "stdout",
     "output_type": "stream",
     "text": [
      "[[11 22]\n",
      " [33 44]\n",
      " [55 66]]\n",
      "<class 'numpy.ndarray'>\n"
     ]
    }
   ],
   "source": [
    "# Example of creating two-dimensional array\n",
    "# create two-dimensional array\n",
    "from numpy import array\n",
    "\n",
    "# list of data\n",
    "data = [[11, 22],\n",
    "       [33, 44],\n",
    "       [55, 66]]\n",
    "\n",
    "# array of data\n",
    "data = array (data)\n",
    "print(data)\n",
    "print(type(data))"
   ]
  },
  {
   "attachments": {},
   "cell_type": "markdown",
   "id": "233fc126",
   "metadata": {},
   "source": [
    "## 5.3 Array Indexing"
   ]
  },
  {
   "attachments": {},
   "cell_type": "markdown",
   "id": "6ae9695c",
   "metadata": {},
   "source": [
    "- Once your data is represented using a NumPy array, you can <b>EASILY ACCESS</b> it using indexing."
   ]
  },
  {
   "attachments": {},
   "cell_type": "markdown",
   "id": "dad51c1c",
   "metadata": {},
   "source": [
    "### 5.3.1 One - Dimentional Indexcing"
   ]
  },
  {
   "cell_type": "code",
   "execution_count": 13,
   "id": "e4a41958",
   "metadata": {},
   "outputs": [
    {
     "name": "stdout",
     "output_type": "stream",
     "text": [
      "11\n",
      "55\n",
      "55\n",
      "44\n"
     ]
    }
   ],
   "source": [
    "# Example of indexing a one-dimensional array\n",
    "# Index a one-dimensional array\n",
    "from numpy import array\n",
    "\n",
    "# define array\n",
    "data = array([11, 22, 33, 44, 55])\n",
    "\n",
    "# index data\n",
    "print(data[0]) # first index e.g 11\n",
    "print(data[4]) # Lst index\n",
    "print(data[-1])\n",
    "print(data[-2])"
   ]
  },
  {
   "cell_type": "code",
   "execution_count": 14,
   "id": "82e39f0b",
   "metadata": {},
   "outputs": [],
   "source": [
    "# Example of an error when indexing a one-dimensional array.\n",
    "from numpy import array\n",
    "\n",
    "\n",
    "# define array\n",
    "# data = array([11, 22, 33, 44, 55])\n",
    "# # index data\n",
    "# print(data[5])\n",
    "\n",
    "# IndexError: index 5 is out of bounds for axis 0 with size 5"
   ]
  },
  {
   "cell_type": "code",
   "execution_count": 15,
   "id": "010fac9b",
   "metadata": {},
   "outputs": [
    {
     "name": "stdout",
     "output_type": "stream",
     "text": [
      "55\n",
      "11\n"
     ]
    }
   ],
   "source": [
    "# negative array indexing\n",
    "from numpy import array\n",
    "# define array\n",
    "data = array([11, 22, 33, 44, 55])\n",
    "# index data\n",
    "print(data[-1])\n",
    "print(data[-5])"
   ]
  },
  {
   "attachments": {},
   "cell_type": "markdown",
   "id": "ffe503d1",
   "metadata": {},
   "source": [
    "### 5.3.2 Two - Dimentional Indexcing"
   ]
  },
  {
   "attachments": {},
   "cell_type": "markdown",
   "id": "9d55824d",
   "metadata": {},
   "source": [
    "- Indexing two-dimensional data is similar to indexing one-dimensional data, except that a <b> comma is used to separate the index </b> for each dimension.\n"
   ]
  },
  {
   "cell_type": "code",
   "execution_count": 16,
   "id": "04dcb6a2",
   "metadata": {},
   "outputs": [
    {
     "name": "stdout",
     "output_type": "stream",
     "text": [
      "11\n",
      "22\n",
      "33\n",
      "44\n",
      "55\n",
      "66\n"
     ]
    }
   ],
   "source": [
    "# Example of indexing a two-dimensional array.\n",
    "# index two-dimentional array\n",
    "from numpy import array\n",
    "\n",
    "# define array\n",
    "data = array([\n",
    "    [11, 22],\n",
    "    [33, 44],\n",
    "    [55, 66]\n",
    "])\n",
    "\n",
    "# index data\n",
    "print(data[0,0]) # 1st row: 1st col (1st index)\n",
    "print(data[0,1]) # 1st row: 2nd col (1st index); can not call by index 2 (index error: out of bound)\n",
    "print(data[1,0]) # 2nd row: 1st col (e.g 33)\n",
    "print(data[1,1]) # 2nd row: 2nd col (e.g 44)\n",
    "print(data[2,0]) # 3rd row: 1st col (e.g 55)\n",
    "print(data[2,1]) # 3rd row: 2nd col (e.g 66)"
   ]
  },
  {
   "cell_type": "code",
   "execution_count": 17,
   "id": "c3b3ab25",
   "metadata": {},
   "outputs": [
    {
     "name": "stdout",
     "output_type": "stream",
     "text": [
      "[11 22]\n",
      "[33 44]\n",
      "[55 66]\n"
     ]
    }
   ],
   "source": [
    "# all items in the first row, we could leave the second dimension index empty\n",
    "\n",
    "from numpy import array\n",
    "# define array\n",
    "data = array([\n",
    "    [11, 22],\n",
    "    [33, 44],\n",
    "    [55, 66]\n",
    "])\n",
    "\n",
    "# index data\n",
    "\n",
    "print(data[0,]) # all items in 1st row\n",
    "print(data[1,]) # all items in 2nd row\n",
    "print(data[2,]) # all items in 3rd row\n"
   ]
  },
  {
   "cell_type": "code",
   "execution_count": 18,
   "id": "7de5f35b",
   "metadata": {},
   "outputs": [
    {
     "name": "stdout",
     "output_type": "stream",
     "text": [
      "[[11 22]\n",
      " [33 44]\n",
      " [55 66]]\n"
     ]
    }
   ],
   "source": [
    "print(data[:]) # All rows: all cols"
   ]
  },
  {
   "attachments": {},
   "cell_type": "markdown",
   "id": "6b731b7f",
   "metadata": {},
   "source": [
    "## 5.4 Array Slicing"
   ]
  },
  {
   "attachments": {},
   "cell_type": "markdown",
   "id": "7ec09446",
   "metadata": {},
   "source": [
    "-  Structures like lists and NumPy arrays can be sliced\n",
    "- This means that a subsequence of the structure can be indexed and retrieved\n",
    "- This is most useful in machine learning when specifying input variables and output variables, or splitting training rows from testing rows\n",
    "- Slicing is specified using the colon operator : with a from and to index before and after the column respectively.\n",
    "- The slice extends from the from index and ends one item before the to index.\n",
    "\n",
    "- Syntax:  data[from:to]\n",
    "\n"
   ]
  },
  {
   "attachments": {},
   "cell_type": "markdown",
   "id": "622f8b45",
   "metadata": {},
   "source": [
    "### 5.4.1 One - Dimentional Slicing\n"
   ]
  },
  {
   "attachments": {},
   "cell_type": "markdown",
   "id": "d35fa152",
   "metadata": {},
   "source": [
    "- You can access all data in an array dimension by specifying the slice ‘:’ with no indexes."
   ]
  },
  {
   "cell_type": "code",
   "execution_count": 19,
   "id": "dce72c83",
   "metadata": {},
   "outputs": [
    {
     "name": "stdout",
     "output_type": "stream",
     "text": [
      "[11 22 33 44 55]\n"
     ]
    }
   ],
   "source": [
    "# Example of slicing a one-dimensional array\n",
    "# slice a one-dimensional array\n",
    "from numpy import array\n",
    "# define array\n",
    "data = array([11, 22, 33, 44, 55])\n",
    "print(data[:])"
   ]
  },
  {
   "attachments": {},
   "cell_type": "markdown",
   "id": "bec8d7fe",
   "metadata": {},
   "source": [
    "- The first item of the array can be sliced by specifying a slice that starts at index 0 and ends at index 1 (one item before the to index)"
   ]
  },
  {
   "cell_type": "code",
   "execution_count": 20,
   "id": "77f11e34",
   "metadata": {},
   "outputs": [
    {
     "name": "stdout",
     "output_type": "stream",
     "text": [
      "[11]\n",
      "[11]\n",
      "[11 22]\n",
      "[11 22 33]\n",
      "[22]\n",
      "[33 44]\n",
      "[33 44 55]\n",
      "[33 44 55]\n",
      "[44]\n",
      "[44 55]\n",
      "[44 55]\n"
     ]
    }
   ],
   "source": [
    "# slice a subset of a one-dimensional array\n",
    "from numpy import array\n",
    "\n",
    "# define array\n",
    "data = array([11, 22, 33, 44, 55])\n",
    "print(data[0:1])\n",
    "print(data[:1])\n",
    "print(data[0:2])\n",
    "print(data[0:3])\n",
    "print(data[1:2])\n",
    "print(data[2:4])\n",
    "print(data[2:5]) # excludes last one\n",
    "print(data[2:7]) # For any upper value, it will show upto last index e.g 55\n",
    "print(data[3:4])\n",
    "print(data[3:5])\n",
    "print(data[3:6])"
   ]
  },
  {
   "attachments": {},
   "cell_type": "markdown",
   "id": "3bf206c8",
   "metadata": {},
   "source": [
    "- 28"
   ]
  },
  {
   "attachments": {},
   "cell_type": "markdown",
   "id": "e375304e",
   "metadata": {},
   "source": [
    "## 5.4.3 Two - Dimentional Slicing"
   ]
  },
  {
   "attachments": {},
   "cell_type": "markdown",
   "id": "ad567a56",
   "metadata": {},
   "source": [
    "### Split Input and Output Features"
   ]
  },
  {
   "attachments": {},
   "cell_type": "markdown",
   "id": "9e3fc37d",
   "metadata": {},
   "source": [
    "- It is common to split your loaded data into input variables (X) and the output variable (y).\n",
    "- We can do this by slicing all rows and all columns up to, but before the last column, then separately indexing the last column\n",
    "- For the input features, we can select all rows and all columns except the last one by specifying : for in the rows index, and :-1 in the columns index."
   ]
  },
  {
   "attachments": {},
   "cell_type": "markdown",
   "id": "efa467d4",
   "metadata": {},
   "source": [
    "-  X = [:, :-1]          Example of slicing input variables.\n",
    "- y = [:, -1]            Example of slicing the output variable"
   ]
  },
  {
   "cell_type": "code",
   "execution_count": 22,
   "id": "26886d42",
   "metadata": {},
   "outputs": [
    {
     "name": "stdout",
     "output_type": "stream",
     "text": [
      "[[11 22]\n",
      " [44 55]\n",
      " [77 88]]\n",
      "[[11 22]\n",
      " [44 55]\n",
      " [77 88]]\n"
     ]
    }
   ],
   "source": [
    "# Putting all of this together, we can separate a 3-column 2D dataset into input and output data as follows:\n",
    "\n",
    "# Split Input & Output Data\n",
    "from numpy import array\n",
    "\n",
    "# define data\n",
    "data = array([\n",
    "    [11, 22, 33],\n",
    "    [44, 55, 66],\n",
    "    [77, 88, 99]\n",
    "])\n",
    "\n",
    "# seperate data\n",
    "X, y = data[:, :-1], data[:, :-1]\n",
    "\n",
    "print(X)\n",
    "print(y)"
   ]
  }
 ],
 "metadata": {
  "kernelspec": {
   "display_name": "Python 3 (ipykernel)",
   "language": "python",
   "name": "python3"
  },
  "language_info": {
   "codemirror_mode": {
    "name": "ipython",
    "version": 3
   },
   "file_extension": ".py",
   "mimetype": "text/x-python",
   "name": "python",
   "nbconvert_exporter": "python",
   "pygments_lexer": "ipython3",
   "version": "3.10.7"
  }
 },
 "nbformat": 4,
 "nbformat_minor": 5
}
