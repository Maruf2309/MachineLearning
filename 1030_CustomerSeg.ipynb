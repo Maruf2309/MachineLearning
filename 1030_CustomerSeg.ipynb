{
 "cells": [
  {
   "attachments": {},
   "cell_type": "markdown",
   "metadata": {},
   "source": [
    "# Customer Segmentation by Kmeans Clustering"
   ]
  },
  {
   "attachments": {},
   "cell_type": "markdown",
   "metadata": {},
   "source": [
    "- Ref: 1030\n",
    "- The main objective of clustering is identify the pattern/ cluster"
   ]
  },
  {
   "attachments": {},
   "cell_type": "markdown",
   "metadata": {},
   "source": [
    "# Import Libraries"
   ]
  },
  {
   "cell_type": "code",
   "execution_count": 28,
   "metadata": {},
   "outputs": [],
   "source": [
    "import pandas as pd\n",
    "import numpy as np\n",
    "import matplotlib.pyplot as plt  # for Elbow visualization\n",
    "import seaborn as sns   # Count Visualization\n",
    "import warnings\n",
    "warnings.filterwarnings('ignore')\n",
    "np.random.seed(42)      # Global application, no need to use random state for each application explicitely"
   ]
  },
  {
   "attachments": {},
   "cell_type": "markdown",
   "metadata": {},
   "source": [
    "# Load Data"
   ]
  },
  {
   "cell_type": "code",
   "execution_count": 2,
   "metadata": {},
   "outputs": [
    {
     "data": {
      "text/html": [
       "<div>\n",
       "<style scoped>\n",
       "    .dataframe tbody tr th:only-of-type {\n",
       "        vertical-align: middle;\n",
       "    }\n",
       "\n",
       "    .dataframe tbody tr th {\n",
       "        vertical-align: top;\n",
       "    }\n",
       "\n",
       "    .dataframe thead th {\n",
       "        text-align: right;\n",
       "    }\n",
       "</style>\n",
       "<table border=\"1\" class=\"dataframe\">\n",
       "  <thead>\n",
       "    <tr style=\"text-align: right;\">\n",
       "      <th></th>\n",
       "      <th>Gender</th>\n",
       "      <th>Age</th>\n",
       "      <th>Annual Income (k$)</th>\n",
       "      <th>Spending Score (1-100)</th>\n",
       "    </tr>\n",
       "    <tr>\n",
       "      <th>CustomerID</th>\n",
       "      <th></th>\n",
       "      <th></th>\n",
       "      <th></th>\n",
       "      <th></th>\n",
       "    </tr>\n",
       "  </thead>\n",
       "  <tbody>\n",
       "    <tr>\n",
       "      <th>1</th>\n",
       "      <td>Male</td>\n",
       "      <td>19</td>\n",
       "      <td>15</td>\n",
       "      <td>39</td>\n",
       "    </tr>\n",
       "    <tr>\n",
       "      <th>2</th>\n",
       "      <td>Male</td>\n",
       "      <td>21</td>\n",
       "      <td>15</td>\n",
       "      <td>81</td>\n",
       "    </tr>\n",
       "    <tr>\n",
       "      <th>3</th>\n",
       "      <td>Female</td>\n",
       "      <td>20</td>\n",
       "      <td>16</td>\n",
       "      <td>6</td>\n",
       "    </tr>\n",
       "    <tr>\n",
       "      <th>4</th>\n",
       "      <td>Female</td>\n",
       "      <td>23</td>\n",
       "      <td>16</td>\n",
       "      <td>77</td>\n",
       "    </tr>\n",
       "    <tr>\n",
       "      <th>5</th>\n",
       "      <td>Female</td>\n",
       "      <td>31</td>\n",
       "      <td>17</td>\n",
       "      <td>40</td>\n",
       "    </tr>\n",
       "  </tbody>\n",
       "</table>\n",
       "</div>"
      ],
      "text/plain": [
       "            Gender  Age  Annual Income (k$)  Spending Score (1-100)\n",
       "CustomerID                                                         \n",
       "1             Male   19                  15                      39\n",
       "2             Male   21                  15                      81\n",
       "3           Female   20                  16                       6\n",
       "4           Female   23                  16                      77\n",
       "5           Female   31                  17                      40"
      ]
     },
     "execution_count": 2,
     "metadata": {},
     "output_type": "execute_result"
    }
   ],
   "source": [
    "data = pd.read_csv('Mall_Customers.csv', index_col='CustomerID')\n",
    "data.head()"
   ]
  },
  {
   "attachments": {},
   "cell_type": "markdown",
   "metadata": {},
   "source": [
    "# EDA"
   ]
  },
  {
   "cell_type": "code",
   "execution_count": 3,
   "metadata": {},
   "outputs": [],
   "source": [
    "df = data.copy()  # Its can be good practice to make a copy for future reference"
   ]
  },
  {
   "cell_type": "code",
   "execution_count": 4,
   "metadata": {},
   "outputs": [
    {
     "name": "stdout",
     "output_type": "stream",
     "text": [
      "<class 'pandas.core.frame.DataFrame'>\n",
      "Int64Index: 200 entries, 1 to 200\n",
      "Data columns (total 4 columns):\n",
      " #   Column                  Non-Null Count  Dtype \n",
      "---  ------                  --------------  ----- \n",
      " 0   Gender                  200 non-null    object\n",
      " 1   Age                     200 non-null    int64 \n",
      " 2   Annual Income (k$)      200 non-null    int64 \n",
      " 3   Spending Score (1-100)  200 non-null    int64 \n",
      "dtypes: int64(3), object(1)\n",
      "memory usage: 7.8+ KB\n"
     ]
    }
   ],
   "source": [
    "df.info()"
   ]
  },
  {
   "attachments": {},
   "cell_type": "markdown",
   "metadata": {},
   "source": [
    "#### Findings:"
   ]
  },
  {
   "attachments": {},
   "cell_type": "markdown",
   "metadata": {},
   "source": [
    "- \"Object/ Texual\" datatype found in Gender columns, so that can be treated e.g \"Type Converstion/ correction\" to int"
   ]
  },
  {
   "attachments": {},
   "cell_type": "markdown",
   "metadata": {},
   "source": [
    "# Type Correction or Converstion or Categorical Encoding"
   ]
  },
  {
   "attachments": {},
   "cell_type": "markdown",
   "metadata": {},
   "source": [
    "## A. General Method"
   ]
  },
  {
   "attachments": {},
   "cell_type": "markdown",
   "metadata": {},
   "source": [
    "- Categorical Encoding/ Feature Encoding/ Type Conversion/ Label Encoding"
   ]
  },
  {
   "cell_type": "code",
   "execution_count": 5,
   "metadata": {},
   "outputs": [
    {
     "data": {
      "text/plain": [
       "CustomerID\n",
       "1        Male\n",
       "2        Male\n",
       "3      Female\n",
       "4      Female\n",
       "5      Female\n",
       "        ...  \n",
       "196    Female\n",
       "197    Female\n",
       "198      Male\n",
       "199      Male\n",
       "200      Male\n",
       "Name: Gender, Length: 200, dtype: category\n",
       "Categories (2, object): ['Female', 'Male']"
      ]
     },
     "execution_count": 5,
     "metadata": {},
     "output_type": "execute_result"
    }
   ],
   "source": [
    "df.Gender.astype('category')   # This will be converted into catagory, but actually not be updated here"
   ]
  },
  {
   "cell_type": "code",
   "execution_count": 6,
   "metadata": {},
   "outputs": [
    {
     "data": {
      "text/plain": [
       "CustomerID\n",
       "1      1\n",
       "2      1\n",
       "3      0\n",
       "4      0\n",
       "5      0\n",
       "      ..\n",
       "196    0\n",
       "197    0\n",
       "198    1\n",
       "199    1\n",
       "200    1\n",
       "Length: 200, dtype: int8"
      ]
     },
     "execution_count": 6,
     "metadata": {},
     "output_type": "execute_result"
    }
   ],
   "source": [
    "df.Gender.astype('category').cat.codes              # cat: Category; codes: category codes, 1: male, 0:Female "
   ]
  },
  {
   "attachments": {},
   "cell_type": "markdown",
   "metadata": {},
   "source": [
    "### Assign categories values"
   ]
  },
  {
   "cell_type": "code",
   "execution_count": 7,
   "metadata": {},
   "outputs": [
    {
     "data": {
      "text/html": [
       "<div>\n",
       "<style scoped>\n",
       "    .dataframe tbody tr th:only-of-type {\n",
       "        vertical-align: middle;\n",
       "    }\n",
       "\n",
       "    .dataframe tbody tr th {\n",
       "        vertical-align: top;\n",
       "    }\n",
       "\n",
       "    .dataframe thead th {\n",
       "        text-align: right;\n",
       "    }\n",
       "</style>\n",
       "<table border=\"1\" class=\"dataframe\">\n",
       "  <thead>\n",
       "    <tr style=\"text-align: right;\">\n",
       "      <th></th>\n",
       "      <th>Gender</th>\n",
       "      <th>Age</th>\n",
       "      <th>Annual Income (k$)</th>\n",
       "      <th>Spending Score (1-100)</th>\n",
       "    </tr>\n",
       "    <tr>\n",
       "      <th>CustomerID</th>\n",
       "      <th></th>\n",
       "      <th></th>\n",
       "      <th></th>\n",
       "      <th></th>\n",
       "    </tr>\n",
       "  </thead>\n",
       "  <tbody>\n",
       "    <tr>\n",
       "      <th>1</th>\n",
       "      <td>1</td>\n",
       "      <td>19</td>\n",
       "      <td>15</td>\n",
       "      <td>39</td>\n",
       "    </tr>\n",
       "    <tr>\n",
       "      <th>2</th>\n",
       "      <td>1</td>\n",
       "      <td>21</td>\n",
       "      <td>15</td>\n",
       "      <td>81</td>\n",
       "    </tr>\n",
       "    <tr>\n",
       "      <th>3</th>\n",
       "      <td>0</td>\n",
       "      <td>20</td>\n",
       "      <td>16</td>\n",
       "      <td>6</td>\n",
       "    </tr>\n",
       "    <tr>\n",
       "      <th>4</th>\n",
       "      <td>0</td>\n",
       "      <td>23</td>\n",
       "      <td>16</td>\n",
       "      <td>77</td>\n",
       "    </tr>\n",
       "    <tr>\n",
       "      <th>5</th>\n",
       "      <td>0</td>\n",
       "      <td>31</td>\n",
       "      <td>17</td>\n",
       "      <td>40</td>\n",
       "    </tr>\n",
       "  </tbody>\n",
       "</table>\n",
       "</div>"
      ],
      "text/plain": [
       "            Gender  Age  Annual Income (k$)  Spending Score (1-100)\n",
       "CustomerID                                                         \n",
       "1                1   19                  15                      39\n",
       "2                1   21                  15                      81\n",
       "3                0   20                  16                       6\n",
       "4                0   23                  16                      77\n",
       "5                0   31                  17                      40"
      ]
     },
     "execution_count": 7,
     "metadata": {},
     "output_type": "execute_result"
    }
   ],
   "source": [
    "df.Gender = df.Gender.astype('category').cat.codes           # Gender Converted, this can used for any ML\n",
    "df.head()"
   ]
  },
  {
   "attachments": {},
   "cell_type": "markdown",
   "metadata": {},
   "source": [
    "- cat.codes: When limited/two values in object col\n",
    "- Label/One hot encoding:  when multiple values in object(Gender) column\n",
    "- cat.codes: assigned encoding values as per alphabatic order"
   ]
  },
  {
   "attachments": {},
   "cell_type": "markdown",
   "metadata": {},
   "source": [
    "## B. Encoding Method"
   ]
  },
  {
   "cell_type": "code",
   "execution_count": 8,
   "metadata": {},
   "outputs": [
    {
     "data": {
      "text/html": [
       "<div>\n",
       "<style scoped>\n",
       "    .dataframe tbody tr th:only-of-type {\n",
       "        vertical-align: middle;\n",
       "    }\n",
       "\n",
       "    .dataframe tbody tr th {\n",
       "        vertical-align: top;\n",
       "    }\n",
       "\n",
       "    .dataframe thead th {\n",
       "        text-align: right;\n",
       "    }\n",
       "</style>\n",
       "<table border=\"1\" class=\"dataframe\">\n",
       "  <thead>\n",
       "    <tr style=\"text-align: right;\">\n",
       "      <th></th>\n",
       "      <th>Gender</th>\n",
       "      <th>Age</th>\n",
       "      <th>Annual Income (k$)</th>\n",
       "      <th>Spending Score (1-100)</th>\n",
       "    </tr>\n",
       "    <tr>\n",
       "      <th>CustomerID</th>\n",
       "      <th></th>\n",
       "      <th></th>\n",
       "      <th></th>\n",
       "      <th></th>\n",
       "    </tr>\n",
       "  </thead>\n",
       "  <tbody>\n",
       "    <tr>\n",
       "      <th>1</th>\n",
       "      <td>Male</td>\n",
       "      <td>19</td>\n",
       "      <td>15</td>\n",
       "      <td>39</td>\n",
       "    </tr>\n",
       "    <tr>\n",
       "      <th>2</th>\n",
       "      <td>Male</td>\n",
       "      <td>21</td>\n",
       "      <td>15</td>\n",
       "      <td>81</td>\n",
       "    </tr>\n",
       "    <tr>\n",
       "      <th>3</th>\n",
       "      <td>Female</td>\n",
       "      <td>20</td>\n",
       "      <td>16</td>\n",
       "      <td>6</td>\n",
       "    </tr>\n",
       "    <tr>\n",
       "      <th>4</th>\n",
       "      <td>Female</td>\n",
       "      <td>23</td>\n",
       "      <td>16</td>\n",
       "      <td>77</td>\n",
       "    </tr>\n",
       "    <tr>\n",
       "      <th>5</th>\n",
       "      <td>Female</td>\n",
       "      <td>31</td>\n",
       "      <td>17</td>\n",
       "      <td>40</td>\n",
       "    </tr>\n",
       "  </tbody>\n",
       "</table>\n",
       "</div>"
      ],
      "text/plain": [
       "            Gender  Age  Annual Income (k$)  Spending Score (1-100)\n",
       "CustomerID                                                         \n",
       "1             Male   19                  15                      39\n",
       "2             Male   21                  15                      81\n",
       "3           Female   20                  16                       6\n",
       "4           Female   23                  16                      77\n",
       "5           Female   31                  17                      40"
      ]
     },
     "execution_count": 8,
     "metadata": {},
     "output_type": "execute_result"
    }
   ],
   "source": [
    "# Original Data\n",
    "df1 = data\n",
    "df1.head()"
   ]
  },
  {
   "attachments": {},
   "cell_type": "markdown",
   "metadata": {},
   "source": [
    "### Label Encoding"
   ]
  },
  {
   "cell_type": "code",
   "execution_count": 9,
   "metadata": {},
   "outputs": [
    {
     "data": {
      "text/plain": [
       "array([1, 1, 0, 0, 0, 0, 0, 0, 1, 0, 1, 0, 0, 0, 1, 1, 0, 1, 1, 0, 1, 1,\n",
       "       0, 1, 0, 1, 0, 1, 0, 0, 1, 0, 1, 1, 0, 0, 0, 0, 0, 0, 0, 1, 1, 0,\n",
       "       0, 0, 0, 0, 0, 0, 0, 1, 0, 1, 0, 1, 0, 1, 0, 1, 1, 1, 0, 0, 1, 1,\n",
       "       0, 0, 1, 0, 1, 0, 0, 0, 1, 1, 0, 1, 0, 0, 1, 1, 1, 0, 0, 1, 0, 0,\n",
       "       0, 0, 0, 1, 1, 0, 0, 1, 0, 0, 1, 1, 0, 0, 1, 1, 1, 0, 0, 1, 1, 1,\n",
       "       1, 0, 0, 1, 0, 0, 0, 0, 0, 0, 1, 0, 0, 1, 0, 0, 1, 1, 1, 1, 1, 1,\n",
       "       0, 0, 1, 0, 0, 1, 1, 0, 0, 1, 0, 0, 1, 1, 1, 0, 0, 1, 1, 1, 0, 0,\n",
       "       0, 0, 1, 0, 1, 0, 0, 0, 1, 0, 1, 0, 1, 0, 0, 1, 1, 1, 1, 1, 0, 0,\n",
       "       1, 1, 1, 1, 0, 0, 1, 0, 0, 1, 0, 1, 0, 0, 0, 0, 1, 0, 0, 0, 0, 1,\n",
       "       1, 1])"
      ]
     },
     "execution_count": 9,
     "metadata": {},
     "output_type": "execute_result"
    }
   ],
   "source": [
    "from sklearn.preprocessing import LabelEncoder # Module\n",
    "encoder = LabelEncoder()                       # Create an encoder\n",
    "encoder.fit_transform(df1.Gender)              # Fit/ Transform/ train the data by created encoder, see the output return 1 & 0"
   ]
  },
  {
   "cell_type": "code",
   "execution_count": 10,
   "metadata": {},
   "outputs": [
    {
     "data": {
      "text/html": [
       "<div>\n",
       "<style scoped>\n",
       "    .dataframe tbody tr th:only-of-type {\n",
       "        vertical-align: middle;\n",
       "    }\n",
       "\n",
       "    .dataframe tbody tr th {\n",
       "        vertical-align: top;\n",
       "    }\n",
       "\n",
       "    .dataframe thead th {\n",
       "        text-align: right;\n",
       "    }\n",
       "</style>\n",
       "<table border=\"1\" class=\"dataframe\">\n",
       "  <thead>\n",
       "    <tr style=\"text-align: right;\">\n",
       "      <th></th>\n",
       "      <th>Gender</th>\n",
       "      <th>Age</th>\n",
       "      <th>Annual Income (k$)</th>\n",
       "      <th>Spending Score (1-100)</th>\n",
       "    </tr>\n",
       "    <tr>\n",
       "      <th>CustomerID</th>\n",
       "      <th></th>\n",
       "      <th></th>\n",
       "      <th></th>\n",
       "      <th></th>\n",
       "    </tr>\n",
       "  </thead>\n",
       "  <tbody>\n",
       "    <tr>\n",
       "      <th>1</th>\n",
       "      <td>1</td>\n",
       "      <td>19</td>\n",
       "      <td>15</td>\n",
       "      <td>39</td>\n",
       "    </tr>\n",
       "    <tr>\n",
       "      <th>2</th>\n",
       "      <td>1</td>\n",
       "      <td>21</td>\n",
       "      <td>15</td>\n",
       "      <td>81</td>\n",
       "    </tr>\n",
       "    <tr>\n",
       "      <th>3</th>\n",
       "      <td>0</td>\n",
       "      <td>20</td>\n",
       "      <td>16</td>\n",
       "      <td>6</td>\n",
       "    </tr>\n",
       "    <tr>\n",
       "      <th>4</th>\n",
       "      <td>0</td>\n",
       "      <td>23</td>\n",
       "      <td>16</td>\n",
       "      <td>77</td>\n",
       "    </tr>\n",
       "    <tr>\n",
       "      <th>5</th>\n",
       "      <td>0</td>\n",
       "      <td>31</td>\n",
       "      <td>17</td>\n",
       "      <td>40</td>\n",
       "    </tr>\n",
       "  </tbody>\n",
       "</table>\n",
       "</div>"
      ],
      "text/plain": [
       "            Gender  Age  Annual Income (k$)  Spending Score (1-100)\n",
       "CustomerID                                                         \n",
       "1                1   19                  15                      39\n",
       "2                1   21                  15                      81\n",
       "3                0   20                  16                       6\n",
       "4                0   23                  16                      77\n",
       "5                0   31                  17                      40"
      ]
     },
     "execution_count": 10,
     "metadata": {},
     "output_type": "execute_result"
    }
   ],
   "source": [
    "# Storingt the values\n",
    "df1.Gender = encoder.fit_transform(df1.Gender) # Storing the values in Gender Columns\n",
    "df1.head()                                     # Dataframe updated by encoded values"
   ]
  },
  {
   "attachments": {},
   "cell_type": "markdown",
   "metadata": {},
   "source": [
    "### Inverse Transform / Decode"
   ]
  },
  {
   "cell_type": "code",
   "execution_count": 11,
   "metadata": {},
   "outputs": [
    {
     "data": {
      "text/plain": [
       "array([1, 1, 0, 0, 0, 0, 0, 0, 1, 0, 1, 0, 0, 0, 1, 1, 0, 1, 1, 0, 1, 1,\n",
       "       0, 1, 0, 1, 0, 1, 0, 0, 1, 0, 1, 1, 0, 0, 0, 0, 0, 0, 0, 1, 1, 0,\n",
       "       0, 0, 0, 0, 0, 0, 0, 1, 0, 1, 0, 1, 0, 1, 0, 1, 1, 1, 0, 0, 1, 1,\n",
       "       0, 0, 1, 0, 1, 0, 0, 0, 1, 1, 0, 1, 0, 0, 1, 1, 1, 0, 0, 1, 0, 0,\n",
       "       0, 0, 0, 1, 1, 0, 0, 1, 0, 0, 1, 1, 0, 0, 1, 1, 1, 0, 0, 1, 1, 1,\n",
       "       1, 0, 0, 1, 0, 0, 0, 0, 0, 0, 1, 0, 0, 1, 0, 0, 1, 1, 1, 1, 1, 1,\n",
       "       0, 0, 1, 0, 0, 1, 1, 0, 0, 1, 0, 0, 1, 1, 1, 0, 0, 1, 1, 1, 0, 0,\n",
       "       0, 0, 1, 0, 1, 0, 0, 0, 1, 0, 1, 0, 1, 0, 0, 1, 1, 1, 1, 1, 0, 0,\n",
       "       1, 1, 1, 1, 0, 0, 1, 0, 0, 1, 0, 1, 0, 0, 0, 0, 1, 0, 0, 0, 0, 1,\n",
       "       1, 1])"
      ]
     },
     "execution_count": 11,
     "metadata": {},
     "output_type": "execute_result"
    }
   ],
   "source": [
    "df1.Gender.values      # converting values that means numpy array"
   ]
  },
  {
   "attachments": {},
   "cell_type": "markdown",
   "metadata": {},
   "source": [
    "- When you dont know about 0,1... n then inverse will 'help' to understand"
   ]
  },
  {
   "cell_type": "code",
   "execution_count": 12,
   "metadata": {},
   "outputs": [
    {
     "data": {
      "text/plain": [
       "array(['Male', 'Male', 'Female', 'Female', 'Female', 'Female', 'Female',\n",
       "       'Female', 'Male', 'Female', 'Male', 'Female', 'Female', 'Female',\n",
       "       'Male', 'Male', 'Female', 'Male', 'Male', 'Female', 'Male', 'Male',\n",
       "       'Female', 'Male', 'Female', 'Male', 'Female', 'Male', 'Female',\n",
       "       'Female', 'Male', 'Female', 'Male', 'Male', 'Female', 'Female',\n",
       "       'Female', 'Female', 'Female', 'Female', 'Female', 'Male', 'Male',\n",
       "       'Female', 'Female', 'Female', 'Female', 'Female', 'Female',\n",
       "       'Female', 'Female', 'Male', 'Female', 'Male', 'Female', 'Male',\n",
       "       'Female', 'Male', 'Female', 'Male', 'Male', 'Male', 'Female',\n",
       "       'Female', 'Male', 'Male', 'Female', 'Female', 'Male', 'Female',\n",
       "       'Male', 'Female', 'Female', 'Female', 'Male', 'Male', 'Female',\n",
       "       'Male', 'Female', 'Female', 'Male', 'Male', 'Male', 'Female',\n",
       "       'Female', 'Male', 'Female', 'Female', 'Female', 'Female', 'Female',\n",
       "       'Male', 'Male', 'Female', 'Female', 'Male', 'Female', 'Female',\n",
       "       'Male', 'Male', 'Female', 'Female', 'Male', 'Male', 'Male',\n",
       "       'Female', 'Female', 'Male', 'Male', 'Male', 'Male', 'Female',\n",
       "       'Female', 'Male', 'Female', 'Female', 'Female', 'Female', 'Female',\n",
       "       'Female', 'Male', 'Female', 'Female', 'Male', 'Female', 'Female',\n",
       "       'Male', 'Male', 'Male', 'Male', 'Male', 'Male', 'Female', 'Female',\n",
       "       'Male', 'Female', 'Female', 'Male', 'Male', 'Female', 'Female',\n",
       "       'Male', 'Female', 'Female', 'Male', 'Male', 'Male', 'Female',\n",
       "       'Female', 'Male', 'Male', 'Male', 'Female', 'Female', 'Female',\n",
       "       'Female', 'Male', 'Female', 'Male', 'Female', 'Female', 'Female',\n",
       "       'Male', 'Female', 'Male', 'Female', 'Male', 'Female', 'Female',\n",
       "       'Male', 'Male', 'Male', 'Male', 'Male', 'Female', 'Female', 'Male',\n",
       "       'Male', 'Male', 'Male', 'Female', 'Female', 'Male', 'Female',\n",
       "       'Female', 'Male', 'Female', 'Male', 'Female', 'Female', 'Female',\n",
       "       'Female', 'Male', 'Female', 'Female', 'Female', 'Female', 'Male',\n",
       "       'Male', 'Male'], dtype=object)"
      ]
     },
     "execution_count": 12,
     "metadata": {},
     "output_type": "execute_result"
    }
   ],
   "source": [
    "encoder.inverse_transform(df1.Gender.values)"
   ]
  },
  {
   "attachments": {},
   "cell_type": "markdown",
   "metadata": {},
   "source": [
    "# Distribution Review"
   ]
  },
  {
   "attachments": {},
   "cell_type": "markdown",
   "metadata": {},
   "source": [
    "- Since we hava a categorical col as Gender, we can see its distribution\n",
    "- For statistical distribution, barplot is best choice\n",
    "- For customization matplotlib can be useful, but generally sns is preferred"
   ]
  },
  {
   "cell_type": "code",
   "execution_count": 13,
   "metadata": {},
   "outputs": [
    {
     "data": {
      "text/plain": [
       "0    112\n",
       "1     88\n",
       "Name: Gender, dtype: int64"
      ]
     },
     "execution_count": 13,
     "metadata": {},
     "output_type": "execute_result"
    }
   ],
   "source": [
    "gender = df.Gender.value_counts()\n",
    "gender                  # 0: Female  ;   1: Male"
   ]
  },
  {
   "cell_type": "code",
   "execution_count": 14,
   "metadata": {},
   "outputs": [
    {
     "data": {
      "text/plain": [
       "array([112,  88], dtype=int64)"
      ]
     },
     "execution_count": 14,
     "metadata": {},
     "output_type": "execute_result"
    }
   ],
   "source": [
    "gender = df.Gender.value_counts()\n",
    "gender.values"
   ]
  },
  {
   "cell_type": "code",
   "execution_count": 15,
   "metadata": {},
   "outputs": [
    {
     "data": {
      "image/png": "[encoded data removed]",
      "text/plain": [
       "<Figure size 640x480 with 1 Axes>"
      ]
     },
     "metadata": {},
     "output_type": "display_data"
    }
   ],
   "source": [
    "# x & y declaired explicitely\n",
    "sns.set_style('darkgrid')\n",
    "sns.barplot(x=[\"Female\",\"Male\"], y=gender.values)   # Barplot requires x & y,     x got multiple values in list/array\n",
    "plt.show()"
   ]
  },
  {
   "cell_type": "code",
   "execution_count": 16,
   "metadata": {},
   "outputs": [
    {
     "data": {
      "text/plain": [
       "array([1, 1, 0, 0, 0, 0, 0, 0, 1, 0, 1, 0, 0, 0, 1, 1, 0, 1, 1, 0, 1, 1,\n",
       "       0, 1, 0, 1, 0, 1, 0, 0, 1, 0, 1, 1, 0, 0, 0, 0, 0, 0, 0, 1, 1, 0,\n",
       "       0, 0, 0, 0, 0, 0, 0, 1, 0, 1, 0, 1, 0, 1, 0, 1, 1, 1, 0, 0, 1, 1,\n",
       "       0, 0, 1, 0, 1, 0, 0, 0, 1, 1, 0, 1, 0, 0, 1, 1, 1, 0, 0, 1, 0, 0,\n",
       "       0, 0, 0, 1, 1, 0, 0, 1, 0, 0, 1, 1, 0, 0, 1, 1, 1, 0, 0, 1, 1, 1,\n",
       "       1, 0, 0, 1, 0, 0, 0, 0, 0, 0, 1, 0, 0, 1, 0, 0, 1, 1, 1, 1, 1, 1,\n",
       "       0, 0, 1, 0, 0, 1, 1, 0, 0, 1, 0, 0, 1, 1, 1, 0, 0, 1, 1, 1, 0, 0,\n",
       "       0, 0, 1, 0, 1, 0, 0, 0, 1, 0, 1, 0, 1, 0, 0, 1, 1, 1, 1, 1, 0, 0,\n",
       "       1, 1, 1, 1, 0, 0, 1, 0, 0, 1, 0, 1, 0, 0, 0, 0, 1, 0, 0, 0, 0, 1,\n",
       "       1, 1], dtype=int8)"
      ]
     },
     "execution_count": 16,
     "metadata": {},
     "output_type": "execute_result"
    }
   ],
   "source": [
    "df.Gender.values"
   ]
  },
  {
   "cell_type": "code",
   "execution_count": 17,
   "metadata": {},
   "outputs": [
    {
     "data": {
      "text/plain": [
       "array(['Male', 'Male', 'Female', 'Female', 'Female', 'Female', 'Female',\n",
       "       'Female', 'Male', 'Female', 'Male', 'Female', 'Female', 'Female',\n",
       "       'Male', 'Male', 'Female', 'Male', 'Male', 'Female', 'Male', 'Male',\n",
       "       'Female', 'Male', 'Female', 'Male', 'Female', 'Male', 'Female',\n",
       "       'Female', 'Male', 'Female', 'Male', 'Male', 'Female', 'Female',\n",
       "       'Female', 'Female', 'Female', 'Female', 'Female', 'Male', 'Male',\n",
       "       'Female', 'Female', 'Female', 'Female', 'Female', 'Female',\n",
       "       'Female', 'Female', 'Male', 'Female', 'Male', 'Female', 'Male',\n",
       "       'Female', 'Male', 'Female', 'Male', 'Male', 'Male', 'Female',\n",
       "       'Female', 'Male', 'Male', 'Female', 'Female', 'Male', 'Female',\n",
       "       'Male', 'Female', 'Female', 'Female', 'Male', 'Male', 'Female',\n",
       "       'Male', 'Female', 'Female', 'Male', 'Male', 'Male', 'Female',\n",
       "       'Female', 'Male', 'Female', 'Female', 'Female', 'Female', 'Female',\n",
       "       'Male', 'Male', 'Female', 'Female', 'Male', 'Female', 'Female',\n",
       "       'Male', 'Male', 'Female', 'Female', 'Male', 'Male', 'Male',\n",
       "       'Female', 'Female', 'Male', 'Male', 'Male', 'Male', 'Female',\n",
       "       'Female', 'Male', 'Female', 'Female', 'Female', 'Female', 'Female',\n",
       "       'Female', 'Male', 'Female', 'Female', 'Male', 'Female', 'Female',\n",
       "       'Male', 'Male', 'Male', 'Male', 'Male', 'Male', 'Female', 'Female',\n",
       "       'Male', 'Female', 'Female', 'Male', 'Male', 'Female', 'Female',\n",
       "       'Male', 'Female', 'Female', 'Male', 'Male', 'Male', 'Female',\n",
       "       'Female', 'Male', 'Male', 'Male', 'Female', 'Female', 'Female',\n",
       "       'Female', 'Male', 'Female', 'Male', 'Female', 'Female', 'Female',\n",
       "       'Male', 'Female', 'Male', 'Female', 'Male', 'Female', 'Female',\n",
       "       'Male', 'Male', 'Male', 'Male', 'Male', 'Female', 'Female', 'Male',\n",
       "       'Male', 'Male', 'Male', 'Female', 'Female', 'Male', 'Female',\n",
       "       'Female', 'Male', 'Female', 'Male', 'Female', 'Female', 'Female',\n",
       "       'Female', 'Male', 'Female', 'Female', 'Female', 'Female', 'Male',\n",
       "       'Male', 'Male'], dtype=object)"
      ]
     },
     "execution_count": 17,
     "metadata": {},
     "output_type": "execute_result"
    }
   ],
   "source": [
    "# encoder.inverse_transform(df.Gender.values)\n",
    "inverse_val = encoder.inverse_transform(df.Gender.values)\n",
    "inverse_val"
   ]
  },
  {
   "cell_type": "code",
   "execution_count": 18,
   "metadata": {},
   "outputs": [
    {
     "data": {
      "image/png": "[encoded data removed]",
      "text/plain": [
       "<Figure size 640x480 with 1 Axes>"
      ]
     },
     "metadata": {},
     "output_type": "display_data"
    }
   ],
   "source": [
    "sns.set_style('darkgrid')\n",
    "sns.barplot(x=encoder.fit_transform(gender.index), y=gender.values) # x auto passing\n",
    "plt.show()"
   ]
  },
  {
   "attachments": {},
   "cell_type": "markdown",
   "metadata": {},
   "source": [
    "- Now we will try to understand the underlysing pattern by scatter plot, so that we can understand the pattern properly"
   ]
  },
  {
   "cell_type": "code",
   "execution_count": 19,
   "metadata": {},
   "outputs": [
    {
     "data": {
      "image/png": "[encoded data removed]",
      "text/plain": [
       "<Figure size 640x480 with 1 Axes>"
      ]
     },
     "metadata": {},
     "output_type": "display_data"
    }
   ],
   "source": [
    "# Inspecting Age\n",
    "sns.histplot(data=df1, x='Age')  # histplot for continues value\n",
    "plt.show()"
   ]
  },
  {
   "cell_type": "code",
   "execution_count": 20,
   "metadata": {},
   "outputs": [
    {
     "data": {
      "image/png": "[encoded data removed]",
      "text/plain": [
       "<Figure size 640x480 with 1 Axes>"
      ]
     },
     "metadata": {},
     "output_type": "display_data"
    }
   ],
   "source": [
    "sns.histplot(x='Annual Income (k$)', data=df1)\n",
    "plt.show()"
   ]
  },
  {
   "cell_type": "code",
   "execution_count": 21,
   "metadata": {},
   "outputs": [
    {
     "data": {
      "image/png": "[encoded data removed]",
      "text/plain": [
       "<Figure size 640x480 with 1 Axes>"
      ]
     },
     "metadata": {},
     "output_type": "display_data"
    }
   ],
   "source": [
    "sns.histplot(data=df1, x='Spending Score (1-100)')\n",
    "plt.show()"
   ]
  },
  {
   "cell_type": "code",
   "execution_count": 22,
   "metadata": {},
   "outputs": [
    {
     "data": {
      "image/png": "[encoded data removed]",
      "text/plain": [
       "<Figure size 1000x1000 with 20 Axes>"
      ]
     },
     "metadata": {},
     "output_type": "display_data"
    }
   ],
   "source": [
    "sns.pairplot(data=df1)  # Return distribution as well as its internal relationship, do all at a time\n",
    "plt.show()"
   ]
  },
  {
   "attachments": {},
   "cell_type": "markdown",
   "metadata": {},
   "source": [
    "### Insights"
   ]
  },
  {
   "attachments": {},
   "cell_type": "markdown",
   "metadata": {},
   "source": [
    "- As per graph, there is a pattern in between 'Spending score' vs 'Annual score'\n",
    "- There are some outliers(Spending Score & Annual Income), lets try to remove the outliers first\n",
    "- We will take two (Spending & Income), because we can see clearly there is a obvious pattern between this- its 'Feature Selection'\n",
    "- In reallife, take one by one & try to categories this. Do Clustering for one only, not two, after clustering see the silhoutte score, then sorting, then select best scores like top 2, 3..n\n",
    "- As per pairplot, its obvious that, whole data is not scaled, rathers its spread in different range, so need to scaled first to make sure the data in \"Standard Distribution\""
   ]
  },
  {
   "attachments": {},
   "cell_type": "markdown",
   "metadata": {},
   "source": [
    "# Scaling"
   ]
  },
  {
   "cell_type": "code",
   "execution_count": 23,
   "metadata": {},
   "outputs": [
    {
     "data": {
      "text/plain": [
       "array([[ 1.12815215, -1.42456879, -1.73899919, -0.43480148],\n",
       "       [ 1.12815215, -1.28103541, -1.73899919,  1.19570407],\n",
       "       [-0.88640526, -1.3528021 , -1.70082976, -1.71591298],\n",
       "       [-0.88640526, -1.13750203, -1.70082976,  1.04041783],\n",
       "       [-0.88640526, -0.56336851, -1.66266033, -0.39597992],\n",
       "       [-0.88640526, -1.20926872, -1.66266033,  1.00159627],\n",
       "       [-0.88640526, -0.27630176, -1.62449091, -1.71591298],\n",
       "       [-0.88640526, -1.13750203, -1.62449091,  1.70038436],\n",
       "       [ 1.12815215,  1.80493225, -1.58632148, -1.83237767],\n",
       "       [-0.88640526, -0.6351352 , -1.58632148,  0.84631002],\n",
       "       [ 1.12815215,  2.02023231, -1.58632148, -1.4053405 ],\n",
       "       [-0.88640526, -0.27630176, -1.58632148,  1.89449216],\n",
       "       [-0.88640526,  1.37433211, -1.54815205, -1.36651894],\n",
       "       [-0.88640526, -1.06573534, -1.54815205,  1.04041783],\n",
       "       [ 1.12815215, -0.13276838, -1.54815205, -1.44416206],\n",
       "       [ 1.12815215, -1.20926872, -1.54815205,  1.11806095],\n",
       "       [-0.88640526, -0.27630176, -1.50998262, -0.59008772],\n",
       "       [ 1.12815215, -1.3528021 , -1.50998262,  0.61338066],\n",
       "       [ 1.12815215,  0.94373197, -1.43364376, -0.82301709],\n",
       "       [-0.88640526, -0.27630176, -1.43364376,  1.8556706 ],\n",
       "       [ 1.12815215, -0.27630176, -1.39547433, -0.59008772],\n",
       "       [ 1.12815215, -0.99396865, -1.39547433,  0.88513158],\n",
       "       [-0.88640526,  0.51313183, -1.3573049 , -1.75473454],\n",
       "       [ 1.12815215, -0.56336851, -1.3573049 ,  0.88513158],\n",
       "       [-0.88640526,  1.08726535, -1.24279661, -1.4053405 ],\n",
       "       [ 1.12815215, -0.70690189, -1.24279661,  1.23452563],\n",
       "       [-0.88640526,  0.44136514, -1.24279661, -0.7065524 ],\n",
       "       [ 1.12815215, -0.27630176, -1.24279661,  0.41927286],\n",
       "       [-0.88640526,  0.08253169, -1.20462718, -0.74537397],\n",
       "       [-0.88640526, -1.13750203, -1.20462718,  1.42863343],\n",
       "       [ 1.12815215,  1.51786549, -1.16645776, -1.7935561 ],\n",
       "       [-0.88640526, -1.28103541, -1.16645776,  0.88513158],\n",
       "       [ 1.12815215,  1.01549866, -1.05194947, -1.7935561 ],\n",
       "       [ 1.12815215, -1.49633548, -1.05194947,  1.62274124],\n",
       "       [-0.88640526,  0.7284319 , -1.05194947, -1.4053405 ],\n",
       "       [-0.88640526, -1.28103541, -1.05194947,  1.19570407],\n",
       "       [-0.88640526,  0.22606507, -1.01378004, -1.28887582],\n",
       "       [-0.88640526, -0.6351352 , -1.01378004,  0.88513158],\n",
       "       [-0.88640526, -0.20453507, -0.89927175, -0.93948177],\n",
       "       [-0.88640526, -1.3528021 , -0.89927175,  0.96277471],\n",
       "       [-0.88640526,  1.87669894, -0.86110232, -0.59008772],\n",
       "       [ 1.12815215, -1.06573534, -0.86110232,  1.62274124],\n",
       "       [ 1.12815215,  0.65666521, -0.82293289, -0.55126616],\n",
       "       [-0.88640526, -0.56336851, -0.82293289,  0.41927286],\n",
       "       [-0.88640526,  0.7284319 , -0.82293289, -0.86183865],\n",
       "       [-0.88640526, -1.06573534, -0.82293289,  0.5745591 ],\n",
       "       [-0.88640526,  0.80019859, -0.78476346,  0.18634349],\n",
       "       [-0.88640526, -0.85043527, -0.78476346, -0.12422899],\n",
       "       [-0.88640526, -0.70690189, -0.78476346, -0.3183368 ],\n",
       "       [-0.88640526, -0.56336851, -0.78476346, -0.3183368 ],\n",
       "       [-0.88640526,  0.7284319 , -0.70842461,  0.06987881],\n",
       "       [ 1.12815215, -0.41983513, -0.70842461,  0.38045129],\n",
       "       [-0.88640526, -0.56336851, -0.67025518,  0.14752193],\n",
       "       [ 1.12815215,  1.4460988 , -0.67025518,  0.38045129],\n",
       "       [-0.88640526,  0.80019859, -0.67025518, -0.20187212],\n",
       "       [ 1.12815215,  0.58489852, -0.67025518, -0.35715836],\n",
       "       [-0.88640526,  0.87196528, -0.63208575, -0.00776431],\n",
       "       [ 1.12815215,  2.16376569, -0.63208575, -0.16305055],\n",
       "       [-0.88640526, -0.85043527, -0.55574689,  0.03105725],\n",
       "       [ 1.12815215,  1.01549866, -0.55574689, -0.16305055],\n",
       "       [ 1.12815215,  2.23553238, -0.55574689,  0.22516505],\n",
       "       [ 1.12815215, -1.42456879, -0.55574689,  0.18634349],\n",
       "       [-0.88640526,  2.02023231, -0.51757746,  0.06987881],\n",
       "       [-0.88640526,  1.08726535, -0.51757746,  0.34162973],\n",
       "       [ 1.12815215,  1.73316556, -0.47940803,  0.03105725],\n",
       "       [ 1.12815215, -1.49633548, -0.47940803,  0.34162973],\n",
       "       [-0.88640526,  0.29783176, -0.47940803, -0.00776431],\n",
       "       [-0.88640526,  2.091999  , -0.47940803, -0.08540743],\n",
       "       [ 1.12815215, -1.42456879, -0.47940803,  0.34162973],\n",
       "       [-0.88640526, -0.49160182, -0.47940803, -0.12422899],\n",
       "       [ 1.12815215,  2.23553238, -0.4412386 ,  0.18634349],\n",
       "       [-0.88640526,  0.58489852, -0.4412386 , -0.3183368 ],\n",
       "       [-0.88640526,  1.51786549, -0.40306917, -0.04658587],\n",
       "       [-0.88640526,  1.51786549, -0.40306917,  0.22516505],\n",
       "       [ 1.12815215,  1.4460988 , -0.25039146, -0.12422899],\n",
       "       [ 1.12815215, -0.92220196, -0.25039146,  0.14752193],\n",
       "       [-0.88640526,  0.44136514, -0.25039146,  0.10870037],\n",
       "       [ 1.12815215,  0.08253169, -0.25039146, -0.08540743],\n",
       "       [-0.88640526, -1.13750203, -0.25039146,  0.06987881],\n",
       "       [-0.88640526,  0.7284319 , -0.25039146, -0.3183368 ],\n",
       "       [ 1.12815215,  1.30256542, -0.25039146,  0.03105725],\n",
       "       [ 1.12815215, -0.06100169, -0.25039146,  0.18634349],\n",
       "       [ 1.12815215,  2.02023231, -0.25039146, -0.35715836],\n",
       "       [-0.88640526,  0.51313183, -0.25039146, -0.24069368],\n",
       "       [-0.88640526, -1.28103541, -0.25039146,  0.26398661],\n",
       "       [ 1.12815215,  0.65666521, -0.25039146, -0.16305055],\n",
       "       [-0.88640526,  1.15903204, -0.13588317,  0.30280817],\n",
       "       [-0.88640526, -1.20926872, -0.13588317,  0.18634349],\n",
       "       [-0.88640526, -0.34806844, -0.09771374,  0.38045129],\n",
       "       [-0.88640526,  0.80019859, -0.09771374, -0.16305055],\n",
       "       [-0.88640526,  2.091999  , -0.05954431,  0.18634349],\n",
       "       [ 1.12815215, -1.49633548, -0.05954431, -0.35715836],\n",
       "       [ 1.12815215,  0.65666521, -0.02137488, -0.04658587],\n",
       "       [-0.88640526,  0.08253169, -0.02137488, -0.39597992],\n",
       "       [-0.88640526, -0.49160182, -0.02137488, -0.3183368 ],\n",
       "       [ 1.12815215, -1.06573534, -0.02137488,  0.06987881],\n",
       "       [-0.88640526,  0.58489852, -0.02137488, -0.12422899],\n",
       "       [-0.88640526, -0.85043527, -0.02137488, -0.00776431],\n",
       "       [ 1.12815215,  0.65666521,  0.01679455, -0.3183368 ],\n",
       "       [ 1.12815215, -1.3528021 ,  0.01679455, -0.04658587],\n",
       "       [-0.88640526, -1.13750203,  0.05496398, -0.35715836],\n",
       "       [-0.88640526,  0.7284319 ,  0.05496398, -0.08540743],\n",
       "       [ 1.12815215,  2.02023231,  0.05496398,  0.34162973],\n",
       "       [ 1.12815215, -0.92220196,  0.05496398,  0.18634349],\n",
       "       [ 1.12815215,  0.7284319 ,  0.05496398,  0.22516505],\n",
       "       [-0.88640526, -1.28103541,  0.05496398, -0.3183368 ],\n",
       "       [-0.88640526,  1.94846562,  0.09313341, -0.00776431],\n",
       "       [ 1.12815215,  1.08726535,  0.09313341, -0.16305055],\n",
       "       [ 1.12815215,  2.091999  ,  0.09313341, -0.27951524],\n",
       "       [ 1.12815215,  1.94846562,  0.09313341, -0.08540743],\n",
       "       [ 1.12815215,  1.87669894,  0.09313341,  0.06987881],\n",
       "       [-0.88640526, -1.42456879,  0.09313341,  0.14752193],\n",
       "       [-0.88640526, -0.06100169,  0.13130284, -0.3183368 ],\n",
       "       [ 1.12815215, -1.42456879,  0.13130284, -0.16305055],\n",
       "       [-0.88640526, -1.49633548,  0.16947227, -0.08540743],\n",
       "       [-0.88640526, -1.42456879,  0.16947227, -0.00776431],\n",
       "       [-0.88640526,  1.73316556,  0.16947227, -0.27951524],\n",
       "       [-0.88640526,  0.7284319 ,  0.16947227,  0.34162973],\n",
       "       [-0.88640526,  0.87196528,  0.24581112, -0.27951524],\n",
       "       [-0.88640526,  0.80019859,  0.24581112,  0.26398661],\n",
       "       [ 1.12815215, -0.85043527,  0.24581112,  0.22516505],\n",
       "       [-0.88640526, -0.06100169,  0.24581112, -0.39597992],\n",
       "       [-0.88640526,  0.08253169,  0.32214998,  0.30280817],\n",
       "       [ 1.12815215,  0.010765  ,  0.32214998,  1.58391968],\n",
       "       [-0.88640526, -1.13750203,  0.36031941, -0.82301709],\n",
       "       [-0.88640526, -0.56336851,  0.36031941,  1.04041783],\n",
       "       [ 1.12815215,  0.29783176,  0.39848884, -0.59008772],\n",
       "       [ 1.12815215,  0.08253169,  0.39848884,  1.73920592],\n",
       "       [ 1.12815215,  1.4460988 ,  0.39848884, -1.52180518],\n",
       "       [ 1.12815215, -0.06100169,  0.39848884,  0.96277471],\n",
       "       [ 1.12815215,  0.58489852,  0.39848884, -1.5994483 ],\n",
       "       [ 1.12815215,  0.010765  ,  0.39848884,  0.96277471],\n",
       "       [-0.88640526, -0.99396865,  0.43665827, -0.62890928],\n",
       "       [-0.88640526, -0.56336851,  0.43665827,  0.80748846],\n",
       "       [ 1.12815215, -1.3528021 ,  0.4748277 , -1.75473454],\n",
       "       [-0.88640526, -0.70690189,  0.4748277 ,  1.46745499],\n",
       "       [-0.88640526,  0.36959845,  0.4748277 , -1.67709142],\n",
       "       [ 1.12815215, -0.49160182,  0.4748277 ,  0.88513158],\n",
       "       [ 1.12815215, -1.42456879,  0.51299713, -1.56062674],\n",
       "       [-0.88640526, -0.27630176,  0.51299713,  0.84631002],\n",
       "       [-0.88640526,  1.30256542,  0.55116656, -1.75473454],\n",
       "       [ 1.12815215, -0.49160182,  0.55116656,  1.6615628 ],\n",
       "       [-0.88640526, -0.77866858,  0.58933599, -0.39597992],\n",
       "       [-0.88640526, -0.49160182,  0.58933599,  1.42863343],\n",
       "       [ 1.12815215, -0.99396865,  0.62750542, -1.48298362],\n",
       "       [ 1.12815215, -0.77866858,  0.62750542,  1.81684904],\n",
       "       [ 1.12815215,  0.65666521,  0.62750542, -0.55126616],\n",
       "       [-0.88640526, -0.49160182,  0.62750542,  0.92395314],\n",
       "       [-0.88640526, -0.34806844,  0.66567484, -1.09476801],\n",
       "       [ 1.12815215, -0.34806844,  0.66567484,  1.54509812],\n",
       "       [ 1.12815215,  0.29783176,  0.66567484, -1.28887582],\n",
       "       [ 1.12815215,  0.010765  ,  0.66567484,  1.46745499],\n",
       "       [-0.88640526,  0.36959845,  0.66567484, -1.17241113],\n",
       "       [-0.88640526, -0.06100169,  0.66567484,  1.00159627],\n",
       "       [-0.88640526,  0.58489852,  0.66567484, -1.32769738],\n",
       "       [-0.88640526, -0.85043527,  0.66567484,  1.50627656],\n",
       "       [ 1.12815215, -0.13276838,  0.66567484, -1.91002079],\n",
       "       [-0.88640526, -0.6351352 ,  0.66567484,  1.07923939],\n",
       "       [ 1.12815215, -0.34806844,  0.66567484, -1.91002079],\n",
       "       [-0.88640526, -0.6351352 ,  0.66567484,  0.88513158],\n",
       "       [-0.88640526,  1.23079873,  0.70384427, -0.59008772],\n",
       "       [-0.88640526, -0.70690189,  0.70384427,  1.27334719],\n",
       "       [ 1.12815215, -1.42456879,  0.78018313, -1.75473454],\n",
       "       [-0.88640526, -0.56336851,  0.78018313,  1.6615628 ],\n",
       "       [ 1.12815215,  0.80019859,  0.93286085, -0.93948177],\n",
       "       [-0.88640526, -0.20453507,  0.93286085,  0.96277471],\n",
       "       [ 1.12815215,  0.22606507,  0.97103028, -1.17241113],\n",
       "       [-0.88640526, -0.41983513,  0.97103028,  1.73920592],\n",
       "       [-0.88640526, -0.20453507,  1.00919971, -0.90066021],\n",
       "       [ 1.12815215, -0.49160182,  1.00919971,  0.49691598],\n",
       "       [ 1.12815215,  0.08253169,  1.00919971, -1.44416206],\n",
       "       [ 1.12815215, -0.77866858,  1.00919971,  0.96277471],\n",
       "       [ 1.12815215, -0.20453507,  1.00919971, -1.56062674],\n",
       "       [ 1.12815215, -0.20453507,  1.00919971,  1.62274124],\n",
       "       [-0.88640526,  0.94373197,  1.04736914, -1.44416206],\n",
       "       [-0.88640526, -0.6351352 ,  1.04736914,  1.38981187],\n",
       "       [ 1.12815215,  1.37433211,  1.04736914, -1.36651894],\n",
       "       [ 1.12815215, -0.85043527,  1.04736914,  0.72984534],\n",
       "       [ 1.12815215,  1.4460988 ,  1.23821628, -1.4053405 ],\n",
       "       [ 1.12815215, -0.27630176,  1.23821628,  1.54509812],\n",
       "       [-0.88640526, -0.13276838,  1.390894  , -0.7065524 ],\n",
       "       [-0.88640526, -0.49160182,  1.390894  ,  1.38981187],\n",
       "       [ 1.12815215,  0.51313183,  1.42906343, -1.36651894],\n",
       "       [-0.88640526, -0.70690189,  1.42906343,  1.46745499],\n",
       "       [-0.88640526,  0.15429838,  1.46723286, -0.43480148],\n",
       "       [ 1.12815215, -0.6351352 ,  1.46723286,  1.81684904],\n",
       "       [-0.88640526,  1.08726535,  1.54357172, -1.01712489],\n",
       "       [ 1.12815215, -0.77866858,  1.54357172,  0.69102378],\n",
       "       [-0.88640526,  0.15429838,  1.61991057, -1.28887582],\n",
       "       [-0.88640526, -0.20453507,  1.61991057,  1.35099031],\n",
       "       [-0.88640526, -0.34806844,  1.61991057, -1.05594645],\n",
       "       [-0.88640526, -0.49160182,  1.61991057,  0.72984534],\n",
       "       [ 1.12815215, -0.41983513,  2.00160487, -1.63826986],\n",
       "       [-0.88640526, -0.06100169,  2.00160487,  1.58391968],\n",
       "       [-0.88640526,  0.58489852,  2.26879087, -1.32769738],\n",
       "       [-0.88640526, -0.27630176,  2.26879087,  1.11806095],\n",
       "       [-0.88640526,  0.44136514,  2.49780745, -0.86183865],\n",
       "       [ 1.12815215, -0.49160182,  2.49780745,  0.92395314],\n",
       "       [ 1.12815215, -0.49160182,  2.91767117, -1.25005425],\n",
       "       [ 1.12815215, -0.6351352 ,  2.91767117,  1.27334719]])"
      ]
     },
     "execution_count": 23,
     "metadata": {},
     "output_type": "execute_result"
    }
   ],
   "source": [
    "from sklearn.preprocessing import StandardScaler\n",
    "scaler = StandardScaler()\n",
    "scaler.fit_transform(df1)"
   ]
  },
  {
   "attachments": {},
   "cell_type": "markdown",
   "metadata": {},
   "source": [
    "- StandardScaler is one the most popular scaler, which is very efficient for standard distribution\n",
    "- Scaling applied on numerical data, e.g here 4 features\n",
    "- No need to scale the any categorical data"
   ]
  },
  {
   "cell_type": "code",
   "execution_count": 24,
   "metadata": {},
   "outputs": [
    {
     "data": {
      "text/plain": [
       "array([[-1.42456879, -1.73899919, -0.43480148],\n",
       "       [-1.28103541, -1.73899919,  1.19570407],\n",
       "       [-1.3528021 , -1.70082976, -1.71591298],\n",
       "       [-1.13750203, -1.70082976,  1.04041783],\n",
       "       [-0.56336851, -1.66266033, -0.39597992],\n",
       "       [-1.20926872, -1.66266033,  1.00159627],\n",
       "       [-0.27630176, -1.62449091, -1.71591298],\n",
       "       [-1.13750203, -1.62449091,  1.70038436],\n",
       "       [ 1.80493225, -1.58632148, -1.83237767],\n",
       "       [-0.6351352 , -1.58632148,  0.84631002],\n",
       "       [ 2.02023231, -1.58632148, -1.4053405 ],\n",
       "       [-0.27630176, -1.58632148,  1.89449216],\n",
       "       [ 1.37433211, -1.54815205, -1.36651894],\n",
       "       [-1.06573534, -1.54815205,  1.04041783],\n",
       "       [-0.13276838, -1.54815205, -1.44416206],\n",
       "       [-1.20926872, -1.54815205,  1.11806095],\n",
       "       [-0.27630176, -1.50998262, -0.59008772],\n",
       "       [-1.3528021 , -1.50998262,  0.61338066],\n",
       "       [ 0.94373197, -1.43364376, -0.82301709],\n",
       "       [-0.27630176, -1.43364376,  1.8556706 ],\n",
       "       [-0.27630176, -1.39547433, -0.59008772],\n",
       "       [-0.99396865, -1.39547433,  0.88513158],\n",
       "       [ 0.51313183, -1.3573049 , -1.75473454],\n",
       "       [-0.56336851, -1.3573049 ,  0.88513158],\n",
       "       [ 1.08726535, -1.24279661, -1.4053405 ],\n",
       "       [-0.70690189, -1.24279661,  1.23452563],\n",
       "       [ 0.44136514, -1.24279661, -0.7065524 ],\n",
       "       [-0.27630176, -1.24279661,  0.41927286],\n",
       "       [ 0.08253169, -1.20462718, -0.74537397],\n",
       "       [-1.13750203, -1.20462718,  1.42863343],\n",
       "       [ 1.51786549, -1.16645776, -1.7935561 ],\n",
       "       [-1.28103541, -1.16645776,  0.88513158],\n",
       "       [ 1.01549866, -1.05194947, -1.7935561 ],\n",
       "       [-1.49633548, -1.05194947,  1.62274124],\n",
       "       [ 0.7284319 , -1.05194947, -1.4053405 ],\n",
       "       [-1.28103541, -1.05194947,  1.19570407],\n",
       "       [ 0.22606507, -1.01378004, -1.28887582],\n",
       "       [-0.6351352 , -1.01378004,  0.88513158],\n",
       "       [-0.20453507, -0.89927175, -0.93948177],\n",
       "       [-1.3528021 , -0.89927175,  0.96277471],\n",
       "       [ 1.87669894, -0.86110232, -0.59008772],\n",
       "       [-1.06573534, -0.86110232,  1.62274124],\n",
       "       [ 0.65666521, -0.82293289, -0.55126616],\n",
       "       [-0.56336851, -0.82293289,  0.41927286],\n",
       "       [ 0.7284319 , -0.82293289, -0.86183865],\n",
       "       [-1.06573534, -0.82293289,  0.5745591 ],\n",
       "       [ 0.80019859, -0.78476346,  0.18634349],\n",
       "       [-0.85043527, -0.78476346, -0.12422899],\n",
       "       [-0.70690189, -0.78476346, -0.3183368 ],\n",
       "       [-0.56336851, -0.78476346, -0.3183368 ],\n",
       "       [ 0.7284319 , -0.70842461,  0.06987881],\n",
       "       [-0.41983513, -0.70842461,  0.38045129],\n",
       "       [-0.56336851, -0.67025518,  0.14752193],\n",
       "       [ 1.4460988 , -0.67025518,  0.38045129],\n",
       "       [ 0.80019859, -0.67025518, -0.20187212],\n",
       "       [ 0.58489852, -0.67025518, -0.35715836],\n",
       "       [ 0.87196528, -0.63208575, -0.00776431],\n",
       "       [ 2.16376569, -0.63208575, -0.16305055],\n",
       "       [-0.85043527, -0.55574689,  0.03105725],\n",
       "       [ 1.01549866, -0.55574689, -0.16305055],\n",
       "       [ 2.23553238, -0.55574689,  0.22516505],\n",
       "       [-1.42456879, -0.55574689,  0.18634349],\n",
       "       [ 2.02023231, -0.51757746,  0.06987881],\n",
       "       [ 1.08726535, -0.51757746,  0.34162973],\n",
       "       [ 1.73316556, -0.47940803,  0.03105725],\n",
       "       [-1.49633548, -0.47940803,  0.34162973],\n",
       "       [ 0.29783176, -0.47940803, -0.00776431],\n",
       "       [ 2.091999  , -0.47940803, -0.08540743],\n",
       "       [-1.42456879, -0.47940803,  0.34162973],\n",
       "       [-0.49160182, -0.47940803, -0.12422899],\n",
       "       [ 2.23553238, -0.4412386 ,  0.18634349],\n",
       "       [ 0.58489852, -0.4412386 , -0.3183368 ],\n",
       "       [ 1.51786549, -0.40306917, -0.04658587],\n",
       "       [ 1.51786549, -0.40306917,  0.22516505],\n",
       "       [ 1.4460988 , -0.25039146, -0.12422899],\n",
       "       [-0.92220196, -0.25039146,  0.14752193],\n",
       "       [ 0.44136514, -0.25039146,  0.10870037],\n",
       "       [ 0.08253169, -0.25039146, -0.08540743],\n",
       "       [-1.13750203, -0.25039146,  0.06987881],\n",
       "       [ 0.7284319 , -0.25039146, -0.3183368 ],\n",
       "       [ 1.30256542, -0.25039146,  0.03105725],\n",
       "       [-0.06100169, -0.25039146,  0.18634349],\n",
       "       [ 2.02023231, -0.25039146, -0.35715836],\n",
       "       [ 0.51313183, -0.25039146, -0.24069368],\n",
       "       [-1.28103541, -0.25039146,  0.26398661],\n",
       "       [ 0.65666521, -0.25039146, -0.16305055],\n",
       "       [ 1.15903204, -0.13588317,  0.30280817],\n",
       "       [-1.20926872, -0.13588317,  0.18634349],\n",
       "       [-0.34806844, -0.09771374,  0.38045129],\n",
       "       [ 0.80019859, -0.09771374, -0.16305055],\n",
       "       [ 2.091999  , -0.05954431,  0.18634349],\n",
       "       [-1.49633548, -0.05954431, -0.35715836],\n",
       "       [ 0.65666521, -0.02137488, -0.04658587],\n",
       "       [ 0.08253169, -0.02137488, -0.39597992],\n",
       "       [-0.49160182, -0.02137488, -0.3183368 ],\n",
       "       [-1.06573534, -0.02137488,  0.06987881],\n",
       "       [ 0.58489852, -0.02137488, -0.12422899],\n",
       "       [-0.85043527, -0.02137488, -0.00776431],\n",
       "       [ 0.65666521,  0.01679455, -0.3183368 ],\n",
       "       [-1.3528021 ,  0.01679455, -0.04658587],\n",
       "       [-1.13750203,  0.05496398, -0.35715836],\n",
       "       [ 0.7284319 ,  0.05496398, -0.08540743],\n",
       "       [ 2.02023231,  0.05496398,  0.34162973],\n",
       "       [-0.92220196,  0.05496398,  0.18634349],\n",
       "       [ 0.7284319 ,  0.05496398,  0.22516505],\n",
       "       [-1.28103541,  0.05496398, -0.3183368 ],\n",
       "       [ 1.94846562,  0.09313341, -0.00776431],\n",
       "       [ 1.08726535,  0.09313341, -0.16305055],\n",
       "       [ 2.091999  ,  0.09313341, -0.27951524],\n",
       "       [ 1.94846562,  0.09313341, -0.08540743],\n",
       "       [ 1.87669894,  0.09313341,  0.06987881],\n",
       "       [-1.42456879,  0.09313341,  0.14752193],\n",
       "       [-0.06100169,  0.13130284, -0.3183368 ],\n",
       "       [-1.42456879,  0.13130284, -0.16305055],\n",
       "       [-1.49633548,  0.16947227, -0.08540743],\n",
       "       [-1.42456879,  0.16947227, -0.00776431],\n",
       "       [ 1.73316556,  0.16947227, -0.27951524],\n",
       "       [ 0.7284319 ,  0.16947227,  0.34162973],\n",
       "       [ 0.87196528,  0.24581112, -0.27951524],\n",
       "       [ 0.80019859,  0.24581112,  0.26398661],\n",
       "       [-0.85043527,  0.24581112,  0.22516505],\n",
       "       [-0.06100169,  0.24581112, -0.39597992],\n",
       "       [ 0.08253169,  0.32214998,  0.30280817],\n",
       "       [ 0.010765  ,  0.32214998,  1.58391968],\n",
       "       [-1.13750203,  0.36031941, -0.82301709],\n",
       "       [-0.56336851,  0.36031941,  1.04041783],\n",
       "       [ 0.29783176,  0.39848884, -0.59008772],\n",
       "       [ 0.08253169,  0.39848884,  1.73920592],\n",
       "       [ 1.4460988 ,  0.39848884, -1.52180518],\n",
       "       [-0.06100169,  0.39848884,  0.96277471],\n",
       "       [ 0.58489852,  0.39848884, -1.5994483 ],\n",
       "       [ 0.010765  ,  0.39848884,  0.96277471],\n",
       "       [-0.99396865,  0.43665827, -0.62890928],\n",
       "       [-0.56336851,  0.43665827,  0.80748846],\n",
       "       [-1.3528021 ,  0.4748277 , -1.75473454],\n",
       "       [-0.70690189,  0.4748277 ,  1.46745499],\n",
       "       [ 0.36959845,  0.4748277 , -1.67709142],\n",
       "       [-0.49160182,  0.4748277 ,  0.88513158],\n",
       "       [-1.42456879,  0.51299713, -1.56062674],\n",
       "       [-0.27630176,  0.51299713,  0.84631002],\n",
       "       [ 1.30256542,  0.55116656, -1.75473454],\n",
       "       [-0.49160182,  0.55116656,  1.6615628 ],\n",
       "       [-0.77866858,  0.58933599, -0.39597992],\n",
       "       [-0.49160182,  0.58933599,  1.42863343],\n",
       "       [-0.99396865,  0.62750542, -1.48298362],\n",
       "       [-0.77866858,  0.62750542,  1.81684904],\n",
       "       [ 0.65666521,  0.62750542, -0.55126616],\n",
       "       [-0.49160182,  0.62750542,  0.92395314],\n",
       "       [-0.34806844,  0.66567484, -1.09476801],\n",
       "       [-0.34806844,  0.66567484,  1.54509812],\n",
       "       [ 0.29783176,  0.66567484, -1.28887582],\n",
       "       [ 0.010765  ,  0.66567484,  1.46745499],\n",
       "       [ 0.36959845,  0.66567484, -1.17241113],\n",
       "       [-0.06100169,  0.66567484,  1.00159627],\n",
       "       [ 0.58489852,  0.66567484, -1.32769738],\n",
       "       [-0.85043527,  0.66567484,  1.50627656],\n",
       "       [-0.13276838,  0.66567484, -1.91002079],\n",
       "       [-0.6351352 ,  0.66567484,  1.07923939],\n",
       "       [-0.34806844,  0.66567484, -1.91002079],\n",
       "       [-0.6351352 ,  0.66567484,  0.88513158],\n",
       "       [ 1.23079873,  0.70384427, -0.59008772],\n",
       "       [-0.70690189,  0.70384427,  1.27334719],\n",
       "       [-1.42456879,  0.78018313, -1.75473454],\n",
       "       [-0.56336851,  0.78018313,  1.6615628 ],\n",
       "       [ 0.80019859,  0.93286085, -0.93948177],\n",
       "       [-0.20453507,  0.93286085,  0.96277471],\n",
       "       [ 0.22606507,  0.97103028, -1.17241113],\n",
       "       [-0.41983513,  0.97103028,  1.73920592],\n",
       "       [-0.20453507,  1.00919971, -0.90066021],\n",
       "       [-0.49160182,  1.00919971,  0.49691598],\n",
       "       [ 0.08253169,  1.00919971, -1.44416206],\n",
       "       [-0.77866858,  1.00919971,  0.96277471],\n",
       "       [-0.20453507,  1.00919971, -1.56062674],\n",
       "       [-0.20453507,  1.00919971,  1.62274124],\n",
       "       [ 0.94373197,  1.04736914, -1.44416206],\n",
       "       [-0.6351352 ,  1.04736914,  1.38981187],\n",
       "       [ 1.37433211,  1.04736914, -1.36651894],\n",
       "       [-0.85043527,  1.04736914,  0.72984534],\n",
       "       [ 1.4460988 ,  1.23821628, -1.4053405 ],\n",
       "       [-0.27630176,  1.23821628,  1.54509812],\n",
       "       [-0.13276838,  1.390894  , -0.7065524 ],\n",
       "       [-0.49160182,  1.390894  ,  1.38981187],\n",
       "       [ 0.51313183,  1.42906343, -1.36651894],\n",
       "       [-0.70690189,  1.42906343,  1.46745499],\n",
       "       [ 0.15429838,  1.46723286, -0.43480148],\n",
       "       [-0.6351352 ,  1.46723286,  1.81684904],\n",
       "       [ 1.08726535,  1.54357172, -1.01712489],\n",
       "       [-0.77866858,  1.54357172,  0.69102378],\n",
       "       [ 0.15429838,  1.61991057, -1.28887582],\n",
       "       [-0.20453507,  1.61991057,  1.35099031],\n",
       "       [-0.34806844,  1.61991057, -1.05594645],\n",
       "       [-0.49160182,  1.61991057,  0.72984534],\n",
       "       [-0.41983513,  2.00160487, -1.63826986],\n",
       "       [-0.06100169,  2.00160487,  1.58391968],\n",
       "       [ 0.58489852,  2.26879087, -1.32769738],\n",
       "       [-0.27630176,  2.26879087,  1.11806095],\n",
       "       [ 0.44136514,  2.49780745, -0.86183865],\n",
       "       [-0.49160182,  2.49780745,  0.92395314],\n",
       "       [-0.49160182,  2.91767117, -1.25005425],\n",
       "       [-0.6351352 ,  2.91767117,  1.27334719]])"
      ]
     },
     "execution_count": 24,
     "metadata": {},
     "output_type": "execute_result"
    }
   ],
   "source": [
    "# Remove Categorical data & scored it\n",
    "scaled = scaler.fit_transform(df1.drop(columns=['Gender'])) \n",
    "scaled"
   ]
  },
  {
   "attachments": {},
   "cell_type": "markdown",
   "metadata": {},
   "source": [
    "#### Numpy Slicing for target features"
   ]
  },
  {
   "cell_type": "code",
   "execution_count": 25,
   "metadata": {},
   "outputs": [
    {
     "data": {
      "text/html": [
       "<div>\n",
       "<style scoped>\n",
       "    .dataframe tbody tr th:only-of-type {\n",
       "        vertical-align: middle;\n",
       "    }\n",
       "\n",
       "    .dataframe tbody tr th {\n",
       "        vertical-align: top;\n",
       "    }\n",
       "\n",
       "    .dataframe thead th {\n",
       "        text-align: right;\n",
       "    }\n",
       "</style>\n",
       "<table border=\"1\" class=\"dataframe\">\n",
       "  <thead>\n",
       "    <tr style=\"text-align: right;\">\n",
       "      <th></th>\n",
       "      <th>Gender</th>\n",
       "      <th>Age</th>\n",
       "      <th>Annual Income (k$)</th>\n",
       "      <th>Spending Score (1-100)</th>\n",
       "    </tr>\n",
       "    <tr>\n",
       "      <th>CustomerID</th>\n",
       "      <th></th>\n",
       "      <th></th>\n",
       "      <th></th>\n",
       "      <th></th>\n",
       "    </tr>\n",
       "  </thead>\n",
       "  <tbody>\n",
       "    <tr>\n",
       "      <th>1</th>\n",
       "      <td>1</td>\n",
       "      <td>-1.424569</td>\n",
       "      <td>-1.738999</td>\n",
       "      <td>-0.434801</td>\n",
       "    </tr>\n",
       "    <tr>\n",
       "      <th>2</th>\n",
       "      <td>1</td>\n",
       "      <td>-1.281035</td>\n",
       "      <td>-1.738999</td>\n",
       "      <td>1.195704</td>\n",
       "    </tr>\n",
       "    <tr>\n",
       "      <th>3</th>\n",
       "      <td>0</td>\n",
       "      <td>-1.352802</td>\n",
       "      <td>-1.700830</td>\n",
       "      <td>-1.715913</td>\n",
       "    </tr>\n",
       "    <tr>\n",
       "      <th>4</th>\n",
       "      <td>0</td>\n",
       "      <td>-1.137502</td>\n",
       "      <td>-1.700830</td>\n",
       "      <td>1.040418</td>\n",
       "    </tr>\n",
       "    <tr>\n",
       "      <th>5</th>\n",
       "      <td>0</td>\n",
       "      <td>-0.563369</td>\n",
       "      <td>-1.662660</td>\n",
       "      <td>-0.395980</td>\n",
       "    </tr>\n",
       "  </tbody>\n",
       "</table>\n",
       "</div>"
      ],
      "text/plain": [
       "            Gender       Age  Annual Income (k$)  Spending Score (1-100)\n",
       "CustomerID                                                              \n",
       "1                1 -1.424569           -1.738999               -0.434801\n",
       "2                1 -1.281035           -1.738999                1.195704\n",
       "3                0 -1.352802           -1.700830               -1.715913\n",
       "4                0 -1.137502           -1.700830                1.040418\n",
       "5                0 -0.563369           -1.662660               -0.395980"
      ]
     },
     "execution_count": 25,
     "metadata": {},
     "output_type": "execute_result"
    }
   ],
   "source": [
    "# Since its numpy object, it will boardcast(assign each col to each col) automaticaly\n",
    "df1[['Age', 'Annual Income (k$)', 'Spending Score (1-100)']] = scaled\n",
    "df1.head()"
   ]
  },
  {
   "attachments": {},
   "cell_type": "markdown",
   "metadata": {},
   "source": [
    "- Boardcast: There scaled data, will board cast to respective three columns automatically\n",
    "- Scaled: Thats mean, both side of mean, now data are equally distributed / Standard Distribution"
   ]
  },
  {
   "attachments": {},
   "cell_type": "markdown",
   "metadata": {},
   "source": [
    "# Clustering"
   ]
  },
  {
   "cell_type": "code",
   "execution_count": 30,
   "metadata": {},
   "outputs": [
    {
     "data": {
      "text/html": [
       "<style>#sk-container-id-3 {color: black;background-color: white;}#sk-container-id-3 pre{padding: 0;}#sk-container-id-3 div.sk-toggleable {background-color: white;}#sk-container-id-3 label.sk-toggleable__label {cursor: pointer;display: block;width: 100%;margin-bottom: 0;padding: 0.3em;box-sizing: border-box;text-align: center;}#sk-container-id-3 label.sk-toggleable__label-arrow:before {content: \"▸\";float: left;margin-right: 0.25em;color: #696969;}#sk-container-id-3 label.sk-toggleable__label-arrow:hover:before {color: black;}#sk-container-id-3 div.sk-estimator:hover label.sk-toggleable__label-arrow:before {color: black;}#sk-container-id-3 div.sk-toggleable__content {max-height: 0;max-width: 0;overflow: hidden;text-align: left;background-color: #f0f8ff;}#sk-container-id-3 div.sk-toggleable__content pre {margin: 0.2em;color: black;border-radius: 0.25em;background-color: #f0f8ff;}#sk-container-id-3 input.sk-toggleable__control:checked~div.sk-toggleable__content {max-height: 200px;max-width: 100%;overflow: auto;}#sk-container-id-3 input.sk-toggleable__control:checked~label.sk-toggleable__label-arrow:before {content: \"▾\";}#sk-container-id-3 div.sk-estimator input.sk-toggleable__control:checked~label.sk-toggleable__label {background-color: #d4ebff;}#sk-container-id-3 div.sk-label input.sk-toggleable__control:checked~label.sk-toggleable__label {background-color: #d4ebff;}#sk-container-id-3 input.sk-hidden--visually {border: 0;clip: rect(1px 1px 1px 1px);clip: rect(1px, 1px, 1px, 1px);height: 1px;margin: -1px;overflow: hidden;padding: 0;position: absolute;width: 1px;}#sk-container-id-3 div.sk-estimator {font-family: monospace;background-color: #f0f8ff;border: 1px dotted black;border-radius: 0.25em;box-sizing: border-box;margin-bottom: 0.5em;}#sk-container-id-3 div.sk-estimator:hover {background-color: #d4ebff;}#sk-container-id-3 div.sk-parallel-item::after {content: \"\";width: 100%;border-bottom: 1px solid gray;flex-grow: 1;}#sk-container-id-3 div.sk-label:hover label.sk-toggleable__label {background-color: #d4ebff;}#sk-container-id-3 div.sk-serial::before {content: \"\";position: absolute;border-left: 1px solid gray;box-sizing: border-box;top: 0;bottom: 0;left: 50%;z-index: 0;}#sk-container-id-3 div.sk-serial {display: flex;flex-direction: column;align-items: center;background-color: white;padding-right: 0.2em;padding-left: 0.2em;position: relative;}#sk-container-id-3 div.sk-item {position: relative;z-index: 1;}#sk-container-id-3 div.sk-parallel {display: flex;align-items: stretch;justify-content: center;background-color: white;position: relative;}#sk-container-id-3 div.sk-item::before, #sk-container-id-3 div.sk-parallel-item::before {content: \"\";position: absolute;border-left: 1px solid gray;box-sizing: border-box;top: 0;bottom: 0;left: 50%;z-index: -1;}#sk-container-id-3 div.sk-parallel-item {display: flex;flex-direction: column;z-index: 1;position: relative;background-color: white;}#sk-container-id-3 div.sk-parallel-item:first-child::after {align-self: flex-end;width: 50%;}#sk-container-id-3 div.sk-parallel-item:last-child::after {align-self: flex-start;width: 50%;}#sk-container-id-3 div.sk-parallel-item:only-child::after {width: 0;}#sk-container-id-3 div.sk-dashed-wrapped {border: 1px dashed gray;margin: 0 0.4em 0.5em 0.4em;box-sizing: border-box;padding-bottom: 0.4em;background-color: white;}#sk-container-id-3 div.sk-label label {font-family: monospace;font-weight: bold;display: inline-block;line-height: 1.2em;}#sk-container-id-3 div.sk-label-container {text-align: center;}#sk-container-id-3 div.sk-container {/* jupyter's `normalize.less` sets `[hidden] { display: none; }` but bootstrap.min.css set `[hidden] { display: none !important; }` so we also need the `!important` here to be able to override the default hidden behavior on the sphinx rendered scikit-learn.org. See: https://github.com/scikit-learn/scikit-learn/issues/21755 */display: inline-block !important;position: relative;}#sk-container-id-3 div.sk-text-repr-fallback {display: none;}</style><div id=\"sk-container-id-3\" class=\"sk-top-container\"><div class=\"sk-text-repr-fallback\"><pre>KMeans()</pre><b>In a Jupyter environment, please rerun this cell to show the HTML representation or trust the notebook. <br />On GitHub, the HTML representation is unable to render, please try loading this page with nbviewer.org.</b></div><div class=\"sk-container\" hidden><div class=\"sk-item\"><div class=\"sk-estimator sk-toggleable\"><input class=\"sk-toggleable__control sk-hidden--visually\" id=\"sk-estimator-id-3\" type=\"checkbox\" checked><label for=\"sk-estimator-id-3\" class=\"sk-toggleable__label sk-toggleable__label-arrow\">KMeans</label><div class=\"sk-toggleable__content\"><pre>KMeans()</pre></div></div></div></div></div>"
      ],
      "text/plain": [
       "KMeans()"
      ]
     },
     "execution_count": 30,
     "metadata": {},
     "output_type": "execute_result"
    }
   ],
   "source": [
    "# Model Initialization / Prepare Model\n",
    "\n",
    "from sklearn.cluster import KMeans\n",
    "cluster = KMeans()                     # defualt k=8\n",
    "cluster.fit(df1[['Annual Income (k$)', 'Spending Score (1-100)']])                          # Does not required train test, because lable is unkown"
   ]
  },
  {
   "cell_type": "code",
   "execution_count": 31,
   "metadata": {},
   "outputs": [
    {
     "data": {
      "text/plain": [
       "array([[-0.49242034,  0.05487957],\n",
       "       [ 1.87564575, -1.09476801],\n",
       "       [ 1.87564575,  1.23452563],\n",
       "       [ 0.7489536 , -1.45651437],\n",
       "       [-1.32954532, -1.16358805],\n",
       "       [-1.35366972,  1.15873115],\n",
       "       [ 0.12948524, -0.15473165],\n",
       "       [ 0.68673384,  1.241219  ]])"
      ]
     },
     "execution_count": 31,
     "metadata": {},
     "output_type": "execute_result"
    }
   ],
   "source": [
    "# Cluster Default Center values\n",
    "cluster.cluster_centers_"
   ]
  },
  {
   "attachments": {},
   "cell_type": "markdown",
   "metadata": {},
   "source": [
    "- First pair is center of cluster 1\n",
    "- 2nd pair is center of cluster 2 & last one is center of cluster 8 (default)\n",
    "- First column is value \"Annual Income\" & 2nd Columns is value of \"Spending Score\""
   ]
  },
  {
   "cell_type": "code",
   "execution_count": null,
   "metadata": {},
   "outputs": [],
   "source": []
  },
  {
   "attachments": {},
   "cell_type": "markdown",
   "metadata": {},
   "source": [
    "- In kmeans clustering, train test not needed, becasue label is unknown, lets say you have been assiged to to a math, but which solution is uknown, so how can be test or trained\n",
    "- But, its requires validation, to justify how meaningful the result. Silhouttee score is preferable validation technique"
   ]
  },
  {
   "attachments": {},
   "cell_type": "markdown",
   "metadata": {},
   "source": [
    "### Ref"
   ]
  },
  {
   "attachments": {},
   "cell_type": "markdown",
   "metadata": {},
   "source": [
    "- https://ai-ml-analytics.com/encoding/\n",
    "- 24.38"
   ]
  }
 ],
 "metadata": {
  "kernelspec": {
   "display_name": "Python 3 (ipykernel)",
   "language": "python",
   "name": "python3"
  },
  "language_info": {
   "codemirror_mode": {
    "name": "ipython",
    "version": 3
   },
   "file_extension": ".py",
   "mimetype": "text/x-python",
   "name": "python",
   "nbconvert_exporter": "python",
   "pygments_lexer": "ipython3",
   "version": "3.10.7"
  }
 },
 "nbformat": 4,
 "nbformat_minor": 2
}
