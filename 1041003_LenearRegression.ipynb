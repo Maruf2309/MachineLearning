{
 "cells": [
  {
   "cell_type": "markdown",
   "id": "8b8905f4",
   "metadata": {},
   "source": [
    "# Linear Regression"
   ]
  },
  {
   "cell_type": "markdown",
   "id": "ceece128",
   "metadata": {},
   "source": [
    "#### Ref: 1041003(Weight Prediction) - Simple Linear Regression"
   ]
  },
  {
   "cell_type": "markdown",
   "id": "8e91bd83",
   "metadata": {},
   "source": [
    "### Problem Statement:\n",
    "Here Height is independent variable(x) and weight is dependable varibale (y)\n",
    "Our target is to find out weight of a person depending on his height"
   ]
  },
  {
   "cell_type": "code",
   "execution_count": 1,
   "id": "07c6e3e7",
   "metadata": {},
   "outputs": [],
   "source": [
    "import numpy as np\n",
    "import pandas as pd\n",
    "import matplotlib.pyplot as plt"
   ]
  },
  {
   "cell_type": "code",
   "execution_count": 2,
   "id": "750f50ad",
   "metadata": {},
   "outputs": [
    {
     "data": {
      "text/html": [
       "<div>\n",
       "<style scoped>\n",
       "    .dataframe tbody tr th:only-of-type {\n",
       "        vertical-align: middle;\n",
       "    }\n",
       "\n",
       "    .dataframe tbody tr th {\n",
       "        vertical-align: top;\n",
       "    }\n",
       "\n",
       "    .dataframe thead th {\n",
       "        text-align: right;\n",
       "    }\n",
       "</style>\n",
       "<table border=\"1\" class=\"dataframe\">\n",
       "  <thead>\n",
       "    <tr style=\"text-align: right;\">\n",
       "      <th></th>\n",
       "      <th>Height</th>\n",
       "      <th>Weight</th>\n",
       "    </tr>\n",
       "  </thead>\n",
       "  <tbody>\n",
       "    <tr>\n",
       "      <th>0</th>\n",
       "      <td>73.847017</td>\n",
       "      <td>241.893563</td>\n",
       "    </tr>\n",
       "    <tr>\n",
       "      <th>1</th>\n",
       "      <td>68.781904</td>\n",
       "      <td>162.310473</td>\n",
       "    </tr>\n",
       "    <tr>\n",
       "      <th>2</th>\n",
       "      <td>74.110105</td>\n",
       "      <td>212.740856</td>\n",
       "    </tr>\n",
       "    <tr>\n",
       "      <th>3</th>\n",
       "      <td>71.730978</td>\n",
       "      <td>220.042470</td>\n",
       "    </tr>\n",
       "    <tr>\n",
       "      <th>4</th>\n",
       "      <td>69.881796</td>\n",
       "      <td>206.349801</td>\n",
       "    </tr>\n",
       "  </tbody>\n",
       "</table>\n",
       "</div>"
      ],
      "text/plain": [
       "      Height      Weight\n",
       "0  73.847017  241.893563\n",
       "1  68.781904  162.310473\n",
       "2  74.110105  212.740856\n",
       "3  71.730978  220.042470\n",
       "4  69.881796  206.349801"
      ]
     },
     "execution_count": 2,
     "metadata": {},
     "output_type": "execute_result"
    }
   ],
   "source": [
    "df = pd.read_csv('Height-Weight Data.csv')\n",
    "df.head()"
   ]
  },
  {
   "cell_type": "code",
   "execution_count": 3,
   "id": "57c1c318",
   "metadata": {},
   "outputs": [
    {
     "data": {
      "text/plain": [
       "(3501, 2)"
      ]
     },
     "execution_count": 3,
     "metadata": {},
     "output_type": "execute_result"
    }
   ],
   "source": [
    "df.shape"
   ]
  },
  {
   "cell_type": "code",
   "execution_count": 4,
   "id": "4ca5289a",
   "metadata": {},
   "outputs": [
    {
     "data": {
      "text/html": [
       "<div>\n",
       "<style scoped>\n",
       "    .dataframe tbody tr th:only-of-type {\n",
       "        vertical-align: middle;\n",
       "    }\n",
       "\n",
       "    .dataframe tbody tr th {\n",
       "        vertical-align: top;\n",
       "    }\n",
       "\n",
       "    .dataframe thead th {\n",
       "        text-align: right;\n",
       "    }\n",
       "</style>\n",
       "<table border=\"1\" class=\"dataframe\">\n",
       "  <thead>\n",
       "    <tr style=\"text-align: right;\">\n",
       "      <th></th>\n",
       "      <th>Height</th>\n",
       "      <th>Weight</th>\n",
       "    </tr>\n",
       "  </thead>\n",
       "  <tbody>\n",
       "    <tr>\n",
       "      <th>count</th>\n",
       "      <td>3501.000000</td>\n",
       "      <td>3501.000000</td>\n",
       "    </tr>\n",
       "    <tr>\n",
       "      <th>mean</th>\n",
       "      <td>69.024411</td>\n",
       "      <td>186.891258</td>\n",
       "    </tr>\n",
       "    <tr>\n",
       "      <th>std</th>\n",
       "      <td>2.858583</td>\n",
       "      <td>19.903132</td>\n",
       "    </tr>\n",
       "    <tr>\n",
       "      <th>min</th>\n",
       "      <td>59.380650</td>\n",
       "      <td>65.780000</td>\n",
       "    </tr>\n",
       "    <tr>\n",
       "      <th>25%</th>\n",
       "      <td>67.193523</td>\n",
       "      <td>173.896237</td>\n",
       "    </tr>\n",
       "    <tr>\n",
       "      <th>50%</th>\n",
       "      <td>69.044211</td>\n",
       "      <td>187.308370</td>\n",
       "    </tr>\n",
       "    <tr>\n",
       "      <th>75%</th>\n",
       "      <td>70.976491</td>\n",
       "      <td>200.356448</td>\n",
       "    </tr>\n",
       "    <tr>\n",
       "      <th>max</th>\n",
       "      <td>78.998742</td>\n",
       "      <td>269.989698</td>\n",
       "    </tr>\n",
       "  </tbody>\n",
       "</table>\n",
       "</div>"
      ],
      "text/plain": [
       "            Height       Weight\n",
       "count  3501.000000  3501.000000\n",
       "mean     69.024411   186.891258\n",
       "std       2.858583    19.903132\n",
       "min      59.380650    65.780000\n",
       "25%      67.193523   173.896237\n",
       "50%      69.044211   187.308370\n",
       "75%      70.976491   200.356448\n",
       "max      78.998742   269.989698"
      ]
     },
     "execution_count": 4,
     "metadata": {},
     "output_type": "execute_result"
    }
   ],
   "source": [
    "df.describe()"
   ]
  },
  {
   "cell_type": "code",
   "execution_count": 5,
   "id": "0d4e62f7",
   "metadata": {},
   "outputs": [
    {
     "name": "stdout",
     "output_type": "stream",
     "text": [
      "Missing Data\n",
      "       Height  Weight\n",
      "0      False   False\n",
      "1      False   False\n",
      "2      False   False\n",
      "3      False   False\n",
      "4      False   False\n",
      "...      ...     ...\n",
      "3496   False   False\n",
      "3497   False   False\n",
      "3498   False   False\n",
      "3499   False   False\n",
      "3500   False   False\n",
      "\n",
      "[3501 rows x 2 columns]\n",
      "Missing Values\n",
      "       Height  Weight\n",
      "0      False   False\n",
      "1      False   False\n",
      "2      False   False\n",
      "3      False   False\n",
      "4      False   False\n",
      "...      ...     ...\n",
      "3496   False   False\n",
      "3497   False   False\n",
      "3498   False   False\n",
      "3499   False   False\n",
      "3500   False   False\n",
      "\n",
      "[3501 rows x 2 columns]\n"
     ]
    }
   ],
   "source": [
    "# Check for missing data\n",
    "print('Missing Data\\n', df.isna())\n",
    "print('Missing Values\\n', df.isnull())"
   ]
  },
  {
   "cell_type": "code",
   "execution_count": 6,
   "id": "09dca813",
   "metadata": {},
   "outputs": [
    {
     "name": "stdout",
     "output_type": "stream",
     "text": [
      "Filter based on columns: \n",
      " Empty DataFrame\n",
      "Columns: [Height, Weight]\n",
      "Index: []\n"
     ]
    }
   ],
   "source": [
    "# Print only missing data\n",
    "print('Filter based on columns: \\n', df[df.isnull().any(axis=1)])"
   ]
  },
  {
   "cell_type": "code",
   "execution_count": 7,
   "id": "9c095cbf",
   "metadata": {},
   "outputs": [
    {
     "name": "stdout",
     "output_type": "stream",
     "text": [
      "Sum up the missing values: \n",
      " Height    0\n",
      "Weight    0\n",
      "dtype: int64\n"
     ]
    }
   ],
   "source": [
    "# Sum up the missing values\n",
    "print('Sum up the missing values: \\n', df.isnull().sum())"
   ]
  },
  {
   "cell_type": "code",
   "execution_count": 8,
   "id": "8d2c9ca4",
   "metadata": {},
   "outputs": [
    {
     "data": {
      "text/plain": [
       "<matplotlib.collections.PathCollection at 0x1dfc28ae460>"
      ]
     },
     "execution_count": 8,
     "metadata": {},
     "output_type": "execute_result"
    },
    {
     "data": {
      "image/png": "[encoded data removed]",
      "text/plain": [
       "<Figure size 432x288 with 1 Axes>"
      ]
     },
     "metadata": {
      "needs_background": "light"
     },
     "output_type": "display_data"
    }
   ],
   "source": [
    "plt.scatter(df.Height, df.Weight, c='r' )"
   ]
  },
  {
   "cell_type": "code",
   "execution_count": 9,
   "id": "2ed40d56",
   "metadata": {},
   "outputs": [
    {
     "data": {
      "image/png": "[encoded data removed]",
      "text/plain": [
       "<Figure size 864x576 with 1 Axes>"
      ]
     },
     "metadata": {
      "needs_background": "light"
     },
     "output_type": "display_data"
    }
   ],
   "source": [
    "plt.figure(figsize=(12,8))\n",
    "plt.scatter(df['Height'], df['Weight'], color='blue', marker='+')\n",
    "plt.xlabel('Height in cm')\n",
    "plt.ylabel('Weight in KG')\n",
    "plt.title('Weight Predictin', loc='left')\n",
    "plt.show()"
   ]
  },
  {
   "cell_type": "code",
   "execution_count": 10,
   "id": "5bd65dbb",
   "metadata": {},
   "outputs": [
    {
     "data": {
      "text/plain": [
       "3501"
      ]
     },
     "execution_count": 10,
     "metadata": {},
     "output_type": "execute_result"
    }
   ],
   "source": [
    "len(df.Height)"
   ]
  },
  {
   "cell_type": "markdown",
   "id": "5310d61d",
   "metadata": {},
   "source": [
    "## Variable Declaration"
   ]
  },
  {
   "cell_type": "code",
   "execution_count": 11,
   "id": "7267f222",
   "metadata": {},
   "outputs": [],
   "source": [
    "x = df[['Height']]  # Ind Var | 2D\n",
    "y = df['Weight']    # Dep Var "
   ]
  },
  {
   "cell_type": "markdown",
   "id": "a13d1d56",
   "metadata": {},
   "source": [
    "# Split the Data"
   ]
  },
  {
   "cell_type": "code",
   "execution_count": 12,
   "id": "878340de",
   "metadata": {},
   "outputs": [],
   "source": [
    "from sklearn.model_selection import train_test_split as tts\n",
    "xtrain, xtest, ytrain, ytest = tts (x, y, train_size=.70, random_state=42)"
   ]
  },
  {
   "cell_type": "code",
   "execution_count": 13,
   "id": "6dee2fdf",
   "metadata": {},
   "outputs": [
    {
     "name": "stdout",
     "output_type": "stream",
     "text": [
      "Train Size:\n",
      "train Size :  (2450, 1)\n",
      "xtest Size:  (1051, 1)\n",
      "Test Size:\n",
      "ytrain Size :  (2450,)\n",
      "ytest Size :  (1051,)\n"
     ]
    }
   ],
   "source": [
    "# Verifty Train & test Size (X train & test)\n",
    "print('Train Size:')\n",
    "print(f\"train Size : \", xtrain.shape)    # 3501 x .7 = 2450\n",
    "print(f\"xtest Size: \", xtest.shape)\n",
    "\n",
    "print (\"Test Size:\")\n",
    "print(f\"ytrain Size : \", ytrain.shape)\n",
    "print(f\"ytest Size : \", ytest.shape)"
   ]
  },
  {
   "cell_type": "code",
   "execution_count": 14,
   "id": "64434c7a",
   "metadata": {},
   "outputs": [
    {
     "data": {
      "text/html": [
       "<div>\n",
       "<style scoped>\n",
       "    .dataframe tbody tr th:only-of-type {\n",
       "        vertical-align: middle;\n",
       "    }\n",
       "\n",
       "    .dataframe tbody tr th {\n",
       "        vertical-align: top;\n",
       "    }\n",
       "\n",
       "    .dataframe thead th {\n",
       "        text-align: right;\n",
       "    }\n",
       "</style>\n",
       "<table border=\"1\" class=\"dataframe\">\n",
       "  <thead>\n",
       "    <tr style=\"text-align: right;\">\n",
       "      <th></th>\n",
       "      <th>Height</th>\n",
       "    </tr>\n",
       "  </thead>\n",
       "  <tbody>\n",
       "    <tr>\n",
       "      <th>1374</th>\n",
       "      <td>75.155410</td>\n",
       "    </tr>\n",
       "    <tr>\n",
       "      <th>231</th>\n",
       "      <td>71.968306</td>\n",
       "    </tr>\n",
       "    <tr>\n",
       "      <th>1769</th>\n",
       "      <td>69.963912</td>\n",
       "    </tr>\n",
       "    <tr>\n",
       "      <th>1812</th>\n",
       "      <td>66.475562</td>\n",
       "    </tr>\n",
       "    <tr>\n",
       "      <th>2658</th>\n",
       "      <td>72.731788</td>\n",
       "    </tr>\n",
       "  </tbody>\n",
       "</table>\n",
       "</div>"
      ],
      "text/plain": [
       "         Height\n",
       "1374  75.155410\n",
       "231   71.968306\n",
       "1769  69.963912\n",
       "1812  66.475562\n",
       "2658  72.731788"
      ]
     },
     "execution_count": 14,
     "metadata": {},
     "output_type": "execute_result"
    }
   ],
   "source": [
    "xtrain.head()"
   ]
  },
  {
   "cell_type": "code",
   "execution_count": 15,
   "id": "87039daa",
   "metadata": {},
   "outputs": [
    {
     "data": {
      "text/plain": [
       "1374    214.370580\n",
       "231     201.528177\n",
       "1769    191.065448\n",
       "1812    197.646409\n",
       "2658    213.683943\n",
       "Name: Weight, dtype: float64"
      ]
     },
     "execution_count": 15,
     "metadata": {},
     "output_type": "execute_result"
    }
   ],
   "source": [
    "ytrain.head()   # ytran is the corresponding value(target) of xtrain, same index number"
   ]
  },
  {
   "cell_type": "markdown",
   "id": "f0b03dd3",
   "metadata": {},
   "source": [
    "# Model"
   ]
  },
  {
   "cell_type": "code",
   "execution_count": 16,
   "id": "5e47e44a",
   "metadata": {},
   "outputs": [
    {
     "data": {
      "text/plain": [
       "LinearRegression()"
      ]
     },
     "execution_count": 16,
     "metadata": {},
     "output_type": "execute_result"
    }
   ],
   "source": [
    "# Import Model\n",
    "from sklearn.linear_model import LinearRegression\n",
    "lr = LinearRegression()\n",
    "\n",
    "# Train/fit the Model:\n",
    "lr.fit(xtrain, ytrain) # Train the model by training set (xtrain & corresponding ytrain values)"
   ]
  },
  {
   "cell_type": "code",
   "execution_count": 17,
   "id": "c2db2ce5",
   "metadata": {},
   "outputs": [
    {
     "name": "stdout",
     "output_type": "stream",
     "text": [
      "slop or coefficient (w) is:  [5.95092905]\n",
      "intercept b:  -224.00779357167542\n"
     ]
    }
   ],
   "source": [
    "# Find slop & intercept\n",
    "print(f\"slop or coefficient (w) is: \", lr.coef_)\n",
    "print(f\"intercept b: \", lr.intercept_)"
   ]
  },
  {
   "cell_type": "code",
   "execution_count": 18,
   "id": "c5ca2245",
   "metadata": {},
   "outputs": [],
   "source": [
    "# y = mx+c or y = wx + b\n",
    "w = lr.coef_\n",
    "b = lr.intercept_"
   ]
  },
  {
   "cell_type": "markdown",
   "id": "0efd2dc4",
   "metadata": {},
   "source": [
    "# Prediction"
   ]
  },
  {
   "cell_type": "markdown",
   "id": "17ba387c",
   "metadata": {},
   "source": [
    "### A. Prediction by Formula y = wx +b"
   ]
  },
  {
   "cell_type": "code",
   "execution_count": 22,
   "id": "bf3ab8c8",
   "metadata": {},
   "outputs": [
    {
     "data": {
      "text/plain": [
       "array([222.31188547])"
      ]
     },
     "execution_count": 22,
     "metadata": {},
     "output_type": "execute_result"
    }
   ],
   "source": [
    "x = 75   # [ When x / Height assumed by 75 inch]\n",
    "y = (w * x) + b\n",
    "y               # actual was 214.370580"
   ]
  },
  {
   "cell_type": "markdown",
   "id": "c8674244",
   "metadata": {},
   "source": [
    "### B. Prediction by Trained Model"
   ]
  },
  {
   "cell_type": "code",
   "execution_count": 23,
   "id": "2f22da66",
   "metadata": {},
   "outputs": [
    {
     "data": {
      "text/plain": [
       "array([222.31188547])"
      ]
     },
     "execution_count": 23,
     "metadata": {},
     "output_type": "execute_result"
    }
   ],
   "source": [
    "lr.predict([[75]])"
   ]
  },
  {
   "cell_type": "markdown",
   "id": "215b4b3d",
   "metadata": {},
   "source": [
    "### C. Prediction on Full Dataset, Regardless Train or Test, total will be 3501 predidction"
   ]
  },
  {
   "cell_type": "code",
   "execution_count": 24,
   "id": "f91c048b",
   "metadata": {},
   "outputs": [
    {
     "data": {
      "text/plain": [
       "array([215.45056555, 185.30843762, 217.01618578, ..., 215.84054261,\n",
       "       177.0611446 , 208.85665635])"
      ]
     },
     "execution_count": 24,
     "metadata": {},
     "output_type": "execute_result"
    }
   ],
   "source": [
    "lr.predict(df[['Height']])"
   ]
  },
  {
   "cell_type": "markdown",
   "id": "e5dca75f",
   "metadata": {},
   "source": [
    "### D. Actual Vs Predicted Result"
   ]
  },
  {
   "cell_type": "code",
   "execution_count": 28,
   "id": "5130a30b",
   "metadata": {},
   "outputs": [
    {
     "data": {
      "text/html": [
       "<div>\n",
       "<style scoped>\n",
       "    .dataframe tbody tr th:only-of-type {\n",
       "        vertical-align: middle;\n",
       "    }\n",
       "\n",
       "    .dataframe tbody tr th {\n",
       "        vertical-align: top;\n",
       "    }\n",
       "\n",
       "    .dataframe thead th {\n",
       "        text-align: right;\n",
       "    }\n",
       "</style>\n",
       "<table border=\"1\" class=\"dataframe\">\n",
       "  <thead>\n",
       "    <tr style=\"text-align: right;\">\n",
       "      <th></th>\n",
       "      <th>Height</th>\n",
       "      <th>Weight</th>\n",
       "      <th>Prediction</th>\n",
       "    </tr>\n",
       "  </thead>\n",
       "  <tbody>\n",
       "    <tr>\n",
       "      <th>0</th>\n",
       "      <td>73.847017</td>\n",
       "      <td>241.893563</td>\n",
       "      <td>215.450566</td>\n",
       "    </tr>\n",
       "    <tr>\n",
       "      <th>1</th>\n",
       "      <td>68.781904</td>\n",
       "      <td>162.310473</td>\n",
       "      <td>185.308438</td>\n",
       "    </tr>\n",
       "    <tr>\n",
       "      <th>2</th>\n",
       "      <td>74.110105</td>\n",
       "      <td>212.740856</td>\n",
       "      <td>217.016186</td>\n",
       "    </tr>\n",
       "    <tr>\n",
       "      <th>3</th>\n",
       "      <td>71.730978</td>\n",
       "      <td>220.042470</td>\n",
       "      <td>202.858170</td>\n",
       "    </tr>\n",
       "    <tr>\n",
       "      <th>4</th>\n",
       "      <td>69.881796</td>\n",
       "      <td>206.349801</td>\n",
       "      <td>191.853816</td>\n",
       "    </tr>\n",
       "  </tbody>\n",
       "</table>\n",
       "</div>"
      ],
      "text/plain": [
       "      Height      Weight  Prediction\n",
       "0  73.847017  241.893563  215.450566\n",
       "1  68.781904  162.310473  185.308438\n",
       "2  74.110105  212.740856  217.016186\n",
       "3  71.730978  220.042470  202.858170\n",
       "4  69.881796  206.349801  191.853816"
      ]
     },
     "execution_count": 28,
     "metadata": {},
     "output_type": "execute_result"
    }
   ],
   "source": [
    "df['Prediction'] = lr.predict(df[['Height']])\n",
    "df.head()"
   ]
  },
  {
   "cell_type": "markdown",
   "id": "9bac6b71",
   "metadata": {},
   "source": [
    "### E. Prediction on Test Values"
   ]
  },
  {
   "cell_type": "code",
   "execution_count": 29,
   "id": "24327f09",
   "metadata": {},
   "outputs": [
    {
     "data": {
      "text/plain": [
       "array([194.99121605, 176.73897536, 187.92212258, ..., 151.26093108,\n",
       "       177.27969634, 179.46109106])"
      ]
     },
     "execution_count": 29,
     "metadata": {},
     "output_type": "execute_result"
    }
   ],
   "source": [
    "lr.fit(xtest, ytest)\n",
    "testing = lr.predict(xtest)\n",
    "testing"
   ]
  },
  {
   "cell_type": "code",
   "execution_count": 30,
   "id": "1815ffce",
   "metadata": {},
   "outputs": [
    {
     "data": {
      "text/plain": [
       "(1051,)"
      ]
     },
     "execution_count": 30,
     "metadata": {},
     "output_type": "execute_result"
    }
   ],
   "source": [
    "testing.shape"
   ]
  },
  {
   "cell_type": "code",
   "execution_count": 33,
   "id": "8dcfd4fd",
   "metadata": {},
   "outputs": [
    {
     "data": {
      "text/plain": [
       "211     193.346560\n",
       "1454    182.898115\n",
       "2176    175.832447\n",
       "912     228.707301\n",
       "921     217.561415\n",
       "           ...    \n",
       "1334    179.352182\n",
       "2501    165.784742\n",
       "801     147.901820\n",
       "2113    177.375008\n",
       "1377    164.933108\n",
       "Name: Weight, Length: 1051, dtype: float64"
      ]
     },
     "execution_count": 33,
     "metadata": {},
     "output_type": "execute_result"
    }
   ],
   "source": [
    "# Actual test values (1051 actual values)\n",
    "ytest\n",
    "\n",
    "# Testing Error = testing - ytest"
   ]
  },
  {
   "cell_type": "markdown",
   "id": "9b32b858",
   "metadata": {},
   "source": [
    "# Evaluation"
   ]
  },
  {
   "cell_type": "markdown",
   "id": "6253740b",
   "metadata": {},
   "source": [
    "#### MSE - Error Calcuatrion - Testing"
   ]
  },
  {
   "cell_type": "code",
   "execution_count": 34,
   "id": "1751c43f",
   "metadata": {},
   "outputs": [
    {
     "data": {
      "text/plain": [
       "102.54435545944825"
      ]
     },
     "execution_count": 34,
     "metadata": {},
     "output_type": "execute_result"
    }
   ],
   "source": [
    "from sklearn.metrics import mean_squared_error\n",
    "mse = mean_squared_error(ytest, lr.predict(xtest))\n",
    "mse"
   ]
  },
  {
   "cell_type": "markdown",
   "id": "ee9c2f8f",
   "metadata": {},
   "source": [
    "#### MAE - Error Calcuatrion - Testing"
   ]
  },
  {
   "cell_type": "code",
   "execution_count": 35,
   "id": "d140015e",
   "metadata": {},
   "outputs": [
    {
     "data": {
      "text/plain": [
       "8.223151851687492"
      ]
     },
     "execution_count": 35,
     "metadata": {},
     "output_type": "execute_result"
    }
   ],
   "source": [
    "from sklearn.metrics import mean_absolute_error\n",
    "mae = mean_absolute_error(ytest, lr.predict(xtest))\n",
    "mae"
   ]
  },
  {
   "cell_type": "markdown",
   "id": "1c2800cb",
   "metadata": {},
   "source": [
    "# Best Fit Line"
   ]
  },
  {
   "cell_type": "markdown",
   "id": "991bf7fb",
   "metadata": {},
   "source": [
    "#### A. Visualization with Xtest Data"
   ]
  },
  {
   "cell_type": "code",
   "execution_count": 39,
   "id": "99c860b3",
   "metadata": {},
   "outputs": [
    {
     "data": {
      "image/png": "[encoded data removed]",
      "text/plain": [
       "<Figure size 864x576 with 1 Axes>"
      ]
     },
     "metadata": {
      "needs_background": "light"
     },
     "output_type": "display_data"
    }
   ],
   "source": [
    "plt.figure(figsize=(12,8))\n",
    "plt.scatter(df['Height'], df['Weight'], marker='+', c='r')\n",
    "plt.plot(xtest, lr.predict(xtest), color='blue') # xtest: actual data, xtest(predict): pricted values by xtest, same feature (actual vs predict)\n",
    "plt.xlabel('Height in cm')\n",
    "plt.ylabel('Weight in KG')\n",
    "plt.title(\"Weight Prediction\")\n",
    "plt.show()"
   ]
  },
  {
   "cell_type": "code",
   "execution_count": 40,
   "id": "b78656ec",
   "metadata": {},
   "outputs": [
    {
     "data": {
      "text/plain": [
       "array([252.83168135])"
      ]
     },
     "execution_count": 40,
     "metadata": {},
     "output_type": "execute_result"
    }
   ],
   "source": [
    "lr.predict([[80]])"
   ]
  },
  {
   "cell_type": "markdown",
   "id": "21778f84",
   "metadata": {},
   "source": [
    "#### B. Visualization with all data"
   ]
  },
  {
   "cell_type": "code",
   "execution_count": 59,
   "id": "cd429ef4",
   "metadata": {},
   "outputs": [
    {
     "data": {
      "image/png": "[encoded data removed]",
      "text/plain": [
       "<Figure size 864x576 with 1 Axes>"
      ]
     },
     "metadata": {
      "needs_background": "light"
     },
     "output_type": "display_data"
    }
   ],
   "source": [
    "plt.figure(figsize=(12,8))\n",
    "plt.scatter(df.Height, df.Weight, marker='^', c='blue' )\n",
    "plt.plot(df[['Height']], lr.predict(df[['Height']]), color='red',linewidth=5) #Height & Height must be same (actual vs Prediction)\n",
    "plt.xlabel('Height')\n",
    "plt.ylabel('Weight')\n",
    "plt.title('Weight Prediction')\n",
    "plt.show()"
   ]
  },
  {
   "cell_type": "markdown",
   "id": "5e3a2454",
   "metadata": {},
   "source": [
    "# Accuracy"
   ]
  },
  {
   "cell_type": "code",
   "execution_count": 54,
   "id": "82e9c710",
   "metadata": {},
   "outputs": [
    {
     "data": {
      "text/plain": [
       "0.7336885629218519"
      ]
     },
     "execution_count": 54,
     "metadata": {},
     "output_type": "execute_result"
    }
   ],
   "source": [
    "# Testing Score\n",
    "lr.score(xtest, ytest) # R_Squared Value by Test Data"
   ]
  },
  {
   "cell_type": "code",
   "execution_count": 55,
   "id": "43205d9a",
   "metadata": {},
   "outputs": [
    {
     "data": {
      "text/plain": [
       "0.7320816356865"
      ]
     },
     "execution_count": 55,
     "metadata": {},
     "output_type": "execute_result"
    }
   ],
   "source": [
    "# RSqured value by full dataset\n",
    "lr.score(df[['Height']], df.Weight) "
   ]
  },
  {
   "cell_type": "code",
   "execution_count": 56,
   "id": "13297734",
   "metadata": {},
   "outputs": [
    {
     "data": {
      "text/plain": [
       "0.7314055218843845"
      ]
     },
     "execution_count": 56,
     "metadata": {},
     "output_type": "execute_result"
    }
   ],
   "source": [
    "# Training Accuray by train dataset (R Squared Value by Trainset) \n",
    "lr.score(xtrain, ytrain)   "
   ]
  },
  {
   "cell_type": "markdown",
   "id": "57b843a4",
   "metadata": {},
   "source": [
    "# Excercise"
   ]
  },
  {
   "cell_type": "markdown",
   "id": "edc4cc29",
   "metadata": {},
   "source": [
    "#### A. Model Prediction (loaded data)"
   ]
  },
  {
   "cell_type": "code",
   "execution_count": 60,
   "id": "b7a07e99",
   "metadata": {},
   "outputs": [],
   "source": [
    "# xtest.to_csv('xtest.csv')"
   ]
  },
  {
   "cell_type": "code",
   "execution_count": 61,
   "id": "31038b95",
   "metadata": {},
   "outputs": [
    {
     "data": {
      "text/html": [
       "<div>\n",
       "<style scoped>\n",
       "    .dataframe tbody tr th:only-of-type {\n",
       "        vertical-align: middle;\n",
       "    }\n",
       "\n",
       "    .dataframe tbody tr th {\n",
       "        vertical-align: top;\n",
       "    }\n",
       "\n",
       "    .dataframe thead th {\n",
       "        text-align: right;\n",
       "    }\n",
       "</style>\n",
       "<table border=\"1\" class=\"dataframe\">\n",
       "  <thead>\n",
       "    <tr style=\"text-align: right;\">\n",
       "      <th></th>\n",
       "      <th>Unnamed: 0</th>\n",
       "      <th>Height</th>\n",
       "    </tr>\n",
       "  </thead>\n",
       "  <tbody>\n",
       "    <tr>\n",
       "      <th>0</th>\n",
       "      <td>211</td>\n",
       "      <td>70.324753</td>\n",
       "    </tr>\n",
       "    <tr>\n",
       "      <th>1</th>\n",
       "      <td>1454</td>\n",
       "      <td>67.271615</td>\n",
       "    </tr>\n",
       "    <tr>\n",
       "      <th>2</th>\n",
       "      <td>2176</td>\n",
       "      <td>69.142273</td>\n",
       "    </tr>\n",
       "    <tr>\n",
       "      <th>3</th>\n",
       "      <td>912</td>\n",
       "      <td>77.160801</td>\n",
       "    </tr>\n",
       "    <tr>\n",
       "      <th>4</th>\n",
       "      <td>921</td>\n",
       "      <td>72.676961</td>\n",
       "    </tr>\n",
       "  </tbody>\n",
       "</table>\n",
       "</div>"
      ],
      "text/plain": [
       "   Unnamed: 0     Height\n",
       "0         211  70.324753\n",
       "1        1454  67.271615\n",
       "2        2176  69.142273\n",
       "3         912  77.160801\n",
       "4         921  72.676961"
      ]
     },
     "execution_count": 61,
     "metadata": {},
     "output_type": "execute_result"
    }
   ],
   "source": [
    "# Load test data for prediction/ excercise\n",
    "df2 = pd.read_csv('xtest.csv')\n",
    "df2.head()"
   ]
  },
  {
   "cell_type": "code",
   "execution_count": 62,
   "id": "fbf151f0",
   "metadata": {},
   "outputs": [
    {
     "data": {
      "text/html": [
       "<div>\n",
       "<style scoped>\n",
       "    .dataframe tbody tr th:only-of-type {\n",
       "        vertical-align: middle;\n",
       "    }\n",
       "\n",
       "    .dataframe tbody tr th {\n",
       "        vertical-align: top;\n",
       "    }\n",
       "\n",
       "    .dataframe thead th {\n",
       "        text-align: right;\n",
       "    }\n",
       "</style>\n",
       "<table border=\"1\" class=\"dataframe\">\n",
       "  <thead>\n",
       "    <tr style=\"text-align: right;\">\n",
       "      <th></th>\n",
       "      <th>Height</th>\n",
       "    </tr>\n",
       "  </thead>\n",
       "  <tbody>\n",
       "    <tr>\n",
       "      <th>0</th>\n",
       "      <td>70.324753</td>\n",
       "    </tr>\n",
       "    <tr>\n",
       "      <th>1</th>\n",
       "      <td>67.271615</td>\n",
       "    </tr>\n",
       "    <tr>\n",
       "      <th>2</th>\n",
       "      <td>69.142273</td>\n",
       "    </tr>\n",
       "    <tr>\n",
       "      <th>3</th>\n",
       "      <td>77.160801</td>\n",
       "    </tr>\n",
       "    <tr>\n",
       "      <th>4</th>\n",
       "      <td>72.676961</td>\n",
       "    </tr>\n",
       "  </tbody>\n",
       "</table>\n",
       "</div>"
      ],
      "text/plain": [
       "      Height\n",
       "0  70.324753\n",
       "1  67.271615\n",
       "2  69.142273\n",
       "3  77.160801\n",
       "4  72.676961"
      ]
     },
     "execution_count": 62,
     "metadata": {},
     "output_type": "execute_result"
    }
   ],
   "source": [
    "# Dropping Unnamed col\n",
    "df2 = df2.drop('Unnamed: 0', axis=1)  # axis = 1 or column\n",
    "df2.head()"
   ]
  },
  {
   "cell_type": "code",
   "execution_count": 63,
   "id": "ee3d6c7a",
   "metadata": {},
   "outputs": [
    {
     "data": {
      "text/plain": [
       "(1051, 1)"
      ]
     },
     "execution_count": 63,
     "metadata": {},
     "output_type": "execute_result"
    }
   ],
   "source": [
    "df2.shape"
   ]
  },
  {
   "cell_type": "markdown",
   "id": "3270de8b",
   "metadata": {},
   "source": [
    "#### Model Prediction - Practice 1"
   ]
  },
  {
   "cell_type": "code",
   "execution_count": 64,
   "id": "e590c392",
   "metadata": {},
   "outputs": [
    {
     "data": {
      "text/plain": [
       "array([194.99121605, 176.73897536, 187.92212258, ..., 151.26093108,\n",
       "       177.27969634, 179.46109106])"
      ]
     },
     "execution_count": 64,
     "metadata": {},
     "output_type": "execute_result"
    }
   ],
   "source": [
    "# Data Load (xtest)\n",
    "lr.predict(df2[['Height']])"
   ]
  },
  {
   "cell_type": "code",
   "execution_count": 65,
   "id": "821a2ff5",
   "metadata": {},
   "outputs": [
    {
     "data": {
      "text/plain": [
       "array([194.99121605, 176.73897536, 187.92212258, ..., 151.26093108,\n",
       "       177.27969634, 179.46109106])"
      ]
     },
     "execution_count": 65,
     "metadata": {},
     "output_type": "execute_result"
    }
   ],
   "source": [
    "# Previous xtest data, same output\n",
    "lr.predict(xtest)"
   ]
  },
  {
   "cell_type": "markdown",
   "id": "54873dd5",
   "metadata": {},
   "source": [
    "### B. Model Prediction by brand new data"
   ]
  },
  {
   "cell_type": "code",
   "execution_count": 66,
   "id": "ac053c64",
   "metadata": {},
   "outputs": [
    {
     "data": {
      "text/html": [
       "<div>\n",
       "<style scoped>\n",
       "    .dataframe tbody tr th:only-of-type {\n",
       "        vertical-align: middle;\n",
       "    }\n",
       "\n",
       "    .dataframe tbody tr th {\n",
       "        vertical-align: top;\n",
       "    }\n",
       "\n",
       "    .dataframe thead th {\n",
       "        text-align: right;\n",
       "    }\n",
       "</style>\n",
       "<table border=\"1\" class=\"dataframe\">\n",
       "  <thead>\n",
       "    <tr style=\"text-align: right;\">\n",
       "      <th></th>\n",
       "      <th>Unnamed: 0</th>\n",
       "      <th>Height</th>\n",
       "    </tr>\n",
       "  </thead>\n",
       "  <tbody>\n",
       "    <tr>\n",
       "      <th>0</th>\n",
       "      <td>211</td>\n",
       "      <td>68.5223</td>\n",
       "    </tr>\n",
       "    <tr>\n",
       "      <th>1</th>\n",
       "      <td>1454</td>\n",
       "      <td>66.4521</td>\n",
       "    </tr>\n",
       "    <tr>\n",
       "      <th>2</th>\n",
       "      <td>2176</td>\n",
       "      <td>80.5582</td>\n",
       "    </tr>\n",
       "    <tr>\n",
       "      <th>3</th>\n",
       "      <td>912</td>\n",
       "      <td>75.1145</td>\n",
       "    </tr>\n",
       "    <tr>\n",
       "      <th>4</th>\n",
       "      <td>921</td>\n",
       "      <td>70.9889</td>\n",
       "    </tr>\n",
       "  </tbody>\n",
       "</table>\n",
       "</div>"
      ],
      "text/plain": [
       "   Unnamed: 0   Height\n",
       "0         211  68.5223\n",
       "1        1454  66.4521\n",
       "2        2176  80.5582\n",
       "3         912  75.1145\n",
       "4         921  70.9889"
      ]
     },
     "execution_count": 66,
     "metadata": {},
     "output_type": "execute_result"
    }
   ],
   "source": [
    "df3 = pd.read_csv('new_data.csv')\n",
    "df3.head()"
   ]
  },
  {
   "cell_type": "code",
   "execution_count": 68,
   "id": "6f0a772a",
   "metadata": {},
   "outputs": [
    {
     "data": {
      "text/html": [
       "<div>\n",
       "<style scoped>\n",
       "    .dataframe tbody tr th:only-of-type {\n",
       "        vertical-align: middle;\n",
       "    }\n",
       "\n",
       "    .dataframe tbody tr th {\n",
       "        vertical-align: top;\n",
       "    }\n",
       "\n",
       "    .dataframe thead th {\n",
       "        text-align: right;\n",
       "    }\n",
       "</style>\n",
       "<table border=\"1\" class=\"dataframe\">\n",
       "  <thead>\n",
       "    <tr style=\"text-align: right;\">\n",
       "      <th></th>\n",
       "      <th>Height</th>\n",
       "    </tr>\n",
       "  </thead>\n",
       "  <tbody>\n",
       "    <tr>\n",
       "      <th>0</th>\n",
       "      <td>68.5223</td>\n",
       "    </tr>\n",
       "    <tr>\n",
       "      <th>1</th>\n",
       "      <td>66.4521</td>\n",
       "    </tr>\n",
       "    <tr>\n",
       "      <th>2</th>\n",
       "      <td>80.5582</td>\n",
       "    </tr>\n",
       "    <tr>\n",
       "      <th>3</th>\n",
       "      <td>75.1145</td>\n",
       "    </tr>\n",
       "    <tr>\n",
       "      <th>4</th>\n",
       "      <td>70.9889</td>\n",
       "    </tr>\n",
       "  </tbody>\n",
       "</table>\n",
       "</div>"
      ],
      "text/plain": [
       "    Height\n",
       "0  68.5223\n",
       "1  66.4521\n",
       "2  80.5582\n",
       "3  75.1145\n",
       "4  70.9889"
      ]
     },
     "execution_count": 68,
     "metadata": {},
     "output_type": "execute_result"
    }
   ],
   "source": [
    "# Drop unnamed col\n",
    "df3 = df3.drop('Unnamed: 0', axis='columns')\n",
    "df3.head()"
   ]
  },
  {
   "cell_type": "code",
   "execution_count": 69,
   "id": "74aad4dd",
   "metadata": {},
   "outputs": [
    {
     "data": {
      "text/plain": [
       "(465, 1)"
      ]
     },
     "execution_count": 69,
     "metadata": {},
     "output_type": "execute_result"
    }
   ],
   "source": [
    "df3.shape"
   ]
  },
  {
   "cell_type": "code",
   "execution_count": 70,
   "id": "730d71ba",
   "metadata": {},
   "outputs": [
    {
     "data": {
      "text/plain": [
       "array([216.04797808, 185.76776877, 217.62077042, ..., 216.43974162,\n",
       "       177.48269482, 209.42386211])"
      ]
     },
     "execution_count": 70,
     "metadata": {},
     "output_type": "execute_result"
    }
   ],
   "source": [
    "# Model Prediction by Brand new data\n",
    "lr.predict(df[['Height']])"
   ]
  },
  {
   "cell_type": "markdown",
   "id": "acfae0fa",
   "metadata": {},
   "source": [
    "# Save ML Model"
   ]
  },
  {
   "cell_type": "markdown",
   "id": "49005a16",
   "metadata": {},
   "source": [
    "## Pickle"
   ]
  },
  {
   "cell_type": "markdown",
   "id": "ccd84b62",
   "metadata": {},
   "source": [
    "#### A. Save Model by Pickle"
   ]
  },
  {
   "cell_type": "code",
   "execution_count": 73,
   "id": "d25756df",
   "metadata": {},
   "outputs": [],
   "source": [
    "# Import & write binary (pickle model)\n",
    "import pickle as pk\n",
    "\n",
    "with open('lr_pkl_model', 'wb') as files:\n",
    "    pk.dump(lr, files)"
   ]
  },
  {
   "cell_type": "markdown",
   "id": "7831a26d",
   "metadata": {},
   "source": [
    "#### Read & Predict from Saved Model"
   ]
  },
  {
   "cell_type": "code",
   "execution_count": 75,
   "id": "76c10898",
   "metadata": {},
   "outputs": [
    {
     "data": {
      "text/plain": [
       "array([194.99121605, 176.73897536, 187.92212258, ..., 151.26093108,\n",
       "       177.27969634, 179.46109106])"
      ]
     },
     "execution_count": 75,
     "metadata": {},
     "output_type": "execute_result"
    }
   ],
   "source": [
    "# Read from same directory\n",
    "with open('lr_pkl_model','rb') as files:\n",
    "    lr2 = pk.load(files)\n",
    "\n",
    "# Predict from saved model\n",
    "lr2.predict(df2[['Height']])"
   ]
  },
  {
   "cell_type": "markdown",
   "id": "57d0c202",
   "metadata": {},
   "source": [
    "### B. Saving Model at a time"
   ]
  },
  {
   "cell_type": "code",
   "execution_count": 76,
   "id": "f61a527c",
   "metadata": {},
   "outputs": [
    {
     "data": {
      "text/plain": [
       "array([222.94072976])"
      ]
     },
     "execution_count": 76,
     "metadata": {},
     "output_type": "execute_result"
    }
   ],
   "source": [
    "pk.dump(lr, open('lr3', 'wb'))\n",
    "lr4 = pk.load(open('lr3','rb'))\n",
    "lr4.predict([[75]])"
   ]
  },
  {
   "cell_type": "code",
   "execution_count": 77,
   "id": "7aca4aff",
   "metadata": {},
   "outputs": [
    {
     "data": {
      "text/plain": [
       "array([222.94072976])"
      ]
     },
     "execution_count": 77,
     "metadata": {},
     "output_type": "execute_result"
    }
   ],
   "source": [
    "lr.predict([[75]])"
   ]
  },
  {
   "cell_type": "markdown",
   "id": "054e8526",
   "metadata": {},
   "source": [
    "### Joblib"
   ]
  },
  {
   "cell_type": "markdown",
   "id": "76e2956e",
   "metadata": {},
   "source": [
    "#### D. Model Saved by Joblib"
   ]
  },
  {
   "cell_type": "code",
   "execution_count": 78,
   "id": "765cdc63",
   "metadata": {},
   "outputs": [
    {
     "data": {
      "text/plain": [
       "array([222.94072976])"
      ]
     },
     "execution_count": 78,
     "metadata": {},
     "output_type": "execute_result"
    }
   ],
   "source": [
    "# Model save by Joblib\n",
    "import joblib as jb\n",
    "jb.dump(lr,'ml_jb_model')\n",
    "\n",
    "# Load Saved Model\n",
    "lr5 = jb.load('ml_jb_model')\n",
    "\n",
    "# Prediction from saved model\n",
    "lr5.predict([[75]])"
   ]
  },
  {
   "cell_type": "markdown",
   "id": "0d6f2c59",
   "metadata": {},
   "source": [
    "#### E. Model Saved by Joblib(Sklearn)"
   ]
  },
  {
   "cell_type": "code",
   "execution_count": 82,
   "id": "367d5293",
   "metadata": {},
   "outputs": [
    {
     "data": {
      "text/plain": [
       "['model_joblib']"
      ]
     },
     "execution_count": 82,
     "metadata": {},
     "output_type": "execute_result"
    }
   ],
   "source": [
    "# import joblib\n",
    "import sklearn.externals as extjoblib\n",
    "import joblib\n",
    "joblib.dump(lr,'model_joblib')"
   ]
  },
  {
   "cell_type": "code",
   "execution_count": 83,
   "id": "a37cd124",
   "metadata": {},
   "outputs": [
    {
     "data": {
      "text/plain": [
       "array([222.94072976])"
      ]
     },
     "execution_count": 83,
     "metadata": {},
     "output_type": "execute_result"
    }
   ],
   "source": [
    "mj = joblib.load('model_joblib')\n",
    "mj.predict([[75]])"
   ]
  },
  {
   "cell_type": "markdown",
   "id": "a54137e7",
   "metadata": {},
   "source": [
    "#### Ref:"
   ]
  },
  {
   "cell_type": "markdown",
   "id": "b49d7649",
   "metadata": {},
   "source": [
    "https://matplotlib.org/stable/gallery/misc/set_and_get.html#sphx-glr-gallery-misc-set-and-get-py"
   ]
  }
 ],
 "metadata": {
  "kernelspec": {
   "display_name": "Python 3 (ipykernel)",
   "language": "python",
   "name": "python3"
  },
  "language_info": {
   "codemirror_mode": {
    "name": "ipython",
    "version": 3
   },
   "file_extension": ".py",
   "mimetype": "text/x-python",
   "name": "python",
   "nbconvert_exporter": "python",
   "pygments_lexer": "ipython3",
   "version": "3.9.7"
  }
 },
 "nbformat": 4,
 "nbformat_minor": 5
}
