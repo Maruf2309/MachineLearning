{
 "cells": [
  {
   "cell_type": "markdown",
   "id": "a336fb87",
   "metadata": {
    "papermill": {
     "duration": 0.006011,
     "end_time": "2023-04-05T19:05:11.211363",
     "exception": false,
     "start_time": "2023-04-05T19:05:11.205352",
     "status": "completed"
    },
    "tags": []
   },
   "source": [
    "<p style= \"background-color:#922B21;font-family:Georgia;color:#FEFBE9;font-size:250%;text-align:center;border-radius:50px 50px;overflow:hidden;border-style:solid;border-width:1.8px;border-color:#FEFBE9;\"><b> Titanic - Machine Learning from Disaster  </b></p> "
   ]
  },
  {
   "cell_type": "markdown",
   "id": "f1156f91",
   "metadata": {
    "papermill": {
     "duration": 0.00462,
     "end_time": "2023-04-05T19:05:11.221275",
     "exception": false,
     "start_time": "2023-04-05T19:05:11.216655",
     "status": "completed"
    },
    "tags": []
   },
   "source": [
    "<p style ='font-family:Lucida Console; text-align:left; color: blue;font-size:18px'> Libraries: </p>"
   ]
  },
  {
   "cell_type": "code",
   "execution_count": 1,
   "id": "48284ffc",
   "metadata": {
    "execution": {
     "iopub.execute_input": "2023-04-05T19:05:11.233335Z",
     "iopub.status.busy": "2023-04-05T19:05:11.232682Z",
     "iopub.status.idle": "2023-04-05T19:05:11.241771Z",
     "shell.execute_reply": "2023-04-05T19:05:11.240931Z"
    },
    "papermill": {
     "duration": 0.017754,
     "end_time": "2023-04-05T19:05:11.244095",
     "exception": false,
     "start_time": "2023-04-05T19:05:11.226341",
     "status": "completed"
    },
    "tags": []
   },
   "outputs": [],
   "source": [
    "import pandas as pd\n",
    "import numpy as np"
   ]
  },
  {
   "cell_type": "markdown",
   "id": "564da52b",
   "metadata": {
    "papermill": {
     "duration": 0.004761,
     "end_time": "2023-04-05T19:05:11.253960",
     "exception": false,
     "start_time": "2023-04-05T19:05:11.249199",
     "status": "completed"
    },
    "tags": []
   },
   "source": [
    "<div style=\"float:center;margin-left:10px;max-width:250%;\">\n",
    "\n",
    "<img src ='https://media.licdn.com/dms/image/C4D12AQHsDRbH7GXOZg/article-cover_image-shrink_720_1280/0/1604989195408?e=2147483647&v=beta&t=Sq8lv3D1ux7dlVC2R34L7Z--UWHXp4nnCw5Y8j2ciqw'>\n",
    "\n",
    "</div>"
   ]
  },
  {
   "cell_type": "markdown",
   "id": "c322de71",
   "metadata": {
    "papermill": {
     "duration": 0.004524,
     "end_time": "2023-04-05T19:05:11.263450",
     "exception": false,
     "start_time": "2023-04-05T19:05:11.258926",
     "status": "completed"
    },
    "tags": []
   },
   "source": [
    "<p style ='font-family:Lucida Console; text-align:left; color: blue;font-size:18px'> Loading Dataset </p>"
   ]
  },
  {
   "cell_type": "code",
   "execution_count": 2,
   "id": "e6f4a8e7",
   "metadata": {
    "execution": {
     "iopub.execute_input": "2023-04-05T19:05:11.275829Z",
     "iopub.status.busy": "2023-04-05T19:05:11.275166Z",
     "iopub.status.idle": "2023-04-05T19:05:11.334973Z",
     "shell.execute_reply": "2023-04-05T19:05:11.333922Z"
    },
    "papermill": {
     "duration": 0.068622,
     "end_time": "2023-04-05T19:05:11.337103",
     "exception": false,
     "start_time": "2023-04-05T19:05:11.268481",
     "status": "completed"
    },
    "tags": []
   },
   "outputs": [
    {
     "data": {
      "text/html": [
       "<div>\n",
       "<style scoped>\n",
       "    .dataframe tbody tr th:only-of-type {\n",
       "        vertical-align: middle;\n",
       "    }\n",
       "\n",
       "    .dataframe tbody tr th {\n",
       "        vertical-align: top;\n",
       "    }\n",
       "\n",
       "    .dataframe thead th {\n",
       "        text-align: right;\n",
       "    }\n",
       "</style>\n",
       "<table border=\"1\" class=\"dataframe\">\n",
       "  <thead>\n",
       "    <tr style=\"text-align: right;\">\n",
       "      <th></th>\n",
       "      <th>PassengerId</th>\n",
       "      <th>Survived</th>\n",
       "      <th>Pclass</th>\n",
       "      <th>Name</th>\n",
       "      <th>Sex</th>\n",
       "      <th>Age</th>\n",
       "      <th>SibSp</th>\n",
       "      <th>Parch</th>\n",
       "      <th>Ticket</th>\n",
       "      <th>Fare</th>\n",
       "      <th>Cabin</th>\n",
       "      <th>Embarked</th>\n",
       "    </tr>\n",
       "  </thead>\n",
       "  <tbody>\n",
       "    <tr>\n",
       "      <th>0</th>\n",
       "      <td>1</td>\n",
       "      <td>0</td>\n",
       "      <td>3</td>\n",
       "      <td>Braund, Mr. Owen Harris</td>\n",
       "      <td>male</td>\n",
       "      <td>22.0</td>\n",
       "      <td>1</td>\n",
       "      <td>0</td>\n",
       "      <td>A/5 21171</td>\n",
       "      <td>7.2500</td>\n",
       "      <td>NaN</td>\n",
       "      <td>S</td>\n",
       "    </tr>\n",
       "    <tr>\n",
       "      <th>1</th>\n",
       "      <td>2</td>\n",
       "      <td>1</td>\n",
       "      <td>1</td>\n",
       "      <td>Cumings, Mrs. John Bradley (Florence Briggs Th...</td>\n",
       "      <td>female</td>\n",
       "      <td>38.0</td>\n",
       "      <td>1</td>\n",
       "      <td>0</td>\n",
       "      <td>PC 17599</td>\n",
       "      <td>71.2833</td>\n",
       "      <td>C85</td>\n",
       "      <td>C</td>\n",
       "    </tr>\n",
       "    <tr>\n",
       "      <th>2</th>\n",
       "      <td>3</td>\n",
       "      <td>1</td>\n",
       "      <td>3</td>\n",
       "      <td>Heikkinen, Miss. Laina</td>\n",
       "      <td>female</td>\n",
       "      <td>26.0</td>\n",
       "      <td>0</td>\n",
       "      <td>0</td>\n",
       "      <td>STON/O2. 3101282</td>\n",
       "      <td>7.9250</td>\n",
       "      <td>NaN</td>\n",
       "      <td>S</td>\n",
       "    </tr>\n",
       "    <tr>\n",
       "      <th>3</th>\n",
       "      <td>4</td>\n",
       "      <td>1</td>\n",
       "      <td>1</td>\n",
       "      <td>Futrelle, Mrs. Jacques Heath (Lily May Peel)</td>\n",
       "      <td>female</td>\n",
       "      <td>35.0</td>\n",
       "      <td>1</td>\n",
       "      <td>0</td>\n",
       "      <td>113803</td>\n",
       "      <td>53.1000</td>\n",
       "      <td>C123</td>\n",
       "      <td>S</td>\n",
       "    </tr>\n",
       "    <tr>\n",
       "      <th>4</th>\n",
       "      <td>5</td>\n",
       "      <td>0</td>\n",
       "      <td>3</td>\n",
       "      <td>Allen, Mr. William Henry</td>\n",
       "      <td>male</td>\n",
       "      <td>35.0</td>\n",
       "      <td>0</td>\n",
       "      <td>0</td>\n",
       "      <td>373450</td>\n",
       "      <td>8.0500</td>\n",
       "      <td>NaN</td>\n",
       "      <td>S</td>\n",
       "    </tr>\n",
       "  </tbody>\n",
       "</table>\n",
       "</div>"
      ],
      "text/plain": [
       "   PassengerId  Survived  Pclass  \\\n",
       "0            1         0       3   \n",
       "1            2         1       1   \n",
       "2            3         1       3   \n",
       "3            4         1       1   \n",
       "4            5         0       3   \n",
       "\n",
       "                                                Name     Sex   Age  SibSp  \\\n",
       "0                            Braund, Mr. Owen Harris    male  22.0      1   \n",
       "1  Cumings, Mrs. John Bradley (Florence Briggs Th...  female  38.0      1   \n",
       "2                             Heikkinen, Miss. Laina  female  26.0      0   \n",
       "3       Futrelle, Mrs. Jacques Heath (Lily May Peel)  female  35.0      1   \n",
       "4                           Allen, Mr. William Henry    male  35.0      0   \n",
       "\n",
       "   Parch            Ticket     Fare Cabin Embarked  \n",
       "0      0         A/5 21171   7.2500   NaN        S  \n",
       "1      0          PC 17599  71.2833   C85        C  \n",
       "2      0  STON/O2. 3101282   7.9250   NaN        S  \n",
       "3      0            113803  53.1000  C123        S  \n",
       "4      0            373450   8.0500   NaN        S  "
      ]
     },
     "execution_count": 2,
     "metadata": {},
     "output_type": "execute_result"
    }
   ],
   "source": [
    "data = pd.read_csv(\"../input/titanic-dataset/train.csv\")\n",
    "test = pd.read_csv(\"../input/titanic-dataset/test.csv\")\n",
    "data.head()"
   ]
  },
  {
   "cell_type": "code",
   "execution_count": 3,
   "id": "dd1c059c",
   "metadata": {
    "execution": {
     "iopub.execute_input": "2023-04-05T19:05:11.349282Z",
     "iopub.status.busy": "2023-04-05T19:05:11.348921Z",
     "iopub.status.idle": "2023-04-05T19:05:11.356000Z",
     "shell.execute_reply": "2023-04-05T19:05:11.354475Z"
    },
    "papermill": {
     "duration": 0.016472,
     "end_time": "2023-04-05T19:05:11.358802",
     "exception": false,
     "start_time": "2023-04-05T19:05:11.342330",
     "status": "completed"
    },
    "tags": []
   },
   "outputs": [
    {
     "data": {
      "text/plain": [
       "(418, 12)"
      ]
     },
     "execution_count": 3,
     "metadata": {},
     "output_type": "execute_result"
    }
   ],
   "source": [
    "data.shape"
   ]
  },
  {
   "cell_type": "code",
   "execution_count": 4,
   "id": "f0a16d60",
   "metadata": {
    "execution": {
     "iopub.execute_input": "2023-04-05T19:05:11.373884Z",
     "iopub.status.busy": "2023-04-05T19:05:11.372588Z",
     "iopub.status.idle": "2023-04-05T19:05:11.379387Z",
     "shell.execute_reply": "2023-04-05T19:05:11.378614Z"
    },
    "papermill": {
     "duration": 0.01548,
     "end_time": "2023-04-05T19:05:11.381287",
     "exception": false,
     "start_time": "2023-04-05T19:05:11.365807",
     "status": "completed"
    },
    "tags": []
   },
   "outputs": [
    {
     "data": {
      "text/plain": [
       "(418, 11)"
      ]
     },
     "execution_count": 4,
     "metadata": {},
     "output_type": "execute_result"
    }
   ],
   "source": [
    "test.shape"
   ]
  },
  {
   "cell_type": "code",
   "execution_count": 5,
   "id": "7cea623a",
   "metadata": {
    "execution": {
     "iopub.execute_input": "2023-04-05T19:05:11.394358Z",
     "iopub.status.busy": "2023-04-05T19:05:11.393049Z",
     "iopub.status.idle": "2023-04-05T19:05:11.417076Z",
     "shell.execute_reply": "2023-04-05T19:05:11.415799Z"
    },
    "papermill": {
     "duration": 0.032573,
     "end_time": "2023-04-05T19:05:11.419245",
     "exception": false,
     "start_time": "2023-04-05T19:05:11.386672",
     "status": "completed"
    },
    "tags": []
   },
   "outputs": [
    {
     "name": "stdout",
     "output_type": "stream",
     "text": [
      "<class 'pandas.core.frame.DataFrame'>\n",
      "RangeIndex: 418 entries, 0 to 417\n",
      "Data columns (total 12 columns):\n",
      " #   Column       Non-Null Count  Dtype  \n",
      "---  ------       --------------  -----  \n",
      " 0   PassengerId  418 non-null    int64  \n",
      " 1   Survived     418 non-null    int64  \n",
      " 2   Pclass       418 non-null    int64  \n",
      " 3   Name         418 non-null    object \n",
      " 4   Sex          418 non-null    object \n",
      " 5   Age          377 non-null    float64\n",
      " 6   SibSp        418 non-null    int64  \n",
      " 7   Parch        418 non-null    int64  \n",
      " 8   Ticket       418 non-null    object \n",
      " 9   Fare         418 non-null    float64\n",
      " 10  Cabin        104 non-null    object \n",
      " 11  Embarked     418 non-null    object \n",
      "dtypes: float64(2), int64(5), object(5)\n",
      "memory usage: 39.3+ KB\n"
     ]
    }
   ],
   "source": [
    "data.info()"
   ]
  },
  {
   "cell_type": "markdown",
   "id": "79cf7172",
   "metadata": {
    "papermill": {
     "duration": 0.005061,
     "end_time": "2023-04-05T19:05:11.429733",
     "exception": false,
     "start_time": "2023-04-05T19:05:11.424672",
     "status": "completed"
    },
    "tags": []
   },
   "source": [
    "<p style= \"background-color:brown;font-family:Georgia;color:#FEFBE9;font-size:150%;text-align:center;border-radius:50px 50px;overflow:hidden;border-style:dotted;border-width:1.8px;border-color:#FEFBE9;\"><b> Data Cleaning & Preprocessing </b></p> "
   ]
  },
  {
   "cell_type": "code",
   "execution_count": 6,
   "id": "e059710a",
   "metadata": {
    "execution": {
     "iopub.execute_input": "2023-04-05T19:05:11.443061Z",
     "iopub.status.busy": "2023-04-05T19:05:11.441825Z",
     "iopub.status.idle": "2023-04-05T19:05:11.457381Z",
     "shell.execute_reply": "2023-04-05T19:05:11.456121Z"
    },
    "papermill": {
     "duration": 0.024844,
     "end_time": "2023-04-05T19:05:11.459943",
     "exception": false,
     "start_time": "2023-04-05T19:05:11.435099",
     "status": "completed"
    },
    "tags": []
   },
   "outputs": [],
   "source": [
    "def clean(data):\n",
    "    data = data.drop([\"PassengerId\",\"Name\",\"Ticket\",\"Cabin\"], axis=1)\n",
    "    \n",
    "    cols = ['SibSp', 'Parch', 'Fare','Age']\n",
    "    for col in cols:\n",
    "        data[col].fillna(data[col].mean(), inplace=True)\n",
    "    \n",
    "    data.Embarked.fillna(\"U\", inplace=True)\n",
    "    return data\n",
    "\n",
    "data = clean(data)\n",
    "test = clean(test)"
   ]
  },
  {
   "cell_type": "code",
   "execution_count": 7,
   "id": "d75e4a59",
   "metadata": {
    "execution": {
     "iopub.execute_input": "2023-04-05T19:05:11.473155Z",
     "iopub.status.busy": "2023-04-05T19:05:11.472780Z",
     "iopub.status.idle": "2023-04-05T19:05:11.485477Z",
     "shell.execute_reply": "2023-04-05T19:05:11.484446Z"
    },
    "papermill": {
     "duration": 0.022172,
     "end_time": "2023-04-05T19:05:11.487517",
     "exception": false,
     "start_time": "2023-04-05T19:05:11.465345",
     "status": "completed"
    },
    "tags": []
   },
   "outputs": [
    {
     "data": {
      "text/html": [
       "<div>\n",
       "<style scoped>\n",
       "    .dataframe tbody tr th:only-of-type {\n",
       "        vertical-align: middle;\n",
       "    }\n",
       "\n",
       "    .dataframe tbody tr th {\n",
       "        vertical-align: top;\n",
       "    }\n",
       "\n",
       "    .dataframe thead th {\n",
       "        text-align: right;\n",
       "    }\n",
       "</style>\n",
       "<table border=\"1\" class=\"dataframe\">\n",
       "  <thead>\n",
       "    <tr style=\"text-align: right;\">\n",
       "      <th></th>\n",
       "      <th>Survived</th>\n",
       "      <th>Pclass</th>\n",
       "      <th>Sex</th>\n",
       "      <th>Age</th>\n",
       "      <th>SibSp</th>\n",
       "      <th>Parch</th>\n",
       "      <th>Fare</th>\n",
       "      <th>Embarked</th>\n",
       "    </tr>\n",
       "  </thead>\n",
       "  <tbody>\n",
       "    <tr>\n",
       "      <th>0</th>\n",
       "      <td>0</td>\n",
       "      <td>3</td>\n",
       "      <td>male</td>\n",
       "      <td>22.0</td>\n",
       "      <td>1</td>\n",
       "      <td>0</td>\n",
       "      <td>7.2500</td>\n",
       "      <td>S</td>\n",
       "    </tr>\n",
       "    <tr>\n",
       "      <th>1</th>\n",
       "      <td>1</td>\n",
       "      <td>1</td>\n",
       "      <td>female</td>\n",
       "      <td>38.0</td>\n",
       "      <td>1</td>\n",
       "      <td>0</td>\n",
       "      <td>71.2833</td>\n",
       "      <td>C</td>\n",
       "    </tr>\n",
       "    <tr>\n",
       "      <th>2</th>\n",
       "      <td>1</td>\n",
       "      <td>3</td>\n",
       "      <td>female</td>\n",
       "      <td>26.0</td>\n",
       "      <td>0</td>\n",
       "      <td>0</td>\n",
       "      <td>7.9250</td>\n",
       "      <td>S</td>\n",
       "    </tr>\n",
       "    <tr>\n",
       "      <th>3</th>\n",
       "      <td>1</td>\n",
       "      <td>1</td>\n",
       "      <td>female</td>\n",
       "      <td>35.0</td>\n",
       "      <td>1</td>\n",
       "      <td>0</td>\n",
       "      <td>53.1000</td>\n",
       "      <td>S</td>\n",
       "    </tr>\n",
       "    <tr>\n",
       "      <th>4</th>\n",
       "      <td>0</td>\n",
       "      <td>3</td>\n",
       "      <td>male</td>\n",
       "      <td>35.0</td>\n",
       "      <td>0</td>\n",
       "      <td>0</td>\n",
       "      <td>8.0500</td>\n",
       "      <td>S</td>\n",
       "    </tr>\n",
       "  </tbody>\n",
       "</table>\n",
       "</div>"
      ],
      "text/plain": [
       "   Survived  Pclass     Sex   Age  SibSp  Parch     Fare Embarked\n",
       "0         0       3    male  22.0      1      0   7.2500        S\n",
       "1         1       1  female  38.0      1      0  71.2833        C\n",
       "2         1       3  female  26.0      0      0   7.9250        S\n",
       "3         1       1  female  35.0      1      0  53.1000        S\n",
       "4         0       3    male  35.0      0      0   8.0500        S"
      ]
     },
     "execution_count": 7,
     "metadata": {},
     "output_type": "execute_result"
    }
   ],
   "source": [
    "data.head()"
   ]
  },
  {
   "cell_type": "code",
   "execution_count": 8,
   "id": "41c171ea",
   "metadata": {
    "execution": {
     "iopub.execute_input": "2023-04-05T19:05:11.500204Z",
     "iopub.status.busy": "2023-04-05T19:05:11.499835Z",
     "iopub.status.idle": "2023-04-05T19:05:11.513174Z",
     "shell.execute_reply": "2023-04-05T19:05:11.511929Z"
    },
    "papermill": {
     "duration": 0.021941,
     "end_time": "2023-04-05T19:05:11.515049",
     "exception": false,
     "start_time": "2023-04-05T19:05:11.493108",
     "status": "completed"
    },
    "tags": []
   },
   "outputs": [
    {
     "data": {
      "text/html": [
       "<div>\n",
       "<style scoped>\n",
       "    .dataframe tbody tr th:only-of-type {\n",
       "        vertical-align: middle;\n",
       "    }\n",
       "\n",
       "    .dataframe tbody tr th {\n",
       "        vertical-align: top;\n",
       "    }\n",
       "\n",
       "    .dataframe thead th {\n",
       "        text-align: right;\n",
       "    }\n",
       "</style>\n",
       "<table border=\"1\" class=\"dataframe\">\n",
       "  <thead>\n",
       "    <tr style=\"text-align: right;\">\n",
       "      <th></th>\n",
       "      <th>Pclass</th>\n",
       "      <th>Sex</th>\n",
       "      <th>Age</th>\n",
       "      <th>SibSp</th>\n",
       "      <th>Parch</th>\n",
       "      <th>Fare</th>\n",
       "      <th>Embarked</th>\n",
       "    </tr>\n",
       "  </thead>\n",
       "  <tbody>\n",
       "    <tr>\n",
       "      <th>0</th>\n",
       "      <td>3</td>\n",
       "      <td>male</td>\n",
       "      <td>34.5</td>\n",
       "      <td>0</td>\n",
       "      <td>0</td>\n",
       "      <td>7.8292</td>\n",
       "      <td>Q</td>\n",
       "    </tr>\n",
       "    <tr>\n",
       "      <th>1</th>\n",
       "      <td>3</td>\n",
       "      <td>female</td>\n",
       "      <td>47.0</td>\n",
       "      <td>1</td>\n",
       "      <td>0</td>\n",
       "      <td>7.0000</td>\n",
       "      <td>S</td>\n",
       "    </tr>\n",
       "    <tr>\n",
       "      <th>2</th>\n",
       "      <td>2</td>\n",
       "      <td>male</td>\n",
       "      <td>62.0</td>\n",
       "      <td>0</td>\n",
       "      <td>0</td>\n",
       "      <td>9.6875</td>\n",
       "      <td>Q</td>\n",
       "    </tr>\n",
       "    <tr>\n",
       "      <th>3</th>\n",
       "      <td>3</td>\n",
       "      <td>male</td>\n",
       "      <td>27.0</td>\n",
       "      <td>0</td>\n",
       "      <td>0</td>\n",
       "      <td>8.6625</td>\n",
       "      <td>S</td>\n",
       "    </tr>\n",
       "    <tr>\n",
       "      <th>4</th>\n",
       "      <td>3</td>\n",
       "      <td>female</td>\n",
       "      <td>22.0</td>\n",
       "      <td>1</td>\n",
       "      <td>1</td>\n",
       "      <td>12.2875</td>\n",
       "      <td>S</td>\n",
       "    </tr>\n",
       "  </tbody>\n",
       "</table>\n",
       "</div>"
      ],
      "text/plain": [
       "   Pclass     Sex   Age  SibSp  Parch     Fare Embarked\n",
       "0       3    male  34.5      0      0   7.8292        Q\n",
       "1       3  female  47.0      1      0   7.0000        S\n",
       "2       2    male  62.0      0      0   9.6875        Q\n",
       "3       3    male  27.0      0      0   8.6625        S\n",
       "4       3  female  22.0      1      1  12.2875        S"
      ]
     },
     "execution_count": 8,
     "metadata": {},
     "output_type": "execute_result"
    }
   ],
   "source": [
    "test.head()"
   ]
  },
  {
   "cell_type": "code",
   "execution_count": 9,
   "id": "ea6e99cf",
   "metadata": {
    "execution": {
     "iopub.execute_input": "2023-04-05T19:05:11.528200Z",
     "iopub.status.busy": "2023-04-05T19:05:11.527771Z",
     "iopub.status.idle": "2023-04-05T19:05:12.538490Z",
     "shell.execute_reply": "2023-04-05T19:05:12.537256Z"
    },
    "papermill": {
     "duration": 1.020192,
     "end_time": "2023-04-05T19:05:12.540901",
     "exception": false,
     "start_time": "2023-04-05T19:05:11.520709",
     "status": "completed"
    },
    "tags": []
   },
   "outputs": [
    {
     "name": "stdout",
     "output_type": "stream",
     "text": [
      "[0 1]\n",
      "[0 1 2]\n"
     ]
    },
    {
     "data": {
      "text/html": [
       "<div>\n",
       "<style scoped>\n",
       "    .dataframe tbody tr th:only-of-type {\n",
       "        vertical-align: middle;\n",
       "    }\n",
       "\n",
       "    .dataframe tbody tr th {\n",
       "        vertical-align: top;\n",
       "    }\n",
       "\n",
       "    .dataframe thead th {\n",
       "        text-align: right;\n",
       "    }\n",
       "</style>\n",
       "<table border=\"1\" class=\"dataframe\">\n",
       "  <thead>\n",
       "    <tr style=\"text-align: right;\">\n",
       "      <th></th>\n",
       "      <th>Survived</th>\n",
       "      <th>Pclass</th>\n",
       "      <th>Sex</th>\n",
       "      <th>Age</th>\n",
       "      <th>SibSp</th>\n",
       "      <th>Parch</th>\n",
       "      <th>Fare</th>\n",
       "      <th>Embarked</th>\n",
       "    </tr>\n",
       "  </thead>\n",
       "  <tbody>\n",
       "    <tr>\n",
       "      <th>0</th>\n",
       "      <td>0</td>\n",
       "      <td>3</td>\n",
       "      <td>1</td>\n",
       "      <td>22.0</td>\n",
       "      <td>1</td>\n",
       "      <td>0</td>\n",
       "      <td>7.2500</td>\n",
       "      <td>2</td>\n",
       "    </tr>\n",
       "    <tr>\n",
       "      <th>1</th>\n",
       "      <td>1</td>\n",
       "      <td>1</td>\n",
       "      <td>0</td>\n",
       "      <td>38.0</td>\n",
       "      <td>1</td>\n",
       "      <td>0</td>\n",
       "      <td>71.2833</td>\n",
       "      <td>0</td>\n",
       "    </tr>\n",
       "    <tr>\n",
       "      <th>2</th>\n",
       "      <td>1</td>\n",
       "      <td>3</td>\n",
       "      <td>0</td>\n",
       "      <td>26.0</td>\n",
       "      <td>0</td>\n",
       "      <td>0</td>\n",
       "      <td>7.9250</td>\n",
       "      <td>2</td>\n",
       "    </tr>\n",
       "    <tr>\n",
       "      <th>3</th>\n",
       "      <td>1</td>\n",
       "      <td>1</td>\n",
       "      <td>0</td>\n",
       "      <td>35.0</td>\n",
       "      <td>1</td>\n",
       "      <td>0</td>\n",
       "      <td>53.1000</td>\n",
       "      <td>2</td>\n",
       "    </tr>\n",
       "    <tr>\n",
       "      <th>4</th>\n",
       "      <td>0</td>\n",
       "      <td>3</td>\n",
       "      <td>1</td>\n",
       "      <td>35.0</td>\n",
       "      <td>0</td>\n",
       "      <td>0</td>\n",
       "      <td>8.0500</td>\n",
       "      <td>2</td>\n",
       "    </tr>\n",
       "  </tbody>\n",
       "</table>\n",
       "</div>"
      ],
      "text/plain": [
       "   Survived  Pclass  Sex   Age  SibSp  Parch     Fare  Embarked\n",
       "0         0       3    1  22.0      1      0   7.2500         2\n",
       "1         1       1    0  38.0      1      0  71.2833         0\n",
       "2         1       3    0  26.0      0      0   7.9250         2\n",
       "3         1       1    0  35.0      1      0  53.1000         2\n",
       "4         0       3    1  35.0      0      0   8.0500         2"
      ]
     },
     "execution_count": 9,
     "metadata": {},
     "output_type": "execute_result"
    }
   ],
   "source": [
    "from sklearn import preprocessing\n",
    "le = preprocessing.LabelEncoder()\n",
    "\n",
    "cols = [\"Sex\",\"Embarked\"]\n",
    "\n",
    "for col in cols:\n",
    "    data[col] = le.fit_transform(data[col])\n",
    "    test[col] = le.fit_transform(data[col])\n",
    "    print(le.classes_)\n",
    "    \n",
    "data.head()"
   ]
  },
  {
   "cell_type": "markdown",
   "id": "f3013cc5",
   "metadata": {
    "papermill": {
     "duration": 0.005685,
     "end_time": "2023-04-05T19:05:12.552894",
     "exception": false,
     "start_time": "2023-04-05T19:05:12.547209",
     "status": "completed"
    },
    "tags": []
   },
   "source": [
    "<p style= \"background-color:brown;font-family:Georgia;color:#FEFBE9;font-size:150%;text-align:center;border-radius:50px 50px;overflow:hidden;border-style:dotted;border-width:1.8px;border-color:#FEFBE9;\"><b> Logistric Regression </b></p> "
   ]
  },
  {
   "cell_type": "code",
   "execution_count": 10,
   "id": "7112d15e",
   "metadata": {
    "execution": {
     "iopub.execute_input": "2023-04-05T19:05:12.566735Z",
     "iopub.status.busy": "2023-04-05T19:05:12.566355Z",
     "iopub.status.idle": "2023-04-05T19:05:12.726222Z",
     "shell.execute_reply": "2023-04-05T19:05:12.724633Z"
    },
    "papermill": {
     "duration": 0.169825,
     "end_time": "2023-04-05T19:05:12.728799",
     "exception": false,
     "start_time": "2023-04-05T19:05:12.558974",
     "status": "completed"
    },
    "tags": []
   },
   "outputs": [],
   "source": [
    "from sklearn.linear_model import LogisticRegression\n",
    "from sklearn.model_selection import train_test_split\n",
    "\n",
    "y = data[\"Survived\"]\n",
    "X = data.drop(\"Survived\", axis=1)\n",
    "\n",
    "X_train, X_val, y_train, y_val = train_test_split(X, y, test_size=0.2, random_state=42)"
   ]
  },
  {
   "cell_type": "code",
   "execution_count": 11,
   "id": "ff30925a",
   "metadata": {
    "execution": {
     "iopub.execute_input": "2023-04-05T19:05:12.743181Z",
     "iopub.status.busy": "2023-04-05T19:05:12.742754Z",
     "iopub.status.idle": "2023-04-05T19:05:12.777285Z",
     "shell.execute_reply": "2023-04-05T19:05:12.775750Z"
    },
    "papermill": {
     "duration": 0.044758,
     "end_time": "2023-04-05T19:05:12.779967",
     "exception": false,
     "start_time": "2023-04-05T19:05:12.735209",
     "status": "completed"
    },
    "tags": []
   },
   "outputs": [],
   "source": [
    "clf = LogisticRegression(random_state=0, max_iter=1000).fit(X_train, y_train)"
   ]
  },
  {
   "cell_type": "markdown",
   "id": "0b102cb3",
   "metadata": {
    "papermill": {
     "duration": 0.005667,
     "end_time": "2023-04-05T19:05:12.791884",
     "exception": false,
     "start_time": "2023-04-05T19:05:12.786217",
     "status": "completed"
    },
    "tags": []
   },
   "source": [
    "<p style= \"background-color:brown;font-family:Georgia;color:#FEFBE9;font-size:150%;text-align:center;border-radius:50px 50px;overflow:hidden;border-style:dotted;border-width:1.8px;border-color:#FEFBE9;\"><b> Predictions </b></p> "
   ]
  },
  {
   "cell_type": "code",
   "execution_count": 12,
   "id": "d70d6ce1",
   "metadata": {
    "execution": {
     "iopub.execute_input": "2023-04-05T19:05:12.805216Z",
     "iopub.status.busy": "2023-04-05T19:05:12.804827Z",
     "iopub.status.idle": "2023-04-05T19:05:12.814896Z",
     "shell.execute_reply": "2023-04-05T19:05:12.813575Z"
    },
    "papermill": {
     "duration": 0.019658,
     "end_time": "2023-04-05T19:05:12.817392",
     "exception": false,
     "start_time": "2023-04-05T19:05:12.797734",
     "status": "completed"
    },
    "tags": []
   },
   "outputs": [
    {
     "data": {
      "text/plain": [
       "0.7976190476190477"
      ]
     },
     "execution_count": 12,
     "metadata": {},
     "output_type": "execute_result"
    }
   ],
   "source": [
    "predictions = clf.predict(X_val)\n",
    "from sklearn.metrics import accuracy_score\n",
    "accuracy_score(y_val, predictions)"
   ]
  },
  {
   "cell_type": "code",
   "execution_count": 13,
   "id": "beea543d",
   "metadata": {
    "execution": {
     "iopub.execute_input": "2023-04-05T19:05:12.832334Z",
     "iopub.status.busy": "2023-04-05T19:05:12.831200Z",
     "iopub.status.idle": "2023-04-05T19:05:12.838872Z",
     "shell.execute_reply": "2023-04-05T19:05:12.837633Z"
    },
    "papermill": {
     "duration": 0.017955,
     "end_time": "2023-04-05T19:05:12.841676",
     "exception": false,
     "start_time": "2023-04-05T19:05:12.823721",
     "status": "completed"
    },
    "tags": []
   },
   "outputs": [],
   "source": [
    "submission_preds = clf.predict(test)"
   ]
  },
  {
   "cell_type": "code",
   "execution_count": 14,
   "id": "d705a424",
   "metadata": {
    "execution": {
     "iopub.execute_input": "2023-04-05T19:05:12.855812Z",
     "iopub.status.busy": "2023-04-05T19:05:12.855415Z",
     "iopub.status.idle": "2023-04-05T19:05:12.860434Z",
     "shell.execute_reply": "2023-04-05T19:05:12.859213Z"
    },
    "papermill": {
     "duration": 0.015016,
     "end_time": "2023-04-05T19:05:12.863017",
     "exception": false,
     "start_time": "2023-04-05T19:05:12.848001",
     "status": "completed"
    },
    "tags": []
   },
   "outputs": [],
   "source": [
    "# df = pd.DataFrame({\"PassengerId\":test_ids.values,\n",
    "#                    \"Survived\":submission_preds,})"
   ]
  },
  {
   "cell_type": "code",
   "execution_count": 15,
   "id": "44aaee47",
   "metadata": {
    "execution": {
     "iopub.execute_input": "2023-04-05T19:05:12.878039Z",
     "iopub.status.busy": "2023-04-05T19:05:12.877021Z",
     "iopub.status.idle": "2023-04-05T19:05:12.882560Z",
     "shell.execute_reply": "2023-04-05T19:05:12.881416Z"
    },
    "papermill": {
     "duration": 0.015418,
     "end_time": "2023-04-05T19:05:12.884802",
     "exception": false,
     "start_time": "2023-04-05T19:05:12.869384",
     "status": "completed"
    },
    "tags": []
   },
   "outputs": [],
   "source": [
    "# df.to_csv(\"submission.csv\", index=False)"
   ]
  },
  {
   "cell_type": "markdown",
   "id": "521527d1",
   "metadata": {
    "papermill": {
     "duration": 0.005518,
     "end_time": "2023-04-05T19:05:12.896453",
     "exception": false,
     "start_time": "2023-04-05T19:05:12.890935",
     "status": "completed"
    },
    "tags": []
   },
   "source": [
    "## **<center><span style=\"color:#FEF1FE;background-color:#023e8a;border-radius: 5px;padding: 5px\"> Thanks for reading! Please feel free to provide suggestions or feedbacks & be supportive :)</span></center>**"
   ]
  }
 ],
 "metadata": {
  "kernelspec": {
   "display_name": "Python 3",
   "language": "python",
   "name": "python3"
  },
  "language_info": {
   "codemirror_mode": {
    "name": "ipython",
    "version": 3
   },
   "file_extension": ".py",
   "mimetype": "text/x-python",
   "name": "python",
   "nbconvert_exporter": "python",
   "pygments_lexer": "ipython3",
   "version": "3.7.12"
  },
  "papermill": {
   "default_parameters": {},
   "duration": 12.650782,
   "end_time": "2023-04-05T19:05:13.624887",
   "environment_variables": {},
   "exception": null,
   "input_path": "__notebook__.ipynb",
   "output_path": "__notebook__.ipynb",
   "parameters": {},
   "start_time": "2023-04-05T19:05:00.974105",
   "version": "2.4.0"
  }
 },
 "nbformat": 4,
 "nbformat_minor": 5
}
