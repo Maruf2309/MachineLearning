{
 "cells": [
  {
   "cell_type": "markdown",
   "id": "5a92efa8",
   "metadata": {},
   "source": [
    "# Kmeans Clustering Algorithm"
   ]
  },
  {
   "cell_type": "markdown",
   "id": "439fe000",
   "metadata": {},
   "source": [
    "- Ref: 1033"
   ]
  },
  {
   "cell_type": "code",
   "execution_count": 27,
   "id": "f3800db1",
   "metadata": {},
   "outputs": [],
   "source": [
    "# Import Libraries\n",
    "import pandas as pd\n",
    "import matplotlib.pyplot as plt\n",
    "%matplotlib inline\n",
    "from sklearn.cluster import KMeans\n",
    "from sklearn.preprocessing import MinMaxScaler\n",
    "import warnings as wr\n",
    "wr.filterwarnings('ignore')"
   ]
  },
  {
   "cell_type": "code",
   "execution_count": 28,
   "id": "c5c450bb",
   "metadata": {},
   "outputs": [
    {
     "data": {
      "text/html": [
       "<div>\n",
       "<style scoped>\n",
       "    .dataframe tbody tr th:only-of-type {\n",
       "        vertical-align: middle;\n",
       "    }\n",
       "\n",
       "    .dataframe tbody tr th {\n",
       "        vertical-align: top;\n",
       "    }\n",
       "\n",
       "    .dataframe thead th {\n",
       "        text-align: right;\n",
       "    }\n",
       "</style>\n",
       "<table border=\"1\" class=\"dataframe\">\n",
       "  <thead>\n",
       "    <tr style=\"text-align: right;\">\n",
       "      <th></th>\n",
       "      <th>Name</th>\n",
       "      <th>Age</th>\n",
       "      <th>Income($)</th>\n",
       "    </tr>\n",
       "  </thead>\n",
       "  <tbody>\n",
       "    <tr>\n",
       "      <th>0</th>\n",
       "      <td>Michel</td>\n",
       "      <td>27</td>\n",
       "      <td>70000</td>\n",
       "    </tr>\n",
       "    <tr>\n",
       "      <th>1</th>\n",
       "      <td>Pitter</td>\n",
       "      <td>29</td>\n",
       "      <td>90000</td>\n",
       "    </tr>\n",
       "    <tr>\n",
       "      <th>2</th>\n",
       "      <td>John</td>\n",
       "      <td>29</td>\n",
       "      <td>61000</td>\n",
       "    </tr>\n",
       "    <tr>\n",
       "      <th>3</th>\n",
       "      <td>Kitty</td>\n",
       "      <td>28</td>\n",
       "      <td>60000</td>\n",
       "    </tr>\n",
       "    <tr>\n",
       "      <th>4</th>\n",
       "      <td>Nelson</td>\n",
       "      <td>42</td>\n",
       "      <td>150000</td>\n",
       "    </tr>\n",
       "  </tbody>\n",
       "</table>\n",
       "</div>"
      ],
      "text/plain": [
       "     Name  Age  Income($)\n",
       "0  Michel   27      70000\n",
       "1  Pitter   29      90000\n",
       "2    John   29      61000\n",
       "3   Kitty   28      60000\n",
       "4  Nelson   42     150000"
      ]
     },
     "execution_count": 28,
     "metadata": {},
     "output_type": "execute_result"
    }
   ],
   "source": [
    "df = pd.read_csv('income.csv')\n",
    "df.head()"
   ]
  },
  {
   "cell_type": "code",
   "execution_count": 29,
   "id": "da5f351b",
   "metadata": {},
   "outputs": [],
   "source": [
    "df_1 = df.copy()\n",
    "df_2 = df.copy()"
   ]
  },
  {
   "cell_type": "code",
   "execution_count": 30,
   "id": "833a961a",
   "metadata": {},
   "outputs": [
    {
     "data": {
      "text/plain": [
       "(22, 3)"
      ]
     },
     "execution_count": 30,
     "metadata": {},
     "output_type": "execute_result"
    }
   ],
   "source": [
    "df.shape"
   ]
  },
  {
   "cell_type": "code",
   "execution_count": 31,
   "id": "691bb548",
   "metadata": {},
   "outputs": [
    {
     "name": "stdout",
     "output_type": "stream",
     "text": [
      "<class 'pandas.core.frame.DataFrame'>\n",
      "RangeIndex: 22 entries, 0 to 21\n",
      "Data columns (total 3 columns):\n",
      " #   Column     Non-Null Count  Dtype \n",
      "---  ------     --------------  ----- \n",
      " 0   Name       22 non-null     object\n",
      " 1   Age        22 non-null     int64 \n",
      " 2   Income($)  22 non-null     int64 \n",
      "dtypes: int64(2), object(1)\n",
      "memory usage: 656.0+ bytes\n"
     ]
    }
   ],
   "source": [
    "df.info()"
   ]
  },
  {
   "cell_type": "code",
   "execution_count": 32,
   "id": "cf24d3ce",
   "metadata": {},
   "outputs": [
    {
     "data": {
      "image/png": "[encoded data removed]",
      "text/plain": [
       "<Figure size 432x288 with 1 Axes>"
      ]
     },
     "metadata": {
      "needs_background": "light"
     },
     "output_type": "display_data"
    }
   ],
   "source": [
    "plt.scatter(df['Age'], df['Income($)']) # Visully 3 Clusters\n",
    "plt.show()"
   ]
  },
  {
   "cell_type": "markdown",
   "id": "149f26bf",
   "metadata": {},
   "source": [
    "# Step 1"
   ]
  },
  {
   "cell_type": "code",
   "execution_count": 33,
   "id": "98d0a44d",
   "metadata": {},
   "outputs": [
    {
     "data": {
      "text/plain": [
       "KMeans(n_clusters=3)"
      ]
     },
     "execution_count": 33,
     "metadata": {},
     "output_type": "execute_result"
    }
   ],
   "source": [
    "km = KMeans(n_clusters=3)\n",
    "km                        # Object creation"
   ]
  },
  {
   "cell_type": "markdown",
   "id": "168e5103",
   "metadata": {},
   "source": [
    "# Step 2 - Fit & Predict"
   ]
  },
  {
   "cell_type": "markdown",
   "id": "b5772f1a",
   "metadata": {},
   "source": [
    "- I will fit & predict the datafram excluding name col, it will not useful for this numerical computation\n",
    "- After fit & predict you will get back Y_predicted\n",
    "- Fit & Predit by created \"Object\"\n",
    "- y_predicted : will show data point to its belonging clusters (as k=3 defined, all datapoints must be assiged by this 3 (0,1,2)"
   ]
  },
  {
   "cell_type": "code",
   "execution_count": 34,
   "id": "e58cf486",
   "metadata": {},
   "outputs": [
    {
     "data": {
      "text/plain": [
       "array([2, 2, 1, 1, 0, 0, 0, 0, 0, 0, 0, 1, 1, 1, 1, 1, 1, 1, 1, 2, 2, 1])"
      ]
     },
     "execution_count": 34,
     "metadata": {},
     "output_type": "execute_result"
    }
   ],
   "source": [
    "# Step 2: Fit & Predict\n",
    "y_predicted = km.fit_predict(df[['Age', 'Income($)']])\n",
    "y_predicted                       "
   ]
  },
  {
   "cell_type": "code",
   "execution_count": 35,
   "id": "bc146e11",
   "metadata": {},
   "outputs": [
    {
     "data": {
      "text/html": [
       "<div>\n",
       "<style scoped>\n",
       "    .dataframe tbody tr th:only-of-type {\n",
       "        vertical-align: middle;\n",
       "    }\n",
       "\n",
       "    .dataframe tbody tr th {\n",
       "        vertical-align: top;\n",
       "    }\n",
       "\n",
       "    .dataframe thead th {\n",
       "        text-align: right;\n",
       "    }\n",
       "</style>\n",
       "<table border=\"1\" class=\"dataframe\">\n",
       "  <thead>\n",
       "    <tr style=\"text-align: right;\">\n",
       "      <th></th>\n",
       "      <th>Name</th>\n",
       "      <th>Age</th>\n",
       "      <th>Income($)</th>\n",
       "      <th>cluster</th>\n",
       "    </tr>\n",
       "  </thead>\n",
       "  <tbody>\n",
       "    <tr>\n",
       "      <th>0</th>\n",
       "      <td>Michel</td>\n",
       "      <td>27</td>\n",
       "      <td>70000</td>\n",
       "      <td>2</td>\n",
       "    </tr>\n",
       "    <tr>\n",
       "      <th>1</th>\n",
       "      <td>Pitter</td>\n",
       "      <td>29</td>\n",
       "      <td>90000</td>\n",
       "      <td>2</td>\n",
       "    </tr>\n",
       "    <tr>\n",
       "      <th>2</th>\n",
       "      <td>John</td>\n",
       "      <td>29</td>\n",
       "      <td>61000</td>\n",
       "      <td>1</td>\n",
       "    </tr>\n",
       "    <tr>\n",
       "      <th>3</th>\n",
       "      <td>Kitty</td>\n",
       "      <td>28</td>\n",
       "      <td>60000</td>\n",
       "      <td>1</td>\n",
       "    </tr>\n",
       "    <tr>\n",
       "      <th>4</th>\n",
       "      <td>Nelson</td>\n",
       "      <td>42</td>\n",
       "      <td>150000</td>\n",
       "      <td>0</td>\n",
       "    </tr>\n",
       "  </tbody>\n",
       "</table>\n",
       "</div>"
      ],
      "text/plain": [
       "     Name  Age  Income($)  cluster\n",
       "0  Michel   27      70000        2\n",
       "1  Pitter   29      90000        2\n",
       "2    John   29      61000        1\n",
       "3   Kitty   28      60000        1\n",
       "4  Nelson   42     150000        0"
      ]
     },
     "execution_count": 35,
     "metadata": {},
     "output_type": "execute_result"
    }
   ],
   "source": [
    "# Visualize the predicted result in seperate col\n",
    "df['cluster'] = y_predicted            # its still not as good as scatter  plot\n",
    "df.head()"
   ]
  },
  {
   "cell_type": "code",
   "execution_count": 36,
   "id": "97918494",
   "metadata": {},
   "outputs": [
    {
     "data": {
      "image/png": "[encoded data removed]",
      "text/plain": [
       "<Figure size 432x288 with 1 Axes>"
      ]
     },
     "metadata": {
      "needs_background": "light"
     },
     "output_type": "display_data"
    }
   ],
   "source": [
    "# Seperate Data Frame\n",
    "df1 = df[df.cluster==0]\n",
    "df2 = df[df.cluster==1]\n",
    "df3 = df[df.cluster==2]\n",
    "\n",
    "# Scatter plot for better visualization\n",
    "plt.scatter(df1.Age, df1['Income($)'], color='green')\n",
    "plt.scatter(df2.Age, df2['Income($)'], color='red')\n",
    "plt.scatter(df3.Age, df3['Income($)'], color='black')\n",
    "\n",
    "# Labels\n",
    "plt.xlabel('Age')\n",
    "plt.ylabel('Income($)')\n",
    "plt.legend('Income($)')\n",
    "plt.show()"
   ]
  },
  {
   "cell_type": "markdown",
   "id": "7cb7e0cc",
   "metadata": {},
   "source": [
    "### Graph Findings"
   ]
  },
  {
   "cell_type": "markdown",
   "id": "fcbe4dd1",
   "metadata": {},
   "source": [
    "- By the above graph it founds that, RED Cluster is OK, but Black Cluster having some others data poins e.g Green\n",
    "- Why this problem happens ? Ans: Because  of scaling problem, our data is not scaled properly before traing\n",
    "- Y-Axis : range from (40 - 160K) while X-Axis: Still pretty narrow (27 to 42) very dissimilar/ unsual range between axis\n",
    "- So, when you dont scaled your features properly, you may get such kind of problem, that why need some preprocessing (Scaling)\n",
    "- MinMaxScaler: it will try to scale make the range (0,1)"
   ]
  },
  {
   "cell_type": "markdown",
   "id": "779fcc33",
   "metadata": {},
   "source": [
    "# Feature Transformation"
   ]
  },
  {
   "cell_type": "code",
   "execution_count": 37,
   "id": "fb07bde8",
   "metadata": {},
   "outputs": [
    {
     "data": {
      "text/html": [
       "<div>\n",
       "<style scoped>\n",
       "    .dataframe tbody tr th:only-of-type {\n",
       "        vertical-align: middle;\n",
       "    }\n",
       "\n",
       "    .dataframe tbody tr th {\n",
       "        vertical-align: top;\n",
       "    }\n",
       "\n",
       "    .dataframe thead th {\n",
       "        text-align: right;\n",
       "    }\n",
       "</style>\n",
       "<table border=\"1\" class=\"dataframe\">\n",
       "  <thead>\n",
       "    <tr style=\"text-align: right;\">\n",
       "      <th></th>\n",
       "      <th>Name</th>\n",
       "      <th>Age</th>\n",
       "      <th>Income($)</th>\n",
       "      <th>cluster</th>\n",
       "    </tr>\n",
       "  </thead>\n",
       "  <tbody>\n",
       "    <tr>\n",
       "      <th>0</th>\n",
       "      <td>Michel</td>\n",
       "      <td>0.058824</td>\n",
       "      <td>0.213675</td>\n",
       "      <td>2</td>\n",
       "    </tr>\n",
       "    <tr>\n",
       "      <th>1</th>\n",
       "      <td>Pitter</td>\n",
       "      <td>0.176471</td>\n",
       "      <td>0.384615</td>\n",
       "      <td>2</td>\n",
       "    </tr>\n",
       "    <tr>\n",
       "      <th>2</th>\n",
       "      <td>John</td>\n",
       "      <td>0.176471</td>\n",
       "      <td>0.136752</td>\n",
       "      <td>1</td>\n",
       "    </tr>\n",
       "    <tr>\n",
       "      <th>3</th>\n",
       "      <td>Kitty</td>\n",
       "      <td>0.117647</td>\n",
       "      <td>0.128205</td>\n",
       "      <td>1</td>\n",
       "    </tr>\n",
       "    <tr>\n",
       "      <th>4</th>\n",
       "      <td>Nelson</td>\n",
       "      <td>0.941176</td>\n",
       "      <td>0.897436</td>\n",
       "      <td>0</td>\n",
       "    </tr>\n",
       "  </tbody>\n",
       "</table>\n",
       "</div>"
      ],
      "text/plain": [
       "     Name       Age  Income($)  cluster\n",
       "0  Michel  0.058824   0.213675        2\n",
       "1  Pitter  0.176471   0.384615        2\n",
       "2    John  0.176471   0.136752        1\n",
       "3   Kitty  0.117647   0.128205        1\n",
       "4  Nelson  0.941176   0.897436        0"
      ]
     },
     "execution_count": 37,
     "metadata": {},
     "output_type": "execute_result"
    }
   ],
   "source": [
    "# Transform Income\n",
    "scaler = MinMaxScaler()\n",
    "scaler.fit(df[['Income($)']])\n",
    "df[['Income($)']] = scaler.transform(df[['Income($)']]) # Now income is scaled (0,1)\n",
    "df.head()\n",
    "\n",
    "# Transform Age\n",
    "scaler.fit(df[['Age']])\n",
    "df[['Age']] = scaler.transform(df[['Age']])             # Age has been scaled\n",
    "df.head()\n"
   ]
  },
  {
   "cell_type": "markdown",
   "id": "1e235eb0",
   "metadata": {},
   "source": [
    "# Step 3: Train model with scaled data"
   ]
  },
  {
   "cell_type": "code",
   "execution_count": 38,
   "id": "b5b0ec3e",
   "metadata": {},
   "outputs": [
    {
     "data": {
      "text/plain": [
       "array([1, 1, 1, 1, 2, 2, 2, 2, 2, 2, 2, 1, 1, 1, 1, 1, 0, 0, 0, 0, 0, 0])"
      ]
     },
     "execution_count": 38,
     "metadata": {},
     "output_type": "execute_result"
    }
   ],
   "source": [
    "# Train Model\n",
    "km = KMeans(n_clusters=3)\n",
    "y_predicted = km.fit_predict(df[['Age', 'Income($)']])  # Train the model with scaled data\n",
    "y_predicted"
   ]
  },
  {
   "cell_type": "code",
   "execution_count": 40,
   "id": "281d3b36",
   "metadata": {},
   "outputs": [
    {
     "data": {
      "text/html": [
       "<div>\n",
       "<style scoped>\n",
       "    .dataframe tbody tr th:only-of-type {\n",
       "        vertical-align: middle;\n",
       "    }\n",
       "\n",
       "    .dataframe tbody tr th {\n",
       "        vertical-align: top;\n",
       "    }\n",
       "\n",
       "    .dataframe thead th {\n",
       "        text-align: right;\n",
       "    }\n",
       "</style>\n",
       "<table border=\"1\" class=\"dataframe\">\n",
       "  <thead>\n",
       "    <tr style=\"text-align: right;\">\n",
       "      <th></th>\n",
       "      <th>Name</th>\n",
       "      <th>Age</th>\n",
       "      <th>Income($)</th>\n",
       "      <th>Cluster2</th>\n",
       "    </tr>\n",
       "  </thead>\n",
       "  <tbody>\n",
       "    <tr>\n",
       "      <th>0</th>\n",
       "      <td>Michel</td>\n",
       "      <td>0.058824</td>\n",
       "      <td>0.213675</td>\n",
       "      <td>1</td>\n",
       "    </tr>\n",
       "    <tr>\n",
       "      <th>1</th>\n",
       "      <td>Pitter</td>\n",
       "      <td>0.176471</td>\n",
       "      <td>0.384615</td>\n",
       "      <td>1</td>\n",
       "    </tr>\n",
       "    <tr>\n",
       "      <th>2</th>\n",
       "      <td>John</td>\n",
       "      <td>0.176471</td>\n",
       "      <td>0.136752</td>\n",
       "      <td>1</td>\n",
       "    </tr>\n",
       "    <tr>\n",
       "      <th>3</th>\n",
       "      <td>Kitty</td>\n",
       "      <td>0.117647</td>\n",
       "      <td>0.128205</td>\n",
       "      <td>1</td>\n",
       "    </tr>\n",
       "    <tr>\n",
       "      <th>4</th>\n",
       "      <td>Nelson</td>\n",
       "      <td>0.941176</td>\n",
       "      <td>0.897436</td>\n",
       "      <td>2</td>\n",
       "    </tr>\n",
       "  </tbody>\n",
       "</table>\n",
       "</div>"
      ],
      "text/plain": [
       "     Name       Age  Income($)  Cluster2\n",
       "0  Michel  0.058824   0.213675         1\n",
       "1  Pitter  0.176471   0.384615         1\n",
       "2    John  0.176471   0.136752         1\n",
       "3   Kitty  0.117647   0.128205         1\n",
       "4  Nelson  0.941176   0.897436         2"
      ]
     },
     "execution_count": 40,
     "metadata": {},
     "output_type": "execute_result"
    }
   ],
   "source": [
    "df['Cluster2'] = y_predicted  # Cluster 2 add\n",
    "df.drop('cluster',axis='columns', inplace=True)  # Previous Cluster Dropped, now can go for scatter plot for better visualzation after scaled\n",
    "df.head()"
   ]
  },
  {
   "cell_type": "code",
   "execution_count": 49,
   "id": "e443f6bc",
   "metadata": {},
   "outputs": [
    {
     "data": {
      "text/plain": [
       "array([[0.85294118, 0.2022792 ],\n",
       "       [0.1372549 , 0.11633428],\n",
       "       [0.72268908, 0.8974359 ]])"
      ]
     },
     "execution_count": 49,
     "metadata": {},
     "output_type": "execute_result"
    }
   ],
   "source": [
    "km.cluster_centers_   # (value for x & y, e.g Age, Income)- 3 rows for 3 cluster, 1 row = 1st cluster, 2nd row = 2nd Cluster, 3rd row = 3rd Cluster"
   ]
  },
  {
   "cell_type": "code",
   "execution_count": 50,
   "id": "fec313ff",
   "metadata": {},
   "outputs": [
    {
     "data": {
      "image/png": "[encoded data removed]",
      "text/plain": [
       "<Figure size 432x288 with 1 Axes>"
      ]
     },
     "metadata": {
      "needs_background": "light"
     },
     "output_type": "display_data"
    }
   ],
   "source": [
    "df1 = df[df.Cluster2==0]\n",
    "df2 = df[df.Cluster2==1]\n",
    "df3 = df[df.Cluster2==2]\n",
    "\n",
    "plt.scatter(df1.Age, df1['Income($)'], color='green')\n",
    "plt.scatter(df2.Age, df2['Income($)'], color='red')\n",
    "plt.scatter(df3.Age, df3['Income($)'], color='black')\n",
    "\n",
    "plt.scatter(km.cluster_centers_[:,0], km.cluster_centers_[:,1], color='purple', marker='*', label='centroid') # Centroid Visualizatoin\n",
    "\n",
    "\n",
    "plt.title('Visualization after scaling')\n",
    "plt.xlabel('Age')\n",
    "plt.ylabel('Income')\n",
    "plt.legend('Income($)')\n",
    "plt.show()"
   ]
  },
  {
   "cell_type": "markdown",
   "id": "22c96f47",
   "metadata": {},
   "source": [
    "- plt.scatter(km.cluster_centers_[:,0], km.cluster_centers_[:,1]) :  [:,0] all the rows, 0 (1st col) [:,1] all the rows, 1 (2nd col)"
   ]
  },
  {
   "cell_type": "markdown",
   "id": "063cd45d",
   "metadata": {},
   "source": [
    "# Elbow Technique"
   ]
  },
  {
   "cell_type": "code",
   "execution_count": 58,
   "id": "74562676",
   "metadata": {},
   "outputs": [
    {
     "data": {
      "text/plain": [
       "[5.434011511988179,\n",
       " 2.091136388699078,\n",
       " 0.4750783498553097,\n",
       " 0.3491047094419566,\n",
       " 0.2621792762345213,\n",
       " 0.21055478995472496,\n",
       " 0.17462386586687895,\n",
       " 0.13706529523670868,\n",
       " 0.10497488680620909]"
      ]
     },
     "execution_count": 58,
     "metadata": {},
     "output_type": "execute_result"
    }
   ],
   "source": [
    "k_range = range(1,10)\n",
    "sse = []\n",
    "for k in k_range:\n",
    "    km = KMeans(n_clusters=k)\n",
    "    km.fit(df[['Age', 'Income($)']])\n",
    "    sse.append(km.inertia_)\n",
    "    \n",
    "sse"
   ]
  },
  {
   "cell_type": "code",
   "execution_count": 60,
   "id": "7f30c0fe",
   "metadata": {},
   "outputs": [
    {
     "data": {
      "image/png": "[encoded data removed]",
      "text/plain": [
       "<Figure size 432x288 with 1 Axes>"
      ]
     },
     "metadata": {
      "needs_background": "light"
     },
     "output_type": "display_data"
    }
   ],
   "source": [
    "plt.xlabel('K')\n",
    "plt.ylabel('Sum of Square Error')\n",
    "plt.plot(k_range, sse)\n",
    "plt.show()"
   ]
  }
 ],
 "metadata": {
  "kernelspec": {
   "display_name": "Python 3 (ipykernel)",
   "language": "python",
   "name": "python3"
  },
  "language_info": {
   "codemirror_mode": {
    "name": "ipython",
    "version": 3
   },
   "file_extension": ".py",
   "mimetype": "text/x-python",
   "name": "python",
   "nbconvert_exporter": "python",
   "pygments_lexer": "ipython3",
   "version": "3.9.12"
  }
 },
 "nbformat": 4,
 "nbformat_minor": 5
}
