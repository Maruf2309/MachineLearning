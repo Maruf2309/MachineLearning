{
 "cells": [
  {
   "cell_type": "markdown",
   "id": "9b492014",
   "metadata": {},
   "source": [
    "# Linear Regression - Simple Linear Regression"
   ]
  },
  {
   "cell_type": "markdown",
   "id": "b4140305",
   "metadata": {},
   "source": [
    "##### Ref: 1041001"
   ]
  },
  {
   "cell_type": "code",
   "execution_count": 1,
   "id": "80061c8a",
   "metadata": {},
   "outputs": [],
   "source": [
    "import numpy as np\n",
    "import pandas as pd\n",
    "import matplotlib.pyplot as plt"
   ]
  },
  {
   "cell_type": "code",
   "execution_count": 2,
   "id": "38fc8822",
   "metadata": {},
   "outputs": [
    {
     "data": {
      "text/html": [
       "<div>\n",
       "<style scoped>\n",
       "    .dataframe tbody tr th:only-of-type {\n",
       "        vertical-align: middle;\n",
       "    }\n",
       "\n",
       "    .dataframe tbody tr th {\n",
       "        vertical-align: top;\n",
       "    }\n",
       "\n",
       "    .dataframe thead th {\n",
       "        text-align: right;\n",
       "    }\n",
       "</style>\n",
       "<table border=\"1\" class=\"dataframe\">\n",
       "  <thead>\n",
       "    <tr style=\"text-align: right;\">\n",
       "      <th></th>\n",
       "      <th>area</th>\n",
       "      <th>rent</th>\n",
       "    </tr>\n",
       "  </thead>\n",
       "  <tbody>\n",
       "    <tr>\n",
       "      <th>0</th>\n",
       "      <td>2000</td>\n",
       "      <td>31500</td>\n",
       "    </tr>\n",
       "    <tr>\n",
       "      <th>1</th>\n",
       "      <td>2100</td>\n",
       "      <td>35000</td>\n",
       "    </tr>\n",
       "    <tr>\n",
       "      <th>2</th>\n",
       "      <td>2500</td>\n",
       "      <td>41050</td>\n",
       "    </tr>\n",
       "    <tr>\n",
       "      <th>3</th>\n",
       "      <td>2250</td>\n",
       "      <td>36100</td>\n",
       "    </tr>\n",
       "    <tr>\n",
       "      <th>4</th>\n",
       "      <td>3000</td>\n",
       "      <td>52100</td>\n",
       "    </tr>\n",
       "  </tbody>\n",
       "</table>\n",
       "</div>"
      ],
      "text/plain": [
       "   area   rent\n",
       "0  2000  31500\n",
       "1  2100  35000\n",
       "2  2500  41050\n",
       "3  2250  36100\n",
       "4  3000  52100"
      ]
     },
     "execution_count": 2,
     "metadata": {},
     "output_type": "execute_result"
    }
   ],
   "source": [
    "df = pd.read_csv('Dhaka Rent.csv.csv')\n",
    "df.head()"
   ]
  },
  {
   "cell_type": "code",
   "execution_count": 3,
   "id": "3e427607",
   "metadata": {},
   "outputs": [
    {
     "data": {
      "text/plain": [
       "(60, 2)"
      ]
     },
     "execution_count": 3,
     "metadata": {},
     "output_type": "execute_result"
    }
   ],
   "source": [
    "df.shape"
   ]
  },
  {
   "cell_type": "code",
   "execution_count": 4,
   "id": "5422e1b1",
   "metadata": {},
   "outputs": [
    {
     "name": "stdout",
     "output_type": "stream",
     "text": [
      "<class 'pandas.core.frame.DataFrame'>\n",
      "RangeIndex: 60 entries, 0 to 59\n",
      "Data columns (total 2 columns):\n",
      " #   Column  Non-Null Count  Dtype\n",
      "---  ------  --------------  -----\n",
      " 0   area    60 non-null     int64\n",
      " 1   rent    60 non-null     int64\n",
      "dtypes: int64(2)\n",
      "memory usage: 1.1 KB\n"
     ]
    }
   ],
   "source": [
    "df.info()"
   ]
  },
  {
   "cell_type": "code",
   "execution_count": 5,
   "id": "c58dea5a",
   "metadata": {},
   "outputs": [
    {
     "data": {
      "text/html": [
       "<div>\n",
       "<style scoped>\n",
       "    .dataframe tbody tr th:only-of-type {\n",
       "        vertical-align: middle;\n",
       "    }\n",
       "\n",
       "    .dataframe tbody tr th {\n",
       "        vertical-align: top;\n",
       "    }\n",
       "\n",
       "    .dataframe thead th {\n",
       "        text-align: right;\n",
       "    }\n",
       "</style>\n",
       "<table border=\"1\" class=\"dataframe\">\n",
       "  <thead>\n",
       "    <tr style=\"text-align: right;\">\n",
       "      <th></th>\n",
       "      <th>area</th>\n",
       "      <th>rent</th>\n",
       "    </tr>\n",
       "  </thead>\n",
       "  <tbody>\n",
       "    <tr>\n",
       "      <th>count</th>\n",
       "      <td>60.000000</td>\n",
       "      <td>60.000000</td>\n",
       "    </tr>\n",
       "    <tr>\n",
       "      <th>mean</th>\n",
       "      <td>2289.000000</td>\n",
       "      <td>37269.166667</td>\n",
       "    </tr>\n",
       "    <tr>\n",
       "      <th>std</th>\n",
       "      <td>538.880509</td>\n",
       "      <td>11770.736234</td>\n",
       "    </tr>\n",
       "    <tr>\n",
       "      <th>min</th>\n",
       "      <td>1200.000000</td>\n",
       "      <td>20000.000000</td>\n",
       "    </tr>\n",
       "    <tr>\n",
       "      <th>25%</th>\n",
       "      <td>1900.000000</td>\n",
       "      <td>31000.000000</td>\n",
       "    </tr>\n",
       "    <tr>\n",
       "      <th>50%</th>\n",
       "      <td>2130.000000</td>\n",
       "      <td>34450.000000</td>\n",
       "    </tr>\n",
       "    <tr>\n",
       "      <th>75%</th>\n",
       "      <td>2700.000000</td>\n",
       "      <td>47625.000000</td>\n",
       "    </tr>\n",
       "    <tr>\n",
       "      <th>max</th>\n",
       "      <td>3500.000000</td>\n",
       "      <td>70500.000000</td>\n",
       "    </tr>\n",
       "  </tbody>\n",
       "</table>\n",
       "</div>"
      ],
      "text/plain": [
       "              area          rent\n",
       "count    60.000000     60.000000\n",
       "mean   2289.000000  37269.166667\n",
       "std     538.880509  11770.736234\n",
       "min    1200.000000  20000.000000\n",
       "25%    1900.000000  31000.000000\n",
       "50%    2130.000000  34450.000000\n",
       "75%    2700.000000  47625.000000\n",
       "max    3500.000000  70500.000000"
      ]
     },
     "execution_count": 5,
     "metadata": {},
     "output_type": "execute_result"
    }
   ],
   "source": [
    "df.describe()"
   ]
  },
  {
   "cell_type": "code",
   "execution_count": 6,
   "id": "bc6bdf07",
   "metadata": {},
   "outputs": [
    {
     "data": {
      "text/plain": [
       "<matplotlib.collections.PathCollection at 0x17e2c421340>"
      ]
     },
     "execution_count": 6,
     "metadata": {},
     "output_type": "execute_result"
    },
    {
     "data": {
      "image/png": "[encoded data removed]",
      "text/plain": [
       "<Figure size 432x288 with 1 Axes>"
      ]
     },
     "metadata": {
      "needs_background": "light"
     },
     "output_type": "display_data"
    }
   ],
   "source": [
    "plt.scatter(df.area, df.rent, color='red')"
   ]
  },
  {
   "cell_type": "code",
   "execution_count": 7,
   "id": "8dec0a11",
   "metadata": {},
   "outputs": [
    {
     "data": {
      "text/plain": [
       "Text(0.5, 1.0, 'Rent in Bangladesh')"
      ]
     },
     "execution_count": 7,
     "metadata": {},
     "output_type": "execute_result"
    },
    {
     "data": {
      "image/png": "[encoded data removed]",
      "text/plain": [
       "<Figure size 432x288 with 1 Axes>"
      ]
     },
     "metadata": {
      "needs_background": "light"
     },
     "output_type": "display_data"
    }
   ],
   "source": [
    "plt.scatter(df.area, df.rent, color='blue', marker='+')\n",
    "plt.xlabel('Area in Sqft')\n",
    "plt.ylabel('Rent in BDT')\n",
    "plt.title('Rent in Bangladesh', loc='center')"
   ]
  },
  {
   "cell_type": "code",
   "execution_count": 8,
   "id": "eff9ba3e",
   "metadata": {},
   "outputs": [
    {
     "data": {
      "text/plain": [
       "Text(0.5, 1.0, 'Rent in Bangladesh')"
      ]
     },
     "execution_count": 8,
     "metadata": {},
     "output_type": "execute_result"
    },
    {
     "data": {
      "image/png": "[encoded data removed]",
      "text/plain": [
       "<Figure size 432x288 with 1 Axes>"
      ]
     },
     "metadata": {
      "needs_background": "light"
     },
     "output_type": "display_data"
    }
   ],
   "source": [
    "plt.scatter(df['area'] , df['rent'],marker='+')\n",
    "plt.xlabel('Area in SqFt')\n",
    "plt.ylabel('Rent in BDT')\n",
    "plt.title('Rent in Bangladesh')"
   ]
  },
  {
   "cell_type": "code",
   "execution_count": 9,
   "id": "981bec31",
   "metadata": {},
   "outputs": [
    {
     "data": {
      "text/plain": [
       "Text(0.0, 1.0, 'Rent in Bangladesh')"
      ]
     },
     "execution_count": 9,
     "metadata": {},
     "output_type": "execute_result"
    },
    {
     "data": {
      "image/png": "[encoded data removed]",
      "text/plain": [
       "<Figure size 864x576 with 1 Axes>"
      ]
     },
     "metadata": {
      "needs_background": "light"
     },
     "output_type": "display_data"
    }
   ],
   "source": [
    "plt.figure(figsize=(12,8))\n",
    "plt.scatter(df['area'] , df['rent'],marker='+')\n",
    "plt.xlabel('Area in SqFt')\n",
    "plt.ylabel('Rent in BDT')\n",
    "plt.title('Rent in Bangladesh', loc='left')"
   ]
  },
  {
   "cell_type": "code",
   "execution_count": 10,
   "id": "ceab1c86",
   "metadata": {},
   "outputs": [
    {
     "data": {
      "text/plain": [
       "60"
      ]
     },
     "execution_count": 10,
     "metadata": {},
     "output_type": "execute_result"
    }
   ],
   "source": [
    "len(df.area)"
   ]
  },
  {
   "cell_type": "markdown",
   "id": "58c7ac9b",
   "metadata": {},
   "source": [
    "## Variable Declaration"
   ]
  },
  {
   "cell_type": "markdown",
   "id": "cdb1d81c",
   "metadata": {},
   "source": [
    "- Selecting Independent & Dependent variables"
   ]
  },
  {
   "cell_type": "code",
   "execution_count": 11,
   "id": "5c202a6a",
   "metadata": {},
   "outputs": [],
   "source": [
    "x = df[['area']] # Ind Var:: Alternative : x = df.drop('rent', axis=1)  # Feature always 2D [[]], otherwise it will return error\n",
    "y = df['rent']  # Dep Var"
   ]
  },
  {
   "cell_type": "code",
   "execution_count": 12,
   "id": "d91ddff9",
   "metadata": {},
   "outputs": [
    {
     "data": {
      "text/html": [
       "<div>\n",
       "<style scoped>\n",
       "    .dataframe tbody tr th:only-of-type {\n",
       "        vertical-align: middle;\n",
       "    }\n",
       "\n",
       "    .dataframe tbody tr th {\n",
       "        vertical-align: top;\n",
       "    }\n",
       "\n",
       "    .dataframe thead th {\n",
       "        text-align: right;\n",
       "    }\n",
       "</style>\n",
       "<table border=\"1\" class=\"dataframe\">\n",
       "  <thead>\n",
       "    <tr style=\"text-align: right;\">\n",
       "      <th></th>\n",
       "      <th>area</th>\n",
       "      <th>rent</th>\n",
       "    </tr>\n",
       "  </thead>\n",
       "  <tbody>\n",
       "    <tr>\n",
       "      <th>0</th>\n",
       "      <td>2000</td>\n",
       "      <td>31500</td>\n",
       "    </tr>\n",
       "    <tr>\n",
       "      <th>1</th>\n",
       "      <td>2100</td>\n",
       "      <td>35000</td>\n",
       "    </tr>\n",
       "    <tr>\n",
       "      <th>2</th>\n",
       "      <td>2500</td>\n",
       "      <td>41050</td>\n",
       "    </tr>\n",
       "    <tr>\n",
       "      <th>3</th>\n",
       "      <td>2250</td>\n",
       "      <td>36100</td>\n",
       "    </tr>\n",
       "    <tr>\n",
       "      <th>4</th>\n",
       "      <td>3000</td>\n",
       "      <td>52100</td>\n",
       "    </tr>\n",
       "  </tbody>\n",
       "</table>\n",
       "</div>"
      ],
      "text/plain": [
       "   area   rent\n",
       "0  2000  31500\n",
       "1  2100  35000\n",
       "2  2500  41050\n",
       "3  2250  36100\n",
       "4  3000  52100"
      ]
     },
     "execution_count": 12,
     "metadata": {},
     "output_type": "execute_result"
    }
   ],
   "source": [
    "df.head()"
   ]
  },
  {
   "cell_type": "markdown",
   "id": "a42fdac8",
   "metadata": {},
   "source": [
    "# Split the data"
   ]
  },
  {
   "cell_type": "code",
   "execution_count": 13,
   "id": "3495b2e0",
   "metadata": {},
   "outputs": [],
   "source": [
    "from sklearn.model_selection import train_test_split\n",
    "xtrain, xtest, ytrain, ytest = train_test_split(x, y, train_size=.70, random_state=1) # 30% data will be kept to testing"
   ]
  },
  {
   "cell_type": "code",
   "execution_count": 14,
   "id": "90ade457",
   "metadata": {},
   "outputs": [
    {
     "name": "stdout",
     "output_type": "stream",
     "text": [
      "Train Set Size(xtrain):  (42, 1)\n",
      "Test Set Size(xtest) :  (18, 1)\n"
     ]
    }
   ],
   "source": [
    "# data (60)  x                         [42+18 = 60]\n",
    "print(f\"Train Set Size(xtrain): \",xtrain.shape)    # 60 x .70 = 42\n",
    "print(f\"Test Set Size(xtest) : \",xtest.shape)      # 60 x .30 = 18"
   ]
  },
  {
   "cell_type": "code",
   "execution_count": 15,
   "id": "d24d132d",
   "metadata": {},
   "outputs": [
    {
     "name": "stdout",
     "output_type": "stream",
     "text": [
      "(42,)\n",
      "(18,)\n"
     ]
    }
   ],
   "source": [
    "print (ytrain.shape)\n",
    "print (ytest.shape)"
   ]
  },
  {
   "cell_type": "code",
   "execution_count": 16,
   "id": "86edaf02",
   "metadata": {},
   "outputs": [
    {
     "data": {
      "text/html": [
       "<div>\n",
       "<style scoped>\n",
       "    .dataframe tbody tr th:only-of-type {\n",
       "        vertical-align: middle;\n",
       "    }\n",
       "\n",
       "    .dataframe tbody tr th {\n",
       "        vertical-align: top;\n",
       "    }\n",
       "\n",
       "    .dataframe thead th {\n",
       "        text-align: right;\n",
       "    }\n",
       "</style>\n",
       "<table border=\"1\" class=\"dataframe\">\n",
       "  <thead>\n",
       "    <tr style=\"text-align: right;\">\n",
       "      <th></th>\n",
       "      <th>area</th>\n",
       "    </tr>\n",
       "  </thead>\n",
       "  <tbody>\n",
       "    <tr>\n",
       "      <th>52</th>\n",
       "      <td>3500</td>\n",
       "    </tr>\n",
       "    <tr>\n",
       "      <th>19</th>\n",
       "      <td>2700</td>\n",
       "    </tr>\n",
       "    <tr>\n",
       "      <th>42</th>\n",
       "      <td>2100</td>\n",
       "    </tr>\n",
       "    <tr>\n",
       "      <th>56</th>\n",
       "      <td>2750</td>\n",
       "    </tr>\n",
       "    <tr>\n",
       "      <th>17</th>\n",
       "      <td>1550</td>\n",
       "    </tr>\n",
       "  </tbody>\n",
       "</table>\n",
       "</div>"
      ],
      "text/plain": [
       "    area\n",
       "52  3500\n",
       "19  2700\n",
       "42  2100\n",
       "56  2750\n",
       "17  1550"
      ]
     },
     "execution_count": 16,
     "metadata": {},
     "output_type": "execute_result"
    }
   ],
   "source": [
    "xtrain.head()"
   ]
  },
  {
   "cell_type": "code",
   "execution_count": 17,
   "id": "28e053dc",
   "metadata": {},
   "outputs": [
    {
     "data": {
      "text/plain": [
       "52    70500\n",
       "19    47000\n",
       "42    34700\n",
       "56    48500\n",
       "17    21000\n",
       "Name: rent, dtype: int64"
      ]
     },
     "execution_count": 17,
     "metadata": {},
     "output_type": "execute_result"
    }
   ],
   "source": [
    "ytrain.head()"
   ]
  },
  {
   "cell_type": "code",
   "execution_count": 18,
   "id": "5fd82371",
   "metadata": {},
   "outputs": [
    {
     "data": {
      "text/html": [
       "<div>\n",
       "<style scoped>\n",
       "    .dataframe tbody tr th:only-of-type {\n",
       "        vertical-align: middle;\n",
       "    }\n",
       "\n",
       "    .dataframe tbody tr th {\n",
       "        vertical-align: top;\n",
       "    }\n",
       "\n",
       "    .dataframe thead th {\n",
       "        text-align: right;\n",
       "    }\n",
       "</style>\n",
       "<table border=\"1\" class=\"dataframe\">\n",
       "  <thead>\n",
       "    <tr style=\"text-align: right;\">\n",
       "      <th></th>\n",
       "      <th>area</th>\n",
       "    </tr>\n",
       "  </thead>\n",
       "  <tbody>\n",
       "    <tr>\n",
       "      <th>39</th>\n",
       "      <td>2100</td>\n",
       "    </tr>\n",
       "    <tr>\n",
       "      <th>41</th>\n",
       "      <td>2100</td>\n",
       "    </tr>\n",
       "    <tr>\n",
       "      <th>2</th>\n",
       "      <td>2500</td>\n",
       "    </tr>\n",
       "    <tr>\n",
       "      <th>48</th>\n",
       "      <td>1800</td>\n",
       "    </tr>\n",
       "    <tr>\n",
       "      <th>50</th>\n",
       "      <td>2110</td>\n",
       "    </tr>\n",
       "  </tbody>\n",
       "</table>\n",
       "</div>"
      ],
      "text/plain": [
       "    area\n",
       "39  2100\n",
       "41  2100\n",
       "2   2500\n",
       "48  1800\n",
       "50  2110"
      ]
     },
     "execution_count": 18,
     "metadata": {},
     "output_type": "execute_result"
    }
   ],
   "source": [
    "xtest.head()"
   ]
  },
  {
   "cell_type": "markdown",
   "id": "88747e97",
   "metadata": {},
   "source": [
    "# Model"
   ]
  },
  {
   "cell_type": "code",
   "execution_count": 19,
   "id": "b5930c31",
   "metadata": {},
   "outputs": [],
   "source": [
    "# Import Model\n",
    "from sklearn.linear_model import LinearRegression\n",
    "lr = LinearRegression()"
   ]
  },
  {
   "cell_type": "code",
   "execution_count": 20,
   "id": "9ea00e1d",
   "metadata": {},
   "outputs": [
    {
     "data": {
      "text/plain": [
       "LinearRegression()"
      ]
     },
     "execution_count": 20,
     "metadata": {},
     "output_type": "execute_result"
    }
   ],
   "source": [
    "# Train / Fit the Model\n",
    "lr.fit(xtrain, ytrain)   #train the ML model ; xtrain=x ; ytrain=y, for training xtrain & ytrain contain x & y values"
   ]
  },
  {
   "cell_type": "code",
   "execution_count": 21,
   "id": "7173e555",
   "metadata": {},
   "outputs": [
    {
     "data": {
      "text/plain": [
       "array([21.71038918])"
      ]
     },
     "execution_count": 21,
     "metadata": {},
     "output_type": "execute_result"
    }
   ],
   "source": [
    "lr.coef_"
   ]
  },
  {
   "cell_type": "code",
   "execution_count": 22,
   "id": "2f8d2ad4",
   "metadata": {},
   "outputs": [
    {
     "data": {
      "text/plain": [
       "-12534.955985461369"
      ]
     },
     "execution_count": 22,
     "metadata": {},
     "output_type": "execute_result"
    }
   ],
   "source": [
    "lr.intercept_"
   ]
  },
  {
   "cell_type": "code",
   "execution_count": 23,
   "id": "fe1e9b7b",
   "metadata": {},
   "outputs": [],
   "source": [
    "# y = mx + c   or  y = wx + b\n",
    "m = lr.coef_\n",
    "c = lr.intercept_"
   ]
  },
  {
   "cell_type": "markdown",
   "id": "053200e0",
   "metadata": {},
   "source": [
    "# Prediction"
   ]
  },
  {
   "cell_type": "markdown",
   "id": "f6bc8d49",
   "metadata": {},
   "source": [
    "### Prediction by Formula / Manual Method  Y = MX + C"
   ]
  },
  {
   "cell_type": "code",
   "execution_count": 24,
   "id": "1c991c0e",
   "metadata": {},
   "outputs": [
    {
     "data": {
      "text/plain": [
       "array([20030.62777778])"
      ]
     },
     "execution_count": 24,
     "metadata": {},
     "output_type": "execute_result"
    }
   ],
   "source": [
    "x = 1500   # any value can be passed\n",
    "y = (m * x) + c\n",
    "y"
   ]
  },
  {
   "cell_type": "markdown",
   "id": "6577454c",
   "metadata": {},
   "source": [
    "### Prediction Created Model / Function"
   ]
  },
  {
   "cell_type": "code",
   "execution_count": 25,
   "id": "838dd249",
   "metadata": {},
   "outputs": [
    {
     "data": {
      "text/plain": [
       "array([20030.62777778])"
      ]
     },
     "execution_count": 25,
     "metadata": {},
     "output_type": "execute_result"
    }
   ],
   "source": [
    "lr.predict([[1500]])"
   ]
  },
  {
   "cell_type": "code",
   "execution_count": 26,
   "id": "ad3a8c25",
   "metadata": {},
   "outputs": [
    {
     "data": {
      "text/plain": [
       "array([30885.82236552, 33056.86128307, 41741.01695327, 36313.4196594 ,\n",
       "       52596.21154101, 28714.78344797, 20030.62777778, 27629.2639892 ,\n",
       "       46083.09478837, 33056.86128307, 34142.38074185, 33056.86128307,\n",
       "       33056.86128307, 41958.12084502, 36313.4196594 , 54767.25045856,\n",
       "       26543.74453042, 21116.14723655, 26543.74453042, 46083.09478837,\n",
       "       33273.96517483, 33056.86128307, 63451.40612876, 13517.51102513,\n",
       "       48254.13370592, 54767.25045856, 47168.61424714, 26543.74453042,\n",
       "       35227.90020062, 54767.25045856, 33056.86128307, 33056.86128307,\n",
       "       41741.01695327, 36313.4196594 , 52596.21154101, 28714.78344797,\n",
       "       20030.62777778, 27629.2639892 , 46083.09478837, 33056.86128307,\n",
       "       34142.38074185, 33056.86128307, 33056.86128307, 41958.12084502,\n",
       "       36313.4196594 , 54767.25045856, 26543.74453042, 21116.14723655,\n",
       "       26543.74453042, 46083.09478837, 33273.96517483, 33056.86128307,\n",
       "       63451.40612876, 13517.51102513, 48254.13370592, 54767.25045856,\n",
       "       47168.61424714, 26543.74453042, 35227.90020062, 54767.25045856])"
      ]
     },
     "execution_count": 26,
     "metadata": {},
     "output_type": "execute_result"
    }
   ],
   "source": [
    "# Rent Prediction on Full data regardless train & test  > there will be 60 prediction\n",
    "lr.predict(df[['area']])"
   ]
  },
  {
   "cell_type": "code",
   "execution_count": 27,
   "id": "910225e1",
   "metadata": {},
   "outputs": [
    {
     "data": {
      "text/html": [
       "<div>\n",
       "<style scoped>\n",
       "    .dataframe tbody tr th:only-of-type {\n",
       "        vertical-align: middle;\n",
       "    }\n",
       "\n",
       "    .dataframe tbody tr th {\n",
       "        vertical-align: top;\n",
       "    }\n",
       "\n",
       "    .dataframe thead th {\n",
       "        text-align: right;\n",
       "    }\n",
       "</style>\n",
       "<table border=\"1\" class=\"dataframe\">\n",
       "  <thead>\n",
       "    <tr style=\"text-align: right;\">\n",
       "      <th></th>\n",
       "      <th>area</th>\n",
       "      <th>rent</th>\n",
       "      <th>Predicted Rent</th>\n",
       "    </tr>\n",
       "  </thead>\n",
       "  <tbody>\n",
       "    <tr>\n",
       "      <th>0</th>\n",
       "      <td>2000</td>\n",
       "      <td>31500</td>\n",
       "      <td>30885.822366</td>\n",
       "    </tr>\n",
       "    <tr>\n",
       "      <th>1</th>\n",
       "      <td>2100</td>\n",
       "      <td>35000</td>\n",
       "      <td>33056.861283</td>\n",
       "    </tr>\n",
       "    <tr>\n",
       "      <th>2</th>\n",
       "      <td>2500</td>\n",
       "      <td>41050</td>\n",
       "      <td>41741.016953</td>\n",
       "    </tr>\n",
       "    <tr>\n",
       "      <th>3</th>\n",
       "      <td>2250</td>\n",
       "      <td>36100</td>\n",
       "      <td>36313.419659</td>\n",
       "    </tr>\n",
       "    <tr>\n",
       "      <th>4</th>\n",
       "      <td>3000</td>\n",
       "      <td>52100</td>\n",
       "      <td>52596.211541</td>\n",
       "    </tr>\n",
       "  </tbody>\n",
       "</table>\n",
       "</div>"
      ],
      "text/plain": [
       "   area   rent  Predicted Rent\n",
       "0  2000  31500    30885.822366\n",
       "1  2100  35000    33056.861283\n",
       "2  2500  41050    41741.016953\n",
       "3  2250  36100    36313.419659\n",
       "4  3000  52100    52596.211541"
      ]
     },
     "execution_count": 27,
     "metadata": {},
     "output_type": "execute_result"
    }
   ],
   "source": [
    "df['Predicted Rent'] = lr.predict(df[['area']])\n",
    "df.head()  # Actual Rent (rent) vs \"Predicted Rent\""
   ]
  },
  {
   "cell_type": "markdown",
   "id": "19726916",
   "metadata": {},
   "source": [
    "### Findings"
   ]
  },
  {
   "cell_type": "markdown",
   "id": "25fe488c",
   "metadata": {},
   "source": [
    "- Now Differce between actual vs predited is to be considered as Error and when the total error calculated will be called as \"COST\""
   ]
  },
  {
   "cell_type": "code",
   "execution_count": 28,
   "id": "98457e64",
   "metadata": {},
   "outputs": [
    {
     "data": {
      "text/plain": [
       "array([33384.58154627, 33384.58154627, 41181.08890194, 27537.20102952,\n",
       "       33579.49423016, 36308.27180465, 36308.27180465, 29486.32786844,\n",
       "       34359.14496573, 27537.20102952, 47028.46941869, 15842.43999601,\n",
       "       27537.20102952, 36308.27180465, 46053.90599923, 21689.82051277,\n",
       "       33384.58154627, 34359.14496573])"
      ]
     },
     "execution_count": 28,
     "metadata": {},
     "output_type": "execute_result"
    }
   ],
   "source": [
    "# Prediction on test values (18 prediction)\n",
    "lr.fit(xtest, ytest)\n",
    "testing = lr.predict(xtest) # xtest actual return ytest\n",
    "testing"
   ]
  },
  {
   "cell_type": "code",
   "execution_count": 29,
   "id": "df192044",
   "metadata": {},
   "outputs": [
    {
     "data": {
      "text/plain": [
       "39    31500\n",
       "41    32020\n",
       "2     41050\n",
       "48    25500\n",
       "50    31000\n",
       "44    35000\n",
       "33    35100\n",
       "35    32300\n",
       "40    34400\n",
       "27    25000\n",
       "24    50000\n",
       "53    20100\n",
       "46    30000\n",
       "3     36100\n",
       "26    48000\n",
       "36    20200\n",
       "21    33500\n",
       "10    34500\n",
       "Name: rent, dtype: int64"
      ]
     },
     "execution_count": 29,
     "metadata": {},
     "output_type": "execute_result"
    }
   ],
   "source": [
    "# Actual test values (18 actual values)\n",
    "ytest\n",
    "\n",
    "# Testing Error = testing - ytest"
   ]
  },
  {
   "cell_type": "markdown",
   "id": "85dddaa0",
   "metadata": {},
   "source": [
    "# Evaluation"
   ]
  },
  {
   "cell_type": "markdown",
   "id": "c5a00a36",
   "metadata": {},
   "source": [
    "#### MSE - Error Calcuatrion - Testing"
   ]
  },
  {
   "cell_type": "code",
   "execution_count": 30,
   "id": "9bd93170",
   "metadata": {},
   "outputs": [
    {
     "data": {
      "text/plain": [
       "4048209.6570558036"
      ]
     },
     "execution_count": 30,
     "metadata": {},
     "output_type": "execute_result"
    }
   ],
   "source": [
    "from sklearn.metrics import mean_squared_error\n",
    "mse = mean_squared_error(ytest, lr.predict(xtest))\n",
    "mse"
   ]
  },
  {
   "cell_type": "markdown",
   "id": "a57ba6e7",
   "metadata": {},
   "source": [
    "#### MAE - Error Calcuatrion - Testing"
   ]
  },
  {
   "cell_type": "code",
   "execution_count": 31,
   "id": "b04a1399",
   "metadata": {},
   "outputs": [
    {
     "data": {
      "text/plain": [
       "1638.753801153473"
      ]
     },
     "execution_count": 31,
     "metadata": {},
     "output_type": "execute_result"
    }
   ],
   "source": [
    "from sklearn.metrics import mean_absolute_error\n",
    "mse = mean_absolute_error(ytest, lr.predict(xtest))\n",
    "mse"
   ]
  },
  {
   "cell_type": "code",
   "execution_count": 32,
   "id": "90d89641",
   "metadata": {},
   "outputs": [
    {
     "name": "stdout",
     "output_type": "stream",
     "text": [
      "[50926.72309653]\n",
      "[479734.62765833]\n"
     ]
    }
   ],
   "source": [
    "# Random Prediction\n",
    "print (lr.predict([[3000]]))\n",
    "print(lr.predict([[25000]]))"
   ]
  },
  {
   "cell_type": "markdown",
   "id": "c90b06ca",
   "metadata": {},
   "source": [
    "# Visualization- Best Fit Line"
   ]
  },
  {
   "cell_type": "code",
   "execution_count": 33,
   "id": "d22302c2",
   "metadata": {},
   "outputs": [
    {
     "data": {
      "image/png": "[encoded data removed]",
      "text/plain": [
       "<Figure size 864x576 with 1 Axes>"
      ]
     },
     "metadata": {
      "needs_background": "light"
     },
     "output_type": "display_data"
    }
   ],
   "source": [
    "# Visualization with xtest data\n",
    "plt.figure(figsize=(12,8))\n",
    "plt.scatter(df['area'], df['rent'], marker='+')  # Actual\n",
    "plt.plot(xtest, lr.predict(xtest), color='red')  # Prediction\n",
    "plt.xlabel('Area in Sqft')\n",
    "plt.ylabel('Rent in BDT')\n",
    "plt.title('Rent in Bangladesh')\n",
    "plt.show()"
   ]
  },
  {
   "cell_type": "code",
   "execution_count": 34,
   "id": "55cf33cf",
   "metadata": {},
   "outputs": [
    {
     "data": {
      "text/plain": [
       "array([60672.35729111])"
      ]
     },
     "execution_count": 34,
     "metadata": {},
     "output_type": "execute_result"
    }
   ],
   "source": [
    "lr.predict([[3500]])"
   ]
  },
  {
   "cell_type": "code",
   "execution_count": 35,
   "id": "851d7777",
   "metadata": {},
   "outputs": [
    {
     "data": {
      "image/png": "[encoded data removed]",
      "text/plain": [
       "<Figure size 864x576 with 1 Axes>"
      ]
     },
     "metadata": {
      "needs_background": "light"
     },
     "output_type": "display_data"
    }
   ],
   "source": [
    "# Visualization with all data\n",
    "plt.figure(figsize=(12,8))\n",
    "plt.scatter(df['area'], df['rent'], marker='o')                   # Actual\n",
    "plt.plot(df[['area']], lr.predict(df[['area']]), color='purple')  # Prediction by all data, for all must work on 'area'\n",
    "plt.xlabel('Area in Sqft')\n",
    "plt.ylabel('Rent in BDT')\n",
    "plt.title('Rent Prediction by all Data', loc='left')\n",
    "plt.show()"
   ]
  },
  {
   "cell_type": "markdown",
   "id": "e4678136",
   "metadata": {},
   "source": [
    "#### Accuracy"
   ]
  },
  {
   "cell_type": "code",
   "execution_count": 36,
   "id": "43de1c65",
   "metadata": {},
   "outputs": [
    {
     "data": {
      "text/plain": [
       "0.9317968633780175"
      ]
     },
     "execution_count": 36,
     "metadata": {},
     "output_type": "execute_result"
    }
   ],
   "source": [
    "lr.score(xtest, ytest) # R Squred Value - test data"
   ]
  },
  {
   "cell_type": "code",
   "execution_count": 37,
   "id": "8f43d209",
   "metadata": {},
   "outputs": [
    {
     "data": {
      "text/plain": [
       "0.9431522770273515"
      ]
     },
     "execution_count": 37,
     "metadata": {},
     "output_type": "execute_result"
    }
   ],
   "source": [
    "lr.score(df[['area']], df.rent)  # R Squred value - full dataset"
   ]
  },
  {
   "cell_type": "code",
   "execution_count": 38,
   "id": "98f56c91",
   "metadata": {},
   "outputs": [
    {
     "data": {
      "text/plain": [
       "0.9411024500830101"
      ]
     },
     "execution_count": 38,
     "metadata": {},
     "output_type": "execute_result"
    }
   ],
   "source": [
    "lr.score(xtrain, ytrain) # R Squred value - Train Data"
   ]
  }
 ],
 "metadata": {
  "kernelspec": {
   "display_name": "Python 3 (ipykernel)",
   "language": "python",
   "name": "python3"
  },
  "language_info": {
   "codemirror_mode": {
    "name": "ipython",
    "version": 3
   },
   "file_extension": ".py",
   "mimetype": "text/x-python",
   "name": "python",
   "nbconvert_exporter": "python",
   "pygments_lexer": "ipython3",
   "version": "3.9.7"
  }
 },
 "nbformat": 4,
 "nbformat_minor": 5
}
