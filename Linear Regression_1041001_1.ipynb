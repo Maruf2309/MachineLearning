{
 "cells": [
  {
   "cell_type": "markdown",
   "id": "8748cb72",
   "metadata": {},
   "source": [
    "### Linear Regression 10410001(1)"
   ]
  },
  {
   "cell_type": "markdown",
   "id": "32817650",
   "metadata": {},
   "source": [
    "#### Import Saved Model (Pickle)  with New Notebook & Predict:"
   ]
  },
  {
   "cell_type": "code",
   "execution_count": 1,
   "id": "534f0dd8",
   "metadata": {},
   "outputs": [
    {
     "data": {
      "text/plain": [
       "array([50926.72309653])"
      ]
     },
     "execution_count": 1,
     "metadata": {},
     "output_type": "execute_result"
    }
   ],
   "source": [
    "# A. Import Libraby Pickle\n",
    "import pickle as pk\n",
    "\n",
    "# B. Load Binar Files from same directory\n",
    "with open ('LR1','rb') as files:\n",
    "    lr3 = pk.load(files)\n",
    "    \n",
    "# Prediction by Saved/Binary Files\n",
    "lr3.predict([[3000]])"
   ]
  },
  {
   "cell_type": "markdown",
   "id": "8e377d8a",
   "metadata": {},
   "source": [
    "1. This is a new notebook in which imported saved files (Binary files by Pickle) and set for prediction"
   ]
  },
  {
   "cell_type": "markdown",
   "id": "81f21c8e",
   "metadata": {},
   "source": [
    "### B. Read Saved Model from Differnt Directory"
   ]
  },
  {
   "cell_type": "markdown",
   "id": "0c094d96",
   "metadata": {},
   "source": [
    "- Steps: General Operating Process for all\n",
    "1. Check current directory\n",
    "2. Need to change current working directory first where kept your saved models\n",
    "3. After changing current working directory then files can be read"
   ]
  },
  {
   "cell_type": "code",
   "execution_count": 2,
   "id": "688836c8",
   "metadata": {},
   "outputs": [
    {
     "name": "stdout",
     "output_type": "stream",
     "text": [
      "C:\\Users\\Maruf\\Documents\\ML\\Supervised\\LinearRegression2\n"
     ]
    }
   ],
   "source": [
    "# Check Currnet Working Directory\n",
    "# Import os Libaray\n",
    "import os\n",
    "\n",
    "# Check Current Working Directory -1st Stage\n",
    "# print(os.getcwd())\n",
    "\n",
    "# Change Current Woring Directory \n",
    "# os.chdir('copy file file path')   # Syntax\n",
    "os.chdir('C:\\\\Users\\\\Maruf\\\\Documents\\\\ML\\\\Supervised\\\\LinearRegression2')  # double forward slash (\\\\) is mandatory for copy\n",
    "# Check Current Working Directory -2nd Stage\n",
    "print(os.getcwd())"
   ]
  },
  {
   "cell_type": "code",
   "execution_count": 3,
   "id": "3cb4d7e9",
   "metadata": {},
   "outputs": [
    {
     "data": {
      "text/html": [
       "<div>\n",
       "<style scoped>\n",
       "    .dataframe tbody tr th:only-of-type {\n",
       "        vertical-align: middle;\n",
       "    }\n",
       "\n",
       "    .dataframe tbody tr th {\n",
       "        vertical-align: top;\n",
       "    }\n",
       "\n",
       "    .dataframe thead th {\n",
       "        text-align: right;\n",
       "    }\n",
       "</style>\n",
       "<table border=\"1\" class=\"dataframe\">\n",
       "  <thead>\n",
       "    <tr style=\"text-align: right;\">\n",
       "      <th></th>\n",
       "      <th>x</th>\n",
       "      <th>y</th>\n",
       "    </tr>\n",
       "  </thead>\n",
       "  <tbody>\n",
       "    <tr>\n",
       "      <th>0</th>\n",
       "      <td>39</td>\n",
       "      <td>2100</td>\n",
       "    </tr>\n",
       "    <tr>\n",
       "      <th>1</th>\n",
       "      <td>41</td>\n",
       "      <td>2100</td>\n",
       "    </tr>\n",
       "    <tr>\n",
       "      <th>2</th>\n",
       "      <td>2</td>\n",
       "      <td>2500</td>\n",
       "    </tr>\n",
       "    <tr>\n",
       "      <th>3</th>\n",
       "      <td>48</td>\n",
       "      <td>1800</td>\n",
       "    </tr>\n",
       "    <tr>\n",
       "      <th>4</th>\n",
       "      <td>50</td>\n",
       "      <td>2110</td>\n",
       "    </tr>\n",
       "  </tbody>\n",
       "</table>\n",
       "</div>"
      ],
      "text/plain": [
       "    x     y\n",
       "0  39  2100\n",
       "1  41  2100\n",
       "2   2  2500\n",
       "3  48  1800\n",
       "4  50  2110"
      ]
     },
     "execution_count": 3,
     "metadata": {},
     "output_type": "execute_result"
    }
   ],
   "source": [
    "# import libray\n",
    "import pandas as pd\n",
    "\n",
    "df1 = pd.read_csv('sample_data.csv')\n",
    "df1.head()"
   ]
  },
  {
   "cell_type": "markdown",
   "id": "e16228aa",
   "metadata": {},
   "source": [
    "### B. Read Saved Model from Different Directory"
   ]
  },
  {
   "cell_type": "code",
   "execution_count": 4,
   "id": "1f95e50c",
   "metadata": {},
   "outputs": [
    {
     "data": {
      "text/plain": [
       "array([50926.72309653])"
      ]
     },
     "execution_count": 4,
     "metadata": {},
     "output_type": "execute_result"
    }
   ],
   "source": [
    "with open ('Linear_Regression_Model_LR1','rb') as files:\n",
    "    lr4 = pk.load(files)\n",
    "    \n",
    "# Prediction by Saved/Binary Files imported from other directory\n",
    "lr4.predict([[3000]])"
   ]
  },
  {
   "cell_type": "code",
   "execution_count": 5,
   "id": "41175fba",
   "metadata": {},
   "outputs": [],
   "source": [
    "import warnings as wr\n",
    "wr.filterwarnings('ignore')"
   ]
  },
  {
   "cell_type": "markdown",
   "id": "8f2921ab",
   "metadata": {},
   "source": [
    "### C. Saved Model At a time"
   ]
  },
  {
   "cell_type": "code",
   "execution_count": 7,
   "id": "85455f18",
   "metadata": {},
   "outputs": [
    {
     "data": {
      "text/plain": [
       "array([50926.72309653])"
      ]
     },
     "execution_count": 7,
     "metadata": {},
     "output_type": "execute_result"
    }
   ],
   "source": [
    "# Saved Model at a time\n",
    "pk.dump(lr3, open('lr3','wb'))   # write Binary, Save\n",
    "lr3 = pk.load(open('lr3','rb')) # read Binary, load & read\n",
    "lr3.predict([['3000']])         # Predict"
   ]
  },
  {
   "cell_type": "code",
   "execution_count": null,
   "id": "8907dad8",
   "metadata": {},
   "outputs": [],
   "source": []
  }
 ],
 "metadata": {
  "kernelspec": {
   "display_name": "Python 3 (ipykernel)",
   "language": "python",
   "name": "python3"
  },
  "language_info": {
   "codemirror_mode": {
    "name": "ipython",
    "version": 3
   },
   "file_extension": ".py",
   "mimetype": "text/x-python",
   "name": "python",
   "nbconvert_exporter": "python",
   "pygments_lexer": "ipython3",
   "version": "3.9.7"
  }
 },
 "nbformat": 4,
 "nbformat_minor": 5
}
